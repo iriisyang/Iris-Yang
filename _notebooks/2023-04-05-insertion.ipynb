{
 "cells": [
  {
   "cell_type": "markdown",
   "metadata": {},
   "source": [
    "# \"Big O Sorts\"\n",
    "> \"number of comparisons, number of swaps, big o complexity, and total time for insertion sort\"\n",
    "\n",
    "- toc: true\n",
    "- branch: master\n",
    "- badges: true\n",
    "- comments: true\n",
    "- author: Iris Yang\n",
    "- categories:[class]"
   ]
  },
  {
   "cell_type": "code",
   "execution_count": 25,
   "metadata": {
    "vscode": {
     "languageId": "java"
    }
   },
   "outputs": [
    {
     "name": "stdout",
     "output_type": "stream",
     "text": [
      "Average time taken: 6 ms\n",
      "Average comparisons: 6262900\n",
      "Average swaps: 6267899\n"
     ]
    }
   ],
   "source": [
    "public class InsertionSort {\n",
    "\n",
    "    public int comparisons = 0; \n",
    "    public int swaps = 0;\n",
    "\n",
    "    public static void main(String[] args) {\n",
    "\n",
    "        long start = 0; //\n",
    "        long end = 0;\n",
    "\n",
    "        // create a new InsertionSort object\n",
    "        InsertionSort insertionSort = new InsertionSort();\n",
    "\n",
    "        for (int i=0;i<12;i++) {\n",
    "        // generate 5000 random elements\n",
    "            int[] array = new int[5000];\n",
    "            for (int j=0;j<5000;j++) {\n",
    "            array[j] = (int)(Math.random()*10000);\n",
    "            }\n",
    "            // sort the array\n",
    "            start += System.currentTimeMillis();\n",
    "            insertionSort.sort(array);\n",
    "            end += System.currentTimeMillis();\n",
    "        } \n",
    "        // get average\n",
    "        System.out.println(\"Average time taken: \" + (end-start)/12 + \" ms\");\n",
    "        System.out.println(\"Average comparisons: \" + insertionSort.comparisons/12);\n",
    "        System.out.println(\"Average swaps: \" + insertionSort.swaps/12);\n",
    "    }\n",
    "\n",
    "    public void sort(int[] numbers) {\n",
    "        for (int i = 1; i < numbers.length; ++i) {\n",
    "            int key = numbers[i];\n",
    "            int j = i - 1;\n",
    "    \n",
    "            while (j >= 0 && numbers[j] > key) {\n",
    "                numbers[j + 1] = numbers[j];\n",
    "                j = j - 1;\n",
    "                this.comparisons++;\n",
    "                this.swaps++;\n",
    "            }\n",
    "            numbers[j + 1] = key;\n",
    "            this.swaps++;\n",
    "        }\n",
    "    }\n",
    "}\n",
    "\n",
    "InsertionSort.main(null);"
   ]
  },
  {
   "cell_type": "code",
   "execution_count": 30,
   "metadata": {
    "vscode": {
     "languageId": "java"
    }
   },
   "outputs": [
    {
     "name": "stdout",
     "output_type": "stream",
     "text": [
      "Average time taken: 11 ms\n",
      "Average comparisons: 55214\n",
      "Average swaps: 27073\n"
     ]
    }
   ],
   "source": [
    "public class MergeSort {\n",
    "\n",
    "    public int comparisons = 0;\n",
    "    public int swaps = 0;\n",
    "\n",
    "    public static void main(String[] args) {\n",
    "\n",
    "        long start = 0;\n",
    "        long end = 0;\n",
    "\n",
    "        // create a new MergeSort object\n",
    "        MergeSort mergeSort = new MergeSort();\n",
    "\n",
    "        for (int i=0;i<12;i++) {\n",
    "        // generate 5000 random elements\n",
    "            int[] array = new int[5000];\n",
    "            for (int j=0;j<5000;j++) {\n",
    "            array[j] = (int)(Math.random()*10000);\n",
    "            }\n",
    "            // sort the array\n",
    "            start += System.currentTimeMillis();\n",
    "            mergeSort.sort(array);\n",
    "            end += System.currentTimeMillis();\n",
    "        } \n",
    "        // get average\n",
    "        System.out.println(\"Average time taken: \" + (end-start)/12 + \" ms\");\n",
    "        System.out.println(\"Average comparisons: \" + mergeSort.comparisons/12);\n",
    "        System.out.println(\"Average swaps: \" + mergeSort.swaps/12);\n",
    "    }\n",
    "\n",
    "    public void sort(int[] arr) {\n",
    "        if (arr.length <= 1) {\n",
    "            return;\n",
    "        }\n",
    "        // Divide the array in half\n",
    "        int mid = arr.length / 2;\n",
    "        int[] left = Arrays.copyOfRange(arr, 0, mid);\n",
    "        int[] right = Arrays.copyOfRange(arr, mid, arr.length);\n",
    "        // Recursively sort each half\n",
    "        sort(left);\n",
    "        sort(right);\n",
    "        // Merge the sorted halves\n",
    "        int i = 0, j = 0, k = 0;\n",
    "        while (i < left.length && j < right.length) {\n",
    "            this.comparisons++;\n",
    "            if (left[i] <= right[j]) {\n",
    "                this.swaps++;\n",
    "                arr[k++] = left[i++];\n",
    "            } else {\n",
    "                arr[k++] = right[j++];\n",
    "            }\n",
    "        }\n",
    "        // Copy remaining elements from left or right subarray\n",
    "        while (i < left.length) {\n",
    "            arr[k++] = left[i++];\n",
    "        }\n",
    "        while (j < right.length) {\n",
    "            arr[k++] = right[j++];\n",
    "        }\n",
    "    }\n",
    "}\n",
    "MergeSort.main(null);"
   ]
  }
 ],
 "metadata": {
  "kernelspec": {
   "display_name": "Java",
   "language": "java",
   "name": "java"
  },
  "language_info": {
   "codemirror_mode": "java",
   "file_extension": ".jshell",
   "mimetype": "text/x-java-source",
   "name": "Java",
   "pygments_lexer": "java",
   "version": "17.0.4+8"
  },
  "orig_nbformat": 4
 },
 "nbformat": 4,
 "nbformat_minor": 2
}
