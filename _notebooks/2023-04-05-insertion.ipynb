{
 "cells": [
  {
   "cell_type": "markdown",
   "metadata": {},
   "source": [
    "# \"Insertion Sort\"\n",
    "> \"number of comparisons, number of swaps, big o complexity, and total time for insertion sort\"\n",
    "\n",
    "- toc: true\n",
    "- branch: master\n",
    "- badges: true\n",
    "- comments: true\n",
    "- author: Iris Yang\n",
    "- categories:[class]"
   ]
  },
  {
   "cell_type": "code",
   "execution_count": 13,
   "metadata": {
    "vscode": {
     "languageId": "java"
    }
   },
   "outputs": [
    {
     "name": "stdout",
     "output_type": "stream",
     "text": [
      "Average time taken: 10 ms\n",
      "Average comparisons: 6255709\n",
      "Average swaps: 6260708\n"
     ]
    }
   ],
   "source": [
    "public class InsertionSort {\n",
    "\n",
    "    public int comparisons = 0;\n",
    "    public int swaps = 0;\n",
    "\n",
    "    public static void main(String[] args) {\n",
    "\n",
    "        long start = 0;\n",
    "        long end = 0;\n",
    "\n",
    "        // create a new InsertionSort object\n",
    "        InsertionSort insertionSort = new InsertionSort();\n",
    "\n",
    "        for (int i=0;i<12;i++) {\n",
    "        // generate 5000 random elements\n",
    "            int[] array = new int[5000];\n",
    "            for (int j=0;j<5000;j++) {\n",
    "            array[j] = (int)(Math.random()*10000);\n",
    "            }\n",
    "            // sort the array\n",
    "            start += System.currentTimeMillis();\n",
    "            insertionSort.sort(array);\n",
    "            end += System.currentTimeMillis();\n",
    "        } \n",
    "        // get average\n",
    "        System.out.println(\"Average time taken: \" + (end-start)/12 + \" ms\");\n",
    "        System.out.println(\"Average comparisons: \" + insertionSort.comparisons/12);\n",
    "        System.out.println(\"Average swaps: \" + insertionSort.swaps/12);\n",
    "    }\n",
    "\n",
    "    public void sort(int[] numbers) {\n",
    "        for (int i = 1; i < numbers.length; ++i) {\n",
    "            int key = numbers[i];\n",
    "            int j = i - 1;\n",
    "    \n",
    "            while (j >= 0 && numbers[j] > key) {\n",
    "                numbers[j + 1] = numbers[j];\n",
    "                j = j - 1;\n",
    "                this.comparisons++;\n",
    "                this.swaps++;\n",
    "            }\n",
    "            numbers[j + 1] = key;\n",
    "            this.swaps++;\n",
    "        }\n",
    "    }\n",
    "}\n",
    "\n",
    "InsertionSort.main(null);"
   ]
  }
 ],
 "metadata": {
  "kernelspec": {
   "display_name": "Java",
   "language": "java",
   "name": "java"
  },
  "language_info": {
   "codemirror_mode": "java",
   "file_extension": ".jshell",
   "mimetype": "text/x-java-source",
   "name": "Java",
   "pygments_lexer": "java",
   "version": "17.0.4+8"
  },
  "orig_nbformat": 4
 },
 "nbformat": 4,
 "nbformat_minor": 2
}
