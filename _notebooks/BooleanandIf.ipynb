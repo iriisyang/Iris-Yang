{
 "cells": [
  {
   "cell_type": "markdown",
   "metadata": {},
   "source": [
    "# \"Boolean Expressions and If Statements\"\n",
    "> \"if, if else statements, switch-case, and De Morgan's law\"\n",
    "\n",
    "- toc: true\n",
    "- branch: master\n",
    "- badges: true\n",
    "- comments: true\n",
    "- author: Iris Yang\n",
    "- categories: [class]"
   ]
  },
  {
   "cell_type": "markdown",
   "metadata": {},
   "source": [
    "## If Statements\n",
    "\n",
    "Code within an if statement if the condition presented is true."
   ]
  },
  {
   "cell_type": "code",
   "execution_count": 14,
   "metadata": {},
   "outputs": [
    {
     "name": "stdout",
     "output_type": "stream",
     "text": [
      "woohoo! youngest champion since 1990!"
     ]
    }
   ],
   "source": [
    "boolean alcaraz=true;\n",
    "if (alcaraz=true){ //if Alcaraz wins the US Open mens final\n",
    "    System.out.print(\"woohoo! youngest champion since 1990!\"); //Alcaraz will become the US open champion since \n",
    "}"
   ]
  },
  {
   "cell_type": "markdown",
   "metadata": {},
   "source": [
    "## If-else Statements\n",
    "\n",
    "Code within an if statement will execute if the condition is true, otherwise the code within the else statement will execute."
   ]
  },
  {
   "cell_type": "code",
   "execution_count": 18,
   "metadata": {},
   "outputs": [
    {
     "name": "stdout",
     "output_type": "stream",
     "text": [
      "woohoo! alcaraz is youngest champion since 1990!"
     ]
    }
   ],
   "source": [
    "boolean alcaraz=true;\n",
    "if (alcaraz=true){ //if Alcaraz wins the US Open mens final\n",
    "    System.out.print(\"woohoo! alcaraz is youngest champion since 1990!\"); //Alcaraz will become the youngest US open champion since Sampras\n",
    "}\n",
    "else { //otherwise (if Alcaraz loses)\n",
    "    System.out.print(\"Ruud is the first US open champion from Norway!!\"); //Ruud will become the first major champion winner from Norway\n",
    "}"
   ]
  },
  {
   "cell_type": "markdown",
   "metadata": {},
   "source": [
    "## Else-if Statements\n",
    "\n",
    "First condition checked with the if statement, if not true, check for condition in the else-if statement and execute if true. Finally, if first two conditions are false, check the else statement and execute code within."
   ]
  },
  {
   "cell_type": "code",
   "execution_count": 20,
   "metadata": {},
   "outputs": [
    {
     "name": "stdout",
     "output_type": "stream",
     "text": [
      "a hike in the wild wild wilderness"
     ]
    }
   ],
   "source": [
    "int temp=15;\n",
    "if (temp<=10) { //if the temperature is less than or equal to 10 degrees following will output\n",
    "    System.out.print(\"snuggle up with hot tea and watch the Sound of Music\");\n",
    "}\n",
    "else if (temp>10 && temp<=25) {//if the temperature if greater than 10 degreed but less than or equal to 25 degrees following will output\n",
    "    System.out.print(\"a hike in the wild wild wilderness\");\n",
    "}\n",
    "else { //any other temperature (greater than 25 degrees) will output\n",
    "    System.out.print(\"beach day!\");\n",
    "}"
   ]
  },
  {
   "cell_type": "markdown",
   "metadata": {},
   "source": [
    "## 5 Condition If"
   ]
  },
  {
   "cell_type": "code",
   "execution_count": 4,
   "metadata": {},
   "outputs": [
    {
     "name": "stdout",
     "output_type": "stream",
     "text": [
      "What time is it? \n",
      "Good Night, Sweet Dreams!"
     ]
    }
   ],
   "source": [
    "import java.util.Scanner;\n",
    "\n",
    "public class Greetings {\n",
    "    public static void main(String[] args) {\n",
    "        String userInputStr;\n",
    "        double time;\n",
    "        Scanner inputStream = new Scanner(System.in);\n",
    "\n",
    "        System.out.print(\"What time is it? \\n\");\n",
    "        userInputStr = inputStream.nextLine();\n",
    "        time = Double.parseDouble(userInputStr);\n",
    "\n",
    "        if (time>=6 && time<=10) {\n",
    "            System.out.print(\"Good Morning Sunshine!\");\n",
    "        }\n",
    "        else if (time>10 && time<=13) {\n",
    "            System.out.print(\"Lunch Time!\");\n",
    "        }\n",
    "        else if (time>13 && time<=17) {\n",
    "            System.out.print(\"Good Afternoon!\");\n",
    "        }\n",
    "        else if (time>17 && time<=20) {\n",
    "            System.out.print(\"Dinner Time!\");\n",
    "        }\n",
    "        else {\n",
    "            System.out.print(\"Good Night, Sweet Dreams!\");\n",
    "        }\n",
    "    }\n",
    "}\n",
    "\n",
    "Greetings.main(null);"
   ]
  },
  {
   "cell_type": "markdown",
   "metadata": {},
   "source": [
    "## Switch Code\n",
    "\n",
    "The switch expression is evaluated once and value of the expression is compared with the values of each case. If there is a match, the associated block of code is executed."
   ]
  },
  {
   "cell_type": "code",
   "execution_count": 11,
   "metadata": {},
   "outputs": [
    {
     "name": "stdout",
     "output_type": "stream",
     "text": [
      "Thursday\n"
     ]
    }
   ],
   "source": [
    "import java.util.Scanner;\n",
    "\n",
    "public class Day {\n",
    "    public void go() {\n",
    "        Scanner scan = new Scanner(System.in);\n",
    "        int day = scan.nextInt();\n",
    "\n",
    "        switch (day) {\n",
    "            case 1: // case 1, if matches print following\n",
    "              System.out.println(\"Monday\");\n",
    "              break;\n",
    "            case 2:\n",
    "              System.out.println(\"Tuesday\");\n",
    "              break;\n",
    "            case 3:\n",
    "              System.out.println(\"Wednesday\");\n",
    "              break;\n",
    "            case 4:\n",
    "              System.out.println(\"Thursday\");\n",
    "              break;\n",
    "            case 5:\n",
    "              System.out.println(\"Friday\");\n",
    "              break;\n",
    "            case 6:\n",
    "              System.out.println(\"Saturday\");\n",
    "              break;\n",
    "            case 7:\n",
    "              System.out.println(\"Sunday\");\n",
    "              break;\n",
    "            default: // other cases print out following\n",
    "              System.out.println(\"That is not a day of the week\");\n",
    "          }\n",
    "    }\n",
    "\n",
    "    public static void main(String[] args) {\n",
    "        Day cond = new Day();\n",
    "        cond.go();\n",
    "    }\n",
    "}\n",
    "\n",
    "Day.main(null);"
   ]
  },
  {
   "cell_type": "markdown",
   "metadata": {},
   "source": [
    "## De Morgan's Law\n",
    "\n",
    "Writing two statements that mean the same thing. Not is indicated with the \"!\" symbol\n",
    "\n",
    "Not (a and b) is the same as Not (a) or Not (b)\n",
    "\n",
    "!(a && b) = !a || !b\n",
    "\n",
    "Not (a or b) is the same Not (a) and Not (b)\n",
    "\n",
    "!(a||b) = !a && !b"
   ]
  },
  {
   "cell_type": "code",
   "execution_count": 6,
   "metadata": {},
   "outputs": [
    {
     "name": "stdout",
     "output_type": "stream",
     "text": [
      "1 does not equal 2\n"
     ]
    }
   ],
   "source": [
    "if (!((1 == 1) && (1 == 2))) { // if either 1 does not equal 1 or 1 does not equal 2, will print\n",
    "    System.out.println(\"1 does not equal 2\");\n",
    "}\n",
    "else {\n",
    "    System.out.println (\"a miracle has occurred\");\n",
    "}"
   ]
  },
  {
   "cell_type": "code",
   "execution_count": 8,
   "metadata": {},
   "outputs": [
    {
     "name": "stdout",
     "output_type": "stream",
     "text": [
      "1 does equal 1\n"
     ]
    }
   ],
   "source": [
    "if (!((1 == 1) || (1 == 2))) { // if 1 is equal to 1 or equal to 2 will print\n",
    "    System.out.println(\"a miracle has occurred\");\n",
    "}\n",
    "else {\n",
    "    System.out.println (\"1 does equal 1\");\n",
    "}"
   ]
  },
  {
   "cell_type": "markdown",
   "metadata": {},
   "source": [
    "## Resources Used\n",
    "\n",
    "https://www.w3schools.com/java/java_conditions.asp\n",
    "\n",
    "https://runestone.academy/ns/books/published/csjava/Unit3-If-Statements/topic-3-6-DeMorgan.html#:~:text=In%20Java%2C%20De%20Morgan's%20Laws,b \n",
    "\n",
    "\n"
   ]
  }
 ],
 "metadata": {
  "kernelspec": {
   "display_name": "Java",
   "language": "java",
   "name": "java"
  },
  "language_info": {
   "codemirror_mode": "java",
   "file_extension": ".jshell",
   "mimetype": "text/x-java-source",
   "name": "java",
   "pygments_lexer": "java",
   "version": "17.0.4+8"
  },
  "orig_nbformat": 4,
  "vscode": {
   "interpreter": {
    "hash": "b0fa6594d8f4cbf19f97940f81e996739fb7646882a419484c72d19e05852a7e"
   }
  }
 },
 "nbformat": 4,
 "nbformat_minor": 2
}
