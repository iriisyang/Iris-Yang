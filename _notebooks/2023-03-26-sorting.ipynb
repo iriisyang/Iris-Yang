{
 "cells": [
  {
   "cell_type": "markdown",
   "metadata": {},
   "source": [
    "# \"Sorting\"\n",
    "> \"methods of sorting\"\n",
    "\n",
    "- toc: true\n",
    "- branch: master\n",
    "- badges: true\n",
    "- comments: true\n",
    "- author: Iris Yang\n",
    "- categories:[class]"
   ]
  },
  {
   "cell_type": "markdown",
   "metadata": {},
   "source": [
    "## Selection Sort\n",
    "- goes through array and finds minimum value\n",
    "- movies minimum to front and switches the first value with the minimum\n",
    "- n^2"
   ]
  },
  {
   "cell_type": "code",
   "execution_count": 7,
   "metadata": {},
   "outputs": [
    {
     "name": "stdout",
     "output_type": "stream",
     "text": [
      "Original turtle heights: [62, 46, 29, 17, 62]\n",
      "Sorted turtle heights: [17, 29, 46, 62, 62]\n"
     ]
    }
   ],
   "source": [
    "import java.util.Arrays;\n",
    "import java.util.Random;\n",
    "\n",
    "public class SelectionSortTurtles {\n",
    "    public static void main(String[] args) {\n",
    "        // Create an array with 5 random values\n",
    "        int[] arr = new int[5];\n",
    "        Random rand = new Random();\n",
    "        for (int i = 0; i < arr.length; i++) {\n",
    "            arr[i] = rand.nextInt(100); // Generate a random integer between 0 and 99\n",
    "        }\n",
    "\n",
    "        // Output the original array\n",
    "        System.out.println(\"Original turtle heights: \" + Arrays.toString(arr));\n",
    "\n",
    "        // Sort the array using selection sort\n",
    "        selectionSort(arr);\n",
    "\n",
    "        // Output the sorted array\n",
    "        System.out.println(\"Sorted turtle heights: \" + Arrays.toString(arr));\n",
    "    }\n",
    "\n",
    "    public static void selectionSort(int[] arr) {\n",
    "        int n = arr.length;\n",
    "        // One by one move boundary of unsorted subarray\n",
    "        for (int i = 0; i < n-1; i++) {\n",
    "            // Find the minimum element in unsorted array\n",
    "            int minIndex = i;\n",
    "            for (int j = i+1; j < n; j++) {\n",
    "                if (arr[j] < arr[minIndex]) {\n",
    "                    minIndex = j;\n",
    "                }\n",
    "            }\n",
    "            // Swap the found minimum element with the first element\n",
    "            int temp = arr[minIndex];\n",
    "            arr[minIndex] = arr[i];\n",
    "            arr[i] = temp;\n",
    "        }\n",
    "    }\n",
    "}\n",
    "\n",
    "SelectionSortTurtles.main(null);"
   ]
  },
  {
   "cell_type": "markdown",
   "metadata": {},
   "source": [
    "## Insertion Sort\n",
    "- first for loop goes through elements finding smallest value\n",
    "- while loop goes backwards to find smaller value and inserts after it\n",
    "- n^2"
   ]
  },
  {
   "cell_type": "code",
   "execution_count": 8,
   "metadata": {},
   "outputs": [
    {
     "name": "stdout",
     "output_type": "stream",
     "text": [
      "Original turtle heights: [72, 3, 50, 79, 80]\n",
      "Sorted turtle heights: [3, 50, 72, 79, 80]\n"
     ]
    }
   ],
   "source": [
    "import java.util.Arrays;\n",
    "import java.util.Random;\n",
    "\n",
    "public class InsertionSortTurtles {\n",
    "    public static void main(String[] args) {\n",
    "        // Create an array with 5 random values\n",
    "        int[] arr = new int[5];\n",
    "        Random rand = new Random();\n",
    "        for (int i = 0; i < arr.length; i++) {\n",
    "            arr[i] = rand.nextInt(100); // Generate a random integer between 0 and 99\n",
    "        }\n",
    "\n",
    "        // Output the original array\n",
    "        System.out.println(\"Original turtle heights: \" + Arrays.toString(arr));\n",
    "\n",
    "        // Sort the array using insertion sort\n",
    "        insertionSort(arr);\n",
    "\n",
    "        // Output the sorted array\n",
    "        System.out.println(\"Sorted turtle heights: \" + Arrays.toString(arr));\n",
    "    }\n",
    "\n",
    "    public static void insertionSort(int[] arr) {\n",
    "        int n = arr.length;\n",
    "        for (int i = 1; i < n; i++) {\n",
    "            int key = arr[i];\n",
    "            int j = i - 1;\n",
    "            // Move elements of arr[0..i-1], that are greater than key, to one position ahead of their current position\n",
    "            while (j >= 0 && arr[j] > key) {\n",
    "                arr[j+1] = arr[j];\n",
    "                j--;\n",
    "            }\n",
    "            arr[j+1] = key;\n",
    "        }\n",
    "    }\n",
    "}\n",
    "InsertionSortTurtles.main(null);"
   ]
  },
  {
   "cell_type": "markdown",
   "metadata": {},
   "source": [
    "## Merge Sort\n",
    "- divide values into two groups repeatedly until only two elements to compare\n",
    "- recombines in sorted method"
   ]
  },
  {
   "cell_type": "code",
   "execution_count": 9,
   "metadata": {},
   "outputs": [
    {
     "name": "stdout",
     "output_type": "stream",
     "text": [
      "Original turtle heights: [47, 29, 75, 58, 57]\n",
      "Sorted turtle heights: [29, 47, 57, 58, 75]\n"
     ]
    }
   ],
   "source": [
    "import java.util.Arrays;\n",
    "import java.util.Random;\n",
    "\n",
    "public class MergeSortTurtles {\n",
    "    public static void main(String[] args) {\n",
    "        // Create an array with 5 random values\n",
    "        int[] arr = new int[5];\n",
    "        Random rand = new Random();\n",
    "        for (int i = 0; i < arr.length; i++) {\n",
    "            arr[i] = rand.nextInt(100); // Generate a random integer between 0 and 99\n",
    "        }\n",
    "\n",
    "        // Output the original array\n",
    "        System.out.println(\"Original turtle heights: \" + Arrays.toString(arr));\n",
    "\n",
    "        // Sort the array using merge sort\n",
    "        mergeSort(arr, 0, arr.length-1);\n",
    "\n",
    "        // Output the sorted array\n",
    "        System.out.println(\"Sorted turtle heights: \" + Arrays.toString(arr));\n",
    "    }\n",
    "\n",
    "    public static void mergeSort(int[] arr, int left, int right) {\n",
    "        if (left < right) {\n",
    "            int mid = (left + right) / 2;\n",
    "            mergeSort(arr, left, mid);\n",
    "            mergeSort(arr, mid+1, right);\n",
    "            merge(arr, left, mid, right);\n",
    "        }\n",
    "    }\n",
    "\n",
    "    public static void merge(int[] arr, int left, int mid, int right) {\n",
    "        int n1 = mid - left + 1;\n",
    "        int n2 = right - mid;\n",
    "        int[] L = new int[n1];\n",
    "        int[] R = new int[n2];\n",
    "        for (int i = 0; i < n1; i++) {\n",
    "            L[i] = arr[left + i];\n",
    "        }\n",
    "        for (int j = 0; j < n2; j++) {\n",
    "            R[j] = arr[mid + 1 + j];\n",
    "        }\n",
    "        int i = 0, j = 0, k = left;\n",
    "        while (i < n1 && j < n2) {\n",
    "            if (L[i] <= R[j]) {\n",
    "                arr[k] = L[i];\n",
    "                i++;\n",
    "            } else {\n",
    "                arr[k] = R[j];\n",
    "                j++;\n",
    "            }\n",
    "            k++;\n",
    "        }\n",
    "        while (i < n1) {\n",
    "            arr[k] = L[i];\n",
    "            i++;\n",
    "            k++;\n",
    "        }\n",
    "        while (j < n2) {\n",
    "            arr[k] = R[j];\n",
    "            j++;\n",
    "            k++;\n",
    "        }\n",
    "    }\n",
    "}\n",
    "\n",
    "MergeSortTurtles.main(null);"
   ]
  }
 ],
 "metadata": {
  "kernelspec": {
   "display_name": "Java",
   "language": "java",
   "name": "java"
  },
  "language_info": {
   "codemirror_mode": "java",
   "file_extension": ".jshell",
   "mimetype": "text/x-java-source",
   "name": "java",
   "pygments_lexer": "java",
   "version": "17.0.4+8"
  },
  "orig_nbformat": 4,
  "vscode": {
   "interpreter": {
    "hash": "b0fa6594d8f4cbf19f97940f81e996739fb7646882a419484c72d19e05852a7e"
   }
  }
 },
 "nbformat": 4,
 "nbformat_minor": 2
}
