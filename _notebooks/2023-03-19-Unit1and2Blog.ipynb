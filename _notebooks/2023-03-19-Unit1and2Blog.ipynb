{
 "cells": [
  {
   "cell_type": "markdown",
   "metadata": {},
   "source": [
    "# \"Unit 1 and 2 Ideas\"\n",
    "> \"ideas for how to incorporate units 1 and 2 into our lessons + cars\"\n",
    "\n",
    "- toc: true\n",
    "- branch: master\n",
    "- badges: true\n",
    "- comments: true\n",
    "- author: Iris Yang\n",
    "- categories:[project]"
   ]
  },
  {
   "cell_type": "markdown",
   "metadata": {},
   "source": [
    "## Unit 1: Primitive Types\n",
    "\n",
    "- primitive: int, double, boolean\n",
    "    - variable store data\n",
    "- import scanner to add user input\n",
    "- +: addition symbol \n",
    "    - used to add two numbers.\n",
    "- -: subtraction symbol \n",
    "    - used to subtract two numbers.\n",
    "- *: multiplication symbol \n",
    "    - used to multiply two numbers.\n",
    "- /: division symbol \n",
    "    - used to divide two numbers.\n",
    "- %: modulo operator \n",
    "    - used to find the remainder of the division of two numbers.\n",
    "- compound operators\n",
    "    - a = a + 1 same as a += 1 or age ++\n",
    "- casting to change between different data types\n",
    "\n",
    "- used in calculating the price of a car\n",
    "    - add different features with different prices \n",
    "- getting on highway 2 cars at a time\n",
    "    - total cars gotten on highway is car += 2\n",
    "- casting can be used for estimates\n",
    "    - take the true speed of the car as double round to int to show driver without too much confusion/too many numbers\n"
   ]
  },
  {
   "cell_type": "markdown",
   "metadata": {},
   "source": [
    "## Unit 2: Using Objects\n",
    "\n",
    "- objects: reference types\n",
    "    - reference to stored data\n",
    "- class: defines object\n",
    "- constructor: makes the data that will be stored in object\n",
    "- method made up of five parts: the scope, the return type, the name, the parameters, the body\n",
    "    - scope: public/private - who can access code\n",
    "    - return type: void (nothing is returned)\n",
    "    - name: name of method\n",
    "    - parameters: what is added to the constructor (the data)\n",
    "    - body: what the method does\n",
    "- math class\n",
    "    - abs(int a): absolute value of the argument as an int or double, depending on whether you put in an int or double into the argument\n",
    "    - pow(double a, double b): value of a raised to the power of b as a double\n",
    "    - sqrt(double a): square root of the argument as a double\n",
    "    - random(): s a random number between 0 (inclusive) and 1 (exclusive) as a double\n",
    "\n",
    "\n",
    "- constructor that creates different features to be stores in an objects\n",
    "    - Car(String brand, String model, int year) Car flash = new Car(\"BMW\", \"X7\", 2023);\n",
    "- use math class find acceleration - positive or negative\n"
   ]
  }
 ],
 "metadata": {
  "kernelspec": {
   "display_name": "Java",
   "language": "java",
   "name": "java"
  },
  "language_info": {
   "name": "java",
   "version": "3.10.9"
  },
  "orig_nbformat": 4,
  "vscode": {
   "interpreter": {
    "hash": "b0fa6594d8f4cbf19f97940f81e996739fb7646882a419484c72d19e05852a7e"
   }
  }
 },
 "nbformat": 4,
 "nbformat_minor": 2
}
