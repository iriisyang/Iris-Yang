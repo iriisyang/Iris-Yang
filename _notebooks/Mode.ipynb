{
 "cells": [
  {
   "cell_type": "markdown",
   "metadata": {},
   "source": [
    "# \"Mode Calculator\"\n",
    "> \"calculate mode of a set of numbers\"\n",
    "\n",
    "- toc:true\n",
    "- branch: master\n",
    "- badges: true\n",
    "- comments: true\n",
    "- author: Iris Yang\n",
    "- categories: [java code]"
   ]
  },
  {
   "cell_type": "code",
   "execution_count": 47,
   "metadata": {
    "vscode": {
     "languageId": "java"
    }
   },
   "outputs": [
    {
     "name": "stdout",
     "output_type": "stream",
     "text": [
      "how many values would you like to find the mode of?\n",
      "enter value: 1.0\n",
      "enter value: 2.0\n",
      "enter value: 1.0\n",
      "enter value: 1.0\n",
      "enter value: 1.0\n",
      "the mode is 1.0"
     ]
    }
   ],
   "source": [
    "import java.util.Scanner;\n",
    "\n",
    "public class ModeCalculator {\n",
    "    public static void main(String[] args) {\n",
    "        String userInputStr;\n",
    "        double mode, maxValue;\n",
    "        int numofNum;\n",
    "        Scanner inputStream = new Scanner(System.in);\n",
    "\n",
    "        System.out.print(\"how many values would you like to find the mode of?\");\n",
    "        userInputStr = inputStream.nextLine();\n",
    "        numofNum = Integer.parseInt(userInputStr);\n",
    "\n",
    "        double[] nums = new double [numofNum]; //creates array with doubles, numofNum number of values in the array\n",
    "        for (int i=0; i < numofNum; i++) \n",
    "        {\n",
    "            System.out.print(\"\\nenter value: \");\n",
    "            userInputStr = inputStream.nextLine();\n",
    "            nums[i] = Double.parseDouble(userInputStr);\n",
    "            System.out.print(nums[i]);\n",
    "        }\n",
    "\n",
    "        mode = modecalc(nums);\n",
    "        System.out.print(\"\\nthe mode is \" +mode);\n",
    "\n",
    "    }\n",
    "    static double modecalc(double[] nums) {\n",
    "        double maxValue = 0.0;\n",
    "        int maxCount = 0, i, j;\n",
    "        for (i=0; i < nums.length; i++) {\n",
    "            int count = 0;\n",
    "            for (j=0; j < nums.length; j++) {\n",
    "                for (j = 0; j < nums.length; ++j) {\n",
    "                    if (nums[j] == nums[i])\n",
    "                    ++count;\n",
    "                 }\n",
    "            }\n",
    "            if (count > maxCount) {\n",
    "                maxCount = count;\n",
    "                maxValue = nums[i];\n",
    "             }\n",
    "        }\n",
    "\n",
    "        return maxValue;\n",
    "    }\n",
    "}\n",
    "ModeCalculator.main(null);"
   ]
  }
 ],
 "metadata": {
  "kernelspec": {
   "display_name": "Java",
   "language": "java",
   "name": "java"
  },
  "language_info": {
   "codemirror_mode": "java",
   "file_extension": ".jshell",
   "mimetype": "text/x-java-source",
   "name": "Java",
   "pygments_lexer": "java",
   "version": "17.0.4+8"
  },
  "orig_nbformat": 4
 },
 "nbformat": 4,
 "nbformat_minor": 2
}
