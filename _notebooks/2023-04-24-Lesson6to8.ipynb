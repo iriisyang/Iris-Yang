{
 "cells": [
  {
   "cell_type": "markdown",
   "metadata": {},
   "source": [
    "## Hack 1"
   ]
  },
  {
   "cell_type": "code",
   "execution_count": 1,
   "metadata": {
    "vscode": {
     "languageId": "java"
    }
   },
   "outputs": [],
   "source": [
    "interface Turtle {\n",
    "\n",
    "}\n",
    "\n",
    "ArrayList<Boolean> booleans = new ArrayList<Boolean>();\n",
    "\n",
    "ArrayList<Turtle> turtles = new ArrayList<Turtle>();\n",
    "\n",
    "ArrayList<String> strings = new ArrayList<String>(10);\n"
   ]
  },
  {
   "cell_type": "markdown",
   "metadata": {},
   "source": [
    "## Hack 2"
   ]
  },
  {
   "cell_type": "code",
   "execution_count": 15,
   "metadata": {
    "vscode": {
     "languageId": "java"
    }
   },
   "outputs": [
    {
     "name": "stdout",
     "output_type": "stream",
     "text": [
      "ArrayList: [1, 4, 7, 12, 23]\n",
      "ArrayList: [2, 7, 12, 23, 2]\n"
     ]
    }
   ],
   "source": [
    "import java.util.ArrayList;\n",
    "\n",
    "public class Hack2 {\n",
    "    public static void main(Integer[] args) {\n",
    "        ArrayList<Integer> randomNumbers = new ArrayList<Integer>();\n",
    "        randomNumbers.add(1);\n",
    "        randomNumbers.add(4);\n",
    "        randomNumbers.add(7);\n",
    "        randomNumbers.add(12);\n",
    "        randomNumbers.add(23);\n",
    "        System.out.println(\"ArrayList: \" + randomNumbers);\n",
    "\n",
    "        randomNumbers.add(2);\n",
    "        randomNumbers.remove(1);\n",
    "        randomNumbers.set(0, 2);\n",
    "        System.out.println(\"ArrayList: \" + randomNumbers);\n",
    "    }\n",
    "}\n",
    "Hack2.main(null);"
   ]
  },
  {
   "cell_type": "markdown",
   "metadata": {},
   "source": [
    "## Hack 3"
   ]
  },
  {
   "cell_type": "code",
   "execution_count": 10,
   "metadata": {
    "vscode": {
     "languageId": "java"
    }
   },
   "outputs": [
    {
     "name": "stdout",
     "output_type": "stream",
     "text": [
      "ArrayList: [1, 4, 7, 12, 23]\n",
      "47"
     ]
    }
   ],
   "source": [
    "public class Hack3 {\n",
    "    public static void main(String[] args) {\n",
    "        ArrayList<Integer> values = new ArrayList<Integer>();\n",
    "        values.add(1);\n",
    "        values.add(4);\n",
    "        values.add(7);\n",
    "        values.add(12);\n",
    "        values.add(23);\n",
    "        System.out.println(\"ArrayList: \" + values);\n",
    "        \n",
    "        int total = 0;\n",
    "\n",
    "            for (int i=0; i < values.size(); i++) {\n",
    "                total+=values.get(i);\n",
    "            }\n",
    "\n",
    "        System.out.print(total);\n",
    "    }\n",
    "}\n",
    "Hack3.main(null);"
   ]
  },
  {
   "cell_type": "markdown",
   "metadata": {},
   "source": [
    "## Hack 4"
   ]
  },
  {
   "cell_type": "code",
   "execution_count": 19,
   "metadata": {
    "vscode": {
     "languageId": "java"
    }
   },
   "outputs": [
    {
     "name": "stdout",
     "output_type": "stream",
     "text": [
      "3 5 6 8 9 19 24 44 "
     ]
    }
   ],
   "source": [
    "int [] arr = {5, 6, 24, 8, 9, 19, 44, 3};\n",
    "\n",
    "for (int i = 0; i < arr.length; i++) {\n",
    " \n",
    "    // nested loop 1 index ahead\n",
    "    for (int j = i + 1; j < arr.length; j++) {\n",
    "\n",
    "        // comparing elements\n",
    "        int temp = 0;\n",
    "        if (arr[j] < arr[i]) {\n",
    "\n",
    "            temp = arr[j];\n",
    "            arr[j]=arr[i];\n",
    "            arr[i]=temp;\n",
    "            \n",
    "        }\n",
    "    }\n",
    "\n",
    "    // Printing sorted array \n",
    "    System.out.print(arr[i] + \" \");\n",
    "}"
   ]
  },
  {
   "cell_type": "markdown",
   "metadata": {},
   "source": [
    "## Hack 5\n",
    "\n",
    "Make an array and iterate through it to only print the elements with even indexes (this includes 0). Then iterate through it again to only print the odd indexes."
   ]
  },
  {
   "cell_type": "code",
   "execution_count": 26,
   "metadata": {
    "vscode": {
     "languageId": "java"
    }
   },
   "outputs": [
    {
     "name": "stdout",
     "output_type": "stream",
     "text": [
      "5 24 9 44 \n",
      "6 8 19 3 "
     ]
    }
   ],
   "source": [
    "int [] arr = {5, 6, 24, 8, 9, 19, 44, 3};\n",
    "\n",
    "for(int i = 0; i < arr.length; i+=2){\n",
    "    System.out.print(arr[i]+ \" \");\n",
    "}\n",
    "\n",
    "System.out.println();\n",
    "\n",
    "for(int i = 1; i < arr.length; i+=2){\n",
    "    System.out.print(arr[i]+ \" \");\n",
    "}"
   ]
  },
  {
   "cell_type": "markdown",
   "metadata": {},
   "source": [
    "## Seating Chart"
   ]
  },
  {
   "cell_type": "code",
   "execution_count": 8,
   "metadata": {
    "vscode": {
     "languageId": "java"
    }
   },
   "outputs": [
    {
     "name": "stdout",
     "output_type": "stream",
     "text": [
      "Original seating chart:\n",
      "Alice Bob Charlie \n",
      "David Eve Frank \n",
      "Alphabetized seating chart:\n",
      "Alice Bob Charlie \n",
      "David Eve Frank \n",
      "Shuffled seating chart:\n",
      "Alice Eve Charlie \n",
      "Frank Bob David \n",
      "Added person to row 0, col 2:\n",
      "Alice Eve Grace \n",
      "Frank Bob David \n",
      "Deleted person from row 1, col 1:\n",
      "Alice Eve Grace \n",
      "Frank null David \n"
     ]
    }
   ],
   "source": [
    "import java.util.Arrays;\n",
    "import java.util.Random;\n",
    "\n",
    "public class SeatingChart {\n",
    "    private String[][] chart;\n",
    "\n",
    "    public SeatingChart(String[][] chart) {\n",
    "        this.chart = chart;\n",
    "    }\n",
    "\n",
    "    public void alphabetize() {\n",
    "        Arrays.sort(chart, (a, b) -> a[0].compareToIgnoreCase(b[0]));\n",
    "    }\n",
    "\n",
    "    public void shuffleSeats() {\n",
    "        Random rand = new Random();\n",
    "        for (int i = chart.length - 1; i > 0; i--) {\n",
    "            for (int j = chart[i].length - 1; j > 0; j--) {\n",
    "                int randomRow = rand.nextInt(i + 1);\n",
    "                int randomCol = rand.nextInt(j + 1);\n",
    "                String temp = chart[i][j];\n",
    "                chart[i][j] = chart[randomRow][randomCol];\n",
    "                chart[randomRow][randomCol] = temp;\n",
    "            }\n",
    "        }\n",
    "    }\n",
    "\n",
    "    public void addPerson(int row, int col, String name) {\n",
    "        chart[row][col] = name;\n",
    "    }\n",
    "\n",
    "    public void deletePerson(int row, int col) {\n",
    "        chart[row][col] = null;\n",
    "    }\n",
    "\n",
    "    public void printChart() {\n",
    "        for (int i = 0; i < chart.length; i++) {\n",
    "            for (int j = 0; j < chart[i].length; j++) {\n",
    "                System.out.print(chart[i][j] + \" \");\n",
    "            }\n",
    "            System.out.println();\n",
    "        }\n",
    "    }\n",
    "\n",
    "    public static void main(String[] args) {\n",
    "        String[][] chart = {{\"Alice\", \"Bob\", \"Charlie\"}, {\"David\", \"Eve\", \"Frank\"}};\n",
    "        SeatingChart seatingChart = new SeatingChart(chart);\n",
    "        System.out.println(\"Original seating chart:\");\n",
    "        seatingChart.printChart();\n",
    "\n",
    "        System.out.println(\"Alphabetized seating chart:\");\n",
    "        seatingChart.alphabetize();\n",
    "        seatingChart.printChart();\n",
    "\n",
    "        System.out.println(\"Shuffled seating chart:\");\n",
    "        seatingChart.shuffleSeats();\n",
    "        seatingChart.printChart();\n",
    "\n",
    "        System.out.println(\"Added person to row 0, col 2:\");\n",
    "        seatingChart.addPerson(0, 2, \"Grace\");\n",
    "        seatingChart.printChart();\n",
    "\n",
    "        System.out.println(\"Deleted person from row 1, col 1:\");\n",
    "        seatingChart.deletePerson(1, 1);\n",
    "        seatingChart.printChart();\n",
    "    }\n",
    "}\n",
    "\n",
    "SeatingChart.main(null);\n"
   ]
  },
  {
   "cell_type": "markdown",
   "metadata": {},
   "source": [
    "## 2022 Question 3\n",
    "\n",
    "Part A"
   ]
  },
  {
   "cell_type": "code",
   "execution_count": 4,
   "metadata": {
    "vscode": {
     "languageId": "java"
    }
   },
   "outputs": [],
   "source": [
    "public void addMembers (String[] names, int gradYear) {\n",
    "    for (String n : names) {\n",
    "        MemberInfo newM = new MemberInfo (n, gradYear, true);\n",
    "        memberList.add(newM);\n",
    "    }\n",
    "}"
   ]
  },
  {
   "cell_type": "markdown",
   "metadata": {},
   "source": [
    "Part B"
   ]
  },
  {
   "cell_type": "code",
   "execution_count": 5,
   "metadata": {
    "vscode": {
     "languageId": "java"
    }
   },
   "outputs": [
    {
     "ename": "CompilationException",
     "evalue": "",
     "output_type": "error",
     "traceback": [
      "\u001b[1m\u001b[30m|   \u001b[1m\u001b[30mpublic ArrayList<MemberInfo> removeMembers(int year){\u001b[0m",
      "\u001b[1m\u001b[30m|   \u001b[1m\u001b[30m    ArrayList<MemberInfo> removed = new ArrayList<MemberInfo>();\u001b[0m",
      "\u001b[1m\u001b[30m|   \u001b[1m\u001b[30m    for (int i = memberList.size() - 1; i>= 0; i--){\u001b[0m",
      "\u001b[1m\u001b[30m|   \u001b[1m\u001b[30m        if (MemberList.get(i).getGradYear() <= year){\u001b[0m",
      "\u001b[1m\u001b[30m|   \u001b[1m\u001b[30m            if (memberList.get(i).inGoodStanding()){\u001b[0m",
      "\u001b[1m\u001b[30m|   \u001b[1m\u001b[30m                removed.add(memberList.get(i));\u001b[0m",
      "\u001b[1m\u001b[30m|   \u001b[1m\u001b[30m            }\u001b[0m",
      "\u001b[1m\u001b[30m|   \u001b[1m\u001b[30m            memberList.remove(i);\u001b[0m",
      "\u001b[1m\u001b[30m|   \u001b[1m\u001b[30m        }\u001b[0m",
      "\u001b[1m\u001b[30m|   \u001b[1m\u001b[30m    }\u001b[0m",
      "\u001b[1m\u001b[30m|   \u001b[1m\u001b[30m    return removed;\u001b[0m",
      "\u001b[1m\u001b[30m|   \u001b[1m\u001b[30m}\u001b[0m",
      "\u001b[1m\u001b[31mUnresolved dependencies:\u001b[0m",
      "\u001b[1m\u001b[31m   - class MemberInfo\u001b[0m",
      "\u001b[1m\u001b[31m   - variable memberList\u001b[0m",
      "\u001b[1m\u001b[31m   - variable MemberList\u001b[0m"
     ]
    }
   ],
   "source": [
    "public ArrayList<MemberInfo> removeMembers(int year){\n",
    "    ArrayList<MemberInfo> removed = new ArrayList<MemberInfo>();\n",
    "    for (int i = memberList.size() - 1; i>= 0; i--){\n",
    "        if (MemberList.get(i).getGradYear() <= year){\n",
    "            if (memberList.get(i).inGoodStanding()){\n",
    "                removed.add(memberList.get(i));\n",
    "            }\n",
    "            memberList.remove(i);\n",
    "        }\n",
    "    }\n",
    "    return removed;\n",
    "}"
   ]
  }
 ],
 "metadata": {
  "kernelspec": {
   "display_name": "Java",
   "language": "java",
   "name": "java"
  },
  "language_info": {
   "codemirror_mode": "java",
   "file_extension": ".jshell",
   "mimetype": "text/x-java-source",
   "name": "Java",
   "pygments_lexer": "java",
   "version": "17.0.4+8"
  },
  "orig_nbformat": 4
 },
 "nbformat": 4,
 "nbformat_minor": 2
}
