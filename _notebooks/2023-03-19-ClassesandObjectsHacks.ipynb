{
 "cells": [
  {
   "cell_type": "markdown",
   "metadata": {},
   "source": [
    "# \"Generics Types and Collections Hacks\"\n",
    "> \"college board video notes\"\n",
    "\n",
    "- toc: true\n",
    "- branch: master\n",
    "- badges: true\n",
    "- comments: true\n",
    "- author: Iris Yang\n",
    "- categories:[project]"
   ]
  },
  {
   "cell_type": "markdown",
   "metadata": {},
   "source": [
    "## Access Modifier\n",
    "- accessor methods: return a value\n",
    "    - string, int - type of value that is returned\n",
    "- mutator/modifier methods: change object\n",
    "    - change location (String newLocation)\n",
    "    - void - not return value\n",
    "    - haveABirthday changes age but no output\n"
   ]
  },
  {
   "cell_type": "markdown",
   "metadata": {},
   "source": [
    "## Constructor\n",
    "- sets parameters for object\n",
    "- public Person(String name, int age, String Location)\n",
    "- commonly have to write constructor with parameters on ap test\n",
    "- allow creation of object\n",
    "    - Person student = new Person (\"Iris\", 17, \"San Diego\")\n"
   ]
  },
  {
   "cell_type": "markdown",
   "metadata": {},
   "source": [
    "## Modifiers/Setters\n",
    "- usually mutator/modifier method\n",
    "- does not return a value (void)\n",
    "- public void haveABirthday();\n",
    "    - changes the age of Person - year has passed\n",
    "    - no output of new age but only modifies the previous age set\n",
    "- public void changeLocation(string newLocation)\n",
    "    - set new location"
   ]
  },
  {
   "cell_type": "markdown",
   "metadata": {},
   "source": [
    "## Getters\n",
    "- usually use accessor methods\n",
    "- get a value\n",
    "- public int getAge()\n",
    "    - creates a method to get the age from the object"
   ]
  }
 ],
 "metadata": {
  "kernelspec": {
   "display_name": "Java",
   "language": "java",
   "name": "java"
  },
  "language_info": {
   "name": "java"
  },
  "orig_nbformat": 4
 },
 "nbformat": 4,
 "nbformat_minor": 2
}
