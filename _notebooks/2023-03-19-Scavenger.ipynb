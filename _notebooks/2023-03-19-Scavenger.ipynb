{
 "cells": [
  {
   "cell_type": "markdown",
   "metadata": {},
   "source": [
    "# \"Scavenger Hunt\"\n",
    "> \"question planning for the project scavenger hunt\"\n",
    "\n",
    "- toc: true\n",
    "- branch: master\n",
    "- badges: true\n",
    "- comments: true\n",
    "- author: Iris Yang\n",
    "- categories:[project]"
   ]
  },
  {
   "cell_type": "markdown",
   "metadata": {},
   "source": [
    "## Planned Phrase: Candy is on chair outside.\n",
    "\n",
    "Solve the code segments in order to get the prize!"
   ]
  },
  {
   "cell_type": "code",
   "execution_count": 5,
   "metadata": {},
   "outputs": [
    {
     "name": "stdout",
     "output_type": "stream",
     "text": [
      "candy\n"
     ]
    }
   ],
   "source": [
    "int x = 56/10*5*4;\n",
    "\n",
    "if (x<10){\n",
    "    System.out.println(\"extra credit\");\n",
    "}\n",
    "else if (x<= 50){\n",
    "    System.out.println(\"apple\");\n",
    "}\n",
    "else if (x > 50 &&  x <= 100){\n",
    "    System.out.println(\"candy\");\n",
    "}\n",
    "else if (x > 100 &&  x <= 115){\n",
    "    System.out.println(\"chocolate\");\n",
    "}\n",
    "else if (x > 115 &&  x <= 150){\n",
    "    System.out.println(\"dinero\");\n",
    "}"
   ]
  },
  {
   "cell_type": "code",
   "execution_count": 9,
   "metadata": {},
   "outputs": [],
   "source": [
    "public static void main(String [] args) {\n",
    "    String[] words = {\"and\", \"more\", \"is\", \"also\", \"plus\"};\n",
    "    answer(words);\n",
    "    System.out.println(answer(words));\n",
    "}\n",
    "\n",
    "public static String answer(String words[]) {\n",
    "    String first = words[0];\n",
    "    for (int i = 1 ; i < words.length ; i++) {\n",
    "        if ((words[i].compareTo(first)) < 0) {\n",
    "            first = words[i];\n",
    "        }\n",
    "    } \n",
    "    return first;\n",
    "}"
   ]
  },
  {
   "cell_type": "code",
   "execution_count": null,
   "metadata": {},
   "outputs": [],
   "source": [
    "// x is true, y is false\n",
    "if (!(x||y) || (x && y)) {\n",
    "    System.out.print(\"on\")\n",
    "}\n",
    "if (!(x&&y) && (x || y)) {\n",
    "    System.out.print(\"under\")\n",
    "}\n",
    "else {\n",
    "    System.out.print(\"in\")\n",
    "}"
   ]
  },
  {
   "cell_type": "code",
   "execution_count": null,
   "metadata": {},
   "outputs": [],
   "source": [
    "int x = 10;\n",
    "if (x*3 <= 30) {\n",
    "    x++;\n",
    "}\n",
    "if (x > 31) {\n",
    "    x += 4;\n",
    "}\n",
    "System.out.print(x);"
   ]
  },
  {
   "cell_type": "markdown",
   "metadata": {},
   "source": [
    "A. 11 (chair)\n",
    "B. 15 (backpack)\n",
    "C. 31 (table)\n",
    "D. error (floor)"
   ]
  },
  {
   "cell_type": "markdown",
   "metadata": {},
   "source": [
    "Items whose value does not change are called...\n",
    "\n",
    "A. variable (Mr.M's desk)\n",
    "B. stay-same (bathroom)\n",
    "C. literal (outside)\n",
    "D. unvariable (hetvi's backpack)\n"
   ]
  }
 ],
 "metadata": {
  "kernelspec": {
   "display_name": "Java",
   "language": "java",
   "name": "java"
  },
  "language_info": {
   "name": "java"
  },
  "orig_nbformat": 4
 },
 "nbformat": 4,
 "nbformat_minor": 2
}
