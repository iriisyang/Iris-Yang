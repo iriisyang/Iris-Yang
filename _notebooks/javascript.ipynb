{
 "cells": [
  {
   "cell_type": "markdown",
   "metadata": {},
   "source": [
    "# \"JavaScript\"\n",
    "> \"html\"\n",
    "\n",
    "- toc: true\n",
    "- branch: master\n",
    "- badges: true\n",
    "- comments: true\n",
    "- author: Iris Yang\n",
    "- categories: [javascript]"
   ]
  },
  {
   "cell_type": "code",
   "execution_count": 25,
   "metadata": {},
   "outputs": [
    {
     "name": "stdout",
     "output_type": "stream",
     "text": [
      "object ; Analysis {\n",
      "  numbers: '1,2,3,1',\n",
      "  mean: '7/4',\n",
      "  mode: '1',\n",
      "  median: '3/2',\n",
      "  role: '' }\n",
      "string ; {\"name\":\"1,2,3,1\",\"mean\":\"7/4\",\"mode\":\"1\",\"role\":\"\"}\n",
      "object ; Analysis {\n",
      "  numbers: '1,2,3,1',\n",
      "  mean: '7/4',\n",
      "  mode: '1',\n",
      "  median: '3/2',\n",
      "  role: 'Main Set' }\n",
      "string ; {\"name\":\"1,2,3,1\",\"mean\":\"7/4\",\"mode\":\"1\",\"role\":\"Main Set\"}\n"
     ]
    }
   ],
   "source": [
    "// define a function to hold data for a Person\n",
    "function Analysis(numbers, mean, mode, median) {\n",
    "    this.numbers = numbers;\n",
    "    this.mean = mean;\n",
    "    this.mode = mode;\n",
    "    this.median = median;\n",
    "    this.role = \"\";\n",
    "}\n",
    "\n",
    "// define a setter for role in Person data\n",
    "Analysis.prototype.setRole = function(role) {\n",
    "    this.role = role;\n",
    "}\n",
    "\n",
    "// define a JSON conversion \"method\" associated with Person\n",
    "Analysis.prototype.toJSON = function() {\n",
    "    const obj = {name: this.numbers, mean: this.mean, mode: this.mode, role: this.role};\n",
    "    const json = JSON.stringify(obj);  // json/string is useful when passing data on internet\n",
    "    return json;\n",
    "}\n",
    "\n",
    "var mainset = new Analysis(\"1,2,3,1\", \"7/4\", \"1\", \"3/2\");  // object type is easy to work with in JavaScript\n",
    "logItType(mainset);  // before role\n",
    "logItType(mainset.toJSON());  // ok to do this even though role is not yet defined\n",
    "\n",
    "// output of Object and JSON/string associated with Teacher\n",
    "mainset.setRole(\"Main Set\");   // set the role\n",
    "logItType(mainset); \n",
    "logItType(mainset.toJSON());"
   ]
  },
  {
   "cell_type": "code",
   "execution_count": 26,
   "metadata": {},
   "outputs": [
    {
     "name": "stdout",
     "output_type": "stream",
     "text": [
      "object ; [ Analysis {\n",
      "    numbers: '1,2,3,1',\n",
      "    mean: '7/4',\n",
      "    mode: '1',\n",
      "    median: '3/2',\n",
      "    role: 'Main Set' },\n",
      "  Analysis {\n",
      "    numbers: '1,4,3,4',\n",
      "    mean: '3',\n",
      "    mode: '4',\n",
      "    median: '7/2',\n",
      "    role: 'Numbers' },\n",
      "  Analysis {\n",
      "    numbers: '4,2,2,2',\n",
      "    mean: '10/4',\n",
      "    mode: '2',\n",
      "    median: '2',\n",
      "    role: 'Numbers' },\n",
      "  Analysis {\n",
      "    numbers: '9,8,7,8',\n",
      "    mean: '8',\n",
      "    mode: '8',\n",
      "    median: '8',\n",
      "    role: 'Numbers' },\n",
      "  Analysis {\n",
      "    numbers: '0,0,0,9',\n",
      "    mean: '9/4',\n",
      "    mode: '0',\n",
      "    median: '0',\n",
      "    role: 'Numbers' },\n",
      "  Analysis {\n",
      "    numbers: '1,9,9,2',\n",
      "    mean: '21/4',\n",
      "    mode: '9',\n",
      "    median: '11/2',\n",
      "    role: 'Numbers' } ]\n",
      "undefined ; undefined\n",
      "string ; {\"name\":\"1,2,3,1\",\"mean\":\"7/4\",\"mode\":\"1\",\"role\":\"Main Set\"}\n",
      "object ; { name: '1,2,3,1', mean: '7/4', mode: '1', role: 'Main Set' }\n"
     ]
    }
   ],
   "source": [
    "// define a student Array of Person(s)\n",
    "var numbers = [ \n",
    "    new Analysis(\"1,4,3,4\", \"3\", \"4\", \"7/2\"),\n",
    "    new Analysis(\"4,2,2,2\", \"10/4\", \"2\", \"2\"),\n",
    "    new Analysis(\"9,8,7,8\", \"8\", \"8\", \"8\"),\n",
    "    new Analysis(\"0,0,0,9\", \"9/4\", \"0\", \"0\"),\n",
    "    new Analysis(\"1,9,9,2\", \"21/4\", \"9\", \"11/2\")\n",
    "];\n",
    "\n",
    "// define a classroom and build Classroom objects and json\n",
    "function Set(students){ // 1 teacher, many student\n",
    "    // add each Student to Classroom\n",
    "    mainset.setRole(\"Main Set\");\n",
    "    this.mainset = mainset;\n",
    "    this.classroom = [mainset];\n",
    "    this.numbers = numbers;\n",
    "    this.numbers.forEach(numbers => { numbers.setRole(\"Numbers\"); this.classroom.push(numbers); });\n",
    "    // build json/string format of Classroom\n",
    "    this.json = [];\n",
    "    this.classroom.forEach(numbers => this.json.push(numbers.toJSON()));\n",
    "}\n",
    "\n",
    "math = new Set(numbers);\n",
    "\n",
    "// output of Objects and JSON in CompSci classroom\n",
    "logItType(math.classroom);  // constructed classroom object\n",
    "logItType(math.classroom[0].name);  // abstract 1st objects name\n",
    "logItType(math.json[0]);  // show json conversion of 1st object to string\n",
    "logItType(JSON.parse(math.json[0]));  // show JSON.parse inverse of JSON.stringify"
   ]
  },
  {
   "cell_type": "code",
   "execution_count": 28,
   "metadata": {},
   "outputs": [
    {
     "data": {
      "text/html": [
       "<div style='display:inline-block;border: 2px solid grey;box-shadow: 0.8em 0.4em 0.4em grey;'><table><tr><th><mark>Numbers</mark></th><th><mark>Mean</mark></th><th><mark>Mode</mark></th><th><mark>Median</mark></th></tr><tr><td>1,2,3,1</td><td>7/4</td><td>1</td><td>3/2</td><tr><tr><td>1,4,3,4</td><td>3</td><td>4</td><td>7/2</td><tr><tr><td>4,2,2,2</td><td>10/4</td><td>2</td><td>2</td><tr><tr><td>9,8,7,8</td><td>8</td><td>8</td><td>8</td><tr><tr><td>0,0,0,9</td><td>9/4</td><td>0</td><td>0</td><tr><tr><td>1,9,9,2</td><td>21/4</td><td>9</td><td>11/2</td><tr></table></div>"
      ]
     },
     "execution_count": 28,
     "metadata": {},
     "output_type": "execute_result"
    }
   ],
   "source": [
    "// define an HTML conversion \"method\" associated with Classroom\n",
    "Set.prototype._toHtml = function() {\n",
    "    // HTML Style is build using inline structure\n",
    "    var style = (\n",
    "      \"display:inline-block;\" +\n",
    "      \"border: 2px solid grey;\" +\n",
    "      \"box-shadow: 0.8em 0.4em 0.4em grey;\"\n",
    "    );\n",
    "  \n",
    "    // HTML Body of Table is build as a series of concatenations (+=)\n",
    "    var body = \"\";\n",
    "    // Heading for Array Columns\n",
    "    body += \"<tr>\";\n",
    "    body += \"<th><mark>\" + \"Numbers\" + \"</mark></th>\";\n",
    "    body += \"<th><mark>\" + \"Mean\" + \"</mark></th>\";\n",
    "    body += \"<th><mark>\" + \"Mode\" + \"</mark></th>\";\n",
    "    body += \"<th><mark>\" + \"Median\" + \"</mark></th>\";\n",
    "    body += \"</tr>\";\n",
    "    // Data of Array, iterate through each row of compsci.classroom \n",
    "    for (var row in math.classroom) {\n",
    "      // tr for each row, a new line\n",
    "      body += \"<tr>\";\n",
    "      // td for each column of data\n",
    "      body += \"<td>\" + math.classroom[row].numbers + \"</td>\";\n",
    "      body += \"<td>\" + math.classroom[row].mean + \"</td>\";\n",
    "      body += \"<td>\" + math.classroom[row].mode + \"</td>\";\n",
    "      body += \"<td>\" + math.classroom[row].median + \"</td>\";\n",
    "      // tr to end line\n",
    "      body += \"<tr>\";\n",
    "    }\n",
    "  \n",
    "     // Build and HTML fragment of div, table, table body\n",
    "    return (\n",
    "      \"<div style='\" + style + \"'>\" +\n",
    "        \"<table>\" +\n",
    "          body +\n",
    "        \"</table>\" +\n",
    "      \"</div>\"\n",
    "    );\n",
    "  \n",
    "  };\n",
    "  \n",
    "  // IJavaScript HTML processor receive parameter of defined HTML fragment\n",
    "  $$.html(math._toHtml());"
   ]
  }
 ],
 "metadata": {
  "kernelspec": {
   "display_name": "JavaScript (Node.js)",
   "language": "javascript",
   "name": "javascript"
  },
  "language_info": {
   "file_extension": ".js",
   "mimetype": "application/javascript",
   "name": "javascript",
   "version": "10.13.0"
  },
  "orig_nbformat": 4
 },
 "nbformat": 4,
 "nbformat_minor": 2
}
