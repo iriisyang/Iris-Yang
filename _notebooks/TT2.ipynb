{
 "cells": [
  {
   "cell_type": "markdown",
   "metadata": {},
   "source": [
    "# \"TT 1.2 Innnovation Week 1\"\n",
    "> \"Week 1\"\n",
    "\n",
    "- toc:true\n",
    "- branch: master\n",
    "- badges: true\n",
    "- comments: true\n",
    "- author: Iris Yang\n",
    "- categories: [fastpages, jupyter]\n",
    "\n",
    "## Part 1 Primitives\n",
    "\n",
    "- [Primitives](https://iriisyang.github.io/Iris-Yang/fastpages/jupyter/2022/08/28/JavaPrimitives.html)\n",
    "\n",
    "![]({{ site.baseurl }}/images/codeorg1-5.png \"Lessons 1-5 Completes on code.org\")\n",
    "\n",
    "## Part 2 Bash\n",
    "\n",
    "- [Bash Installations] (https://iriisyang.github.io/Iris-Yang/fastpages/jupyter/2022/08/28/Bash.html)\n",
    "\n",
    "## Part 3 CSA Notes\n",
    "\n",
    "- [Notes for all 10 AP Units for APCSA] (https://iriisyang.github.io/Iris-Yang/notes/)\n"
   ]
  }
 ],
 "metadata": {
  "kernelspec": {
   "display_name": "Python 3.10.6 64-bit",
   "language": "python",
   "name": "python3"
  },
  "language_info": {
   "name": "python",
   "version": "3.10.6"
  },
  "orig_nbformat": 4,
  "vscode": {
   "interpreter": {
    "hash": "b0fa6594d8f4cbf19f97940f81e996739fb7646882a419484c72d19e05852a7e"
   }
  }
 },
 "nbformat": 4,
 "nbformat_minor": 2
}
