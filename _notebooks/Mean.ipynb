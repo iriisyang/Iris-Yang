{
 "cells": [
  {
   "cell_type": "markdown",
   "metadata": {},
   "source": [
    "# \"Mean Calculator\"\n",
    "> \"calculate mean of a set of numbers\"\n",
    "\n",
    "- toc:true\n",
    "- branch: master\n",
    "- badges: true\n",
    "- comments: true\n",
    "- author: Iris Yang\n",
    "- categories: [java code]"
   ]
  },
  {
   "cell_type": "code",
   "execution_count": 15,
   "metadata": {
    "vscode": {
     "languageId": "java"
    }
   },
   "outputs": [
    {
     "name": "stdout",
     "output_type": "stream",
     "text": [
      "how many values would you like to average?"
     ]
    },
    {
     "ename": "EvalException",
     "evalue": "For input string: \"\"",
     "output_type": "error",
     "traceback": [
      "\u001b[1m\u001b[31m---------------------------------------------------------------------------\u001b[0m",
      "\u001b[1m\u001b[31mjava.lang.NumberFormatException: For input string: \"\"\u001b[0m",
      "\u001b[1m\u001b[31m\tat java.base/java.lang.NumberFormatException.forInputString(NumberFormatException.java:67)\u001b[0m",
      "\u001b[1m\u001b[31m\tat java.base/java.lang.Integer.parseInt(Integer.java:678)\u001b[0m",
      "\u001b[1m\u001b[31m\tat java.base/java.lang.Integer.parseInt(Integer.java:786)\u001b[0m",
      "\u001b[1m\u001b[31m\tat MeanCalculator.main(#15:1)\u001b[0m",
      "\u001b[1m\u001b[31m\tat .(#23:1)\u001b[0m"
     ]
    }
   ],
   "source": [
    "import java.util.Scanner;\n",
    "\n",
    "public class MeanCalculator {\n",
    "    public static void main(String[] args) {\n",
    "        String userInputStr;\n",
    "        double meanNumber;\n",
    "        int numofNum;\n",
    "        Scanner inputStream = new Scanner(System.in);\n",
    "\n",
    "        System.out.print(\"how many values would you like to average?\");\n",
    "        userInputStr = inputStream.nextLine();\n",
    "        numofNum = Integer.parseInt(userInputStr);\n",
    "\n",
    "        double[] nums = new double [numofNum]; //creates array with doubles, nomofNum number of values in the array\n",
    "        for (int i=0; i<numofNum; i++) \n",
    "        {\n",
    "            System.out.print(\"\\nenter value: \");\n",
    "            userInputStr = inputStream.nextLine();\n",
    "            nums[i] = Double.parseDouble(userInputStr);\n",
    "            System.out.print(nums[i]);\n",
    "        }\n",
    "\n",
    "        meanNumber = meancalc(nums);\n",
    "        System.out.print(\"\\nthe mean is \" +meanNumber);\n",
    "\n",
    "    }\n",
    "    static double meancalc (double[] nums) {\n",
    "        double sum= 0.0;\n",
    "        for (int i=0; i<nums.length; i++) {\n",
    "            sum +=nums[i];\n",
    "        }\n",
    "\n",
    "        double average = sum/nums.length;\n",
    "\n",
    "        return average;\n",
    "    }\n",
    "}\n",
    "MeanCalculator.main(null);"
   ]
  }
 ],
 "metadata": {
  "kernelspec": {
   "display_name": "Java",
   "language": "java",
   "name": "java"
  },
  "language_info": {
   "codemirror_mode": "java",
   "file_extension": ".jshell",
   "mimetype": "text/x-java-source",
   "name": "Java",
   "pygments_lexer": "java",
   "version": "17.0.4+8"
  },
  "orig_nbformat": 4
 },
 "nbformat": 4,
 "nbformat_minor": 2
}
