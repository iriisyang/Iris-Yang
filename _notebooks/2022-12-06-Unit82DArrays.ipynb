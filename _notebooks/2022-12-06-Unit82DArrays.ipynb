{
 "cells": [
  {
   "cell_type": "markdown",
   "metadata": {},
   "source": [
    "# \"Unit 8 2D Arrays\"\n",
    "> \"student led lesson notes + homework\"\n",
    "\n",
    "- toc:true\n",
    "- branch: master\n",
    "- badges: true\n",
    "- comments: true\n",
    "- author: Iris Yang\n",
    "- categories: [collegeboard]"
   ]
  },
  {
   "cell_type": "markdown",
   "metadata": {},
   "source": [
    "## Vocab\n",
    "- array: a data structure used to implement a collection (list) of primitive or object reference data\n",
    "- element: a single value in the array\n",
    "- index = the position of the element in the array (starts from 0)\n",
    "Array Length = the number of elements in the array\n",
    "Is public, so can be accessed in any class\n",
    "Is also final, so can’t change it after array has been created\n",
    "\n",
    "## 2D Array\n",
    "- an array of arrays\n",
    "- start with setting data type\n",
    "- initialize array\n",
    "    - number of rows\n",
    "    - if not known use r = list.length\n",
    "    - number of columns \n",
    "    - if not known use c = list[0].length\n"
   ]
  },
  {
   "cell_type": "markdown",
   "metadata": {},
   "source": [
    "## Initializing a Sample Array"
   ]
  },
  {
   "cell_type": "code",
   "execution_count": null,
   "metadata": {
    "vscode": {
     "languageId": "java"
    }
   },
   "outputs": [],
   "source": [
    "public class Test {\n",
    "\n",
    "   public static void main(String[] args) {\n",
    "\n",
    "      int[][] arr = {\n",
    "         { 1, 2, 3 },\n",
    "         { 4, 5, 6 },\n",
    "         { 7, 8, 9 }\n",
    "      };\n",
    "\n",
    "      System.out.println(\"arr[0][0] = \" + arr[0][0]);\n",
    "      System.out.println(\"arr[1][2] = \" + arr[1][2]);\n",
    "      System.out.println(\"arr[2][1] = \" + arr[2][1]);\n",
    "      \n",
    "   }\n",
    "\n",
    "}\n",
    "Test.main(null);"
   ]
  },
  {
   "cell_type": "markdown",
   "metadata": {},
   "source": [
    "## Hack 1"
   ]
  },
  {
   "cell_type": "code",
   "execution_count": 3,
   "metadata": {
    "vscode": {
     "languageId": "java"
    }
   },
   "outputs": [
    {
     "name": "stdout",
     "output_type": "stream",
     "text": [
      "i\n"
     ]
    }
   ],
   "source": [
    "public class Test {\n",
    "\n",
    "    public static void main(String[] args) {\n",
    " \n",
    "      String[][] arr = {\n",
    "         { \"a\", \"f\", \"g\" },\n",
    "         { \"b\", \"e\", \"h\" },\n",
    "         { \"c\", \"d\", \"i\" }\n",
    "      };\n",
    " \n",
    "      // Print the last element in the array!\n",
    "       System.out.println(arr[arr.length - 1][arr[0].length - 1]);\n",
    "    }\n",
    " \n",
    " }\n",
    " Test.main(null);"
   ]
  },
  {
   "cell_type": "markdown",
   "metadata": {},
   "source": [
    "## Hack 2\n",
    "- use listName[r][c] = value; to update item"
   ]
  },
  {
   "cell_type": "code",
   "execution_count": 8,
   "metadata": {
    "vscode": {
     "languageId": "java"
    }
   },
   "outputs": [
    {
     "name": "stdout",
     "output_type": "stream",
     "text": [
      "Athens\n"
     ]
    }
   ],
   "source": [
    "public class Test {\n",
    "\n",
    "    public static void main(String[] args) {\n",
    " \n",
    "      String[][] arr = {\n",
    "         { \"Atlanta\", \"Baltimore\", \"Chicago\" },\n",
    "         { \"Australia\", \"Boston\", \"Cincinnati\" },\n",
    "         { \"Austin\", \"Beaumont\", \"Columbus\" }\n",
    "      };\n",
    " \n",
    "       // Change Austin to Athens and print!\n",
    "       arr[2][0] = \"Athens\";\n",
    "       \n",
    "       System.out.println(arr[2][0]);\n",
    "       \n",
    "    }\n",
    " \n",
    " }\n",
    " Test.main(null);"
   ]
  },
  {
   "cell_type": "markdown",
   "metadata": {},
   "source": [
    "## Nested Loop"
   ]
  },
  {
   "cell_type": "code",
   "execution_count": 5,
   "metadata": {
    "vscode": {
     "languageId": "java"
    }
   },
   "outputs": [
    {
     "name": "stdout",
     "output_type": "stream",
     "text": [
      "a f g l  \n",
      "b e h k  \n",
      "c d i j  \n"
     ]
    }
   ],
   "source": [
    "public class Test {\n",
    "\n",
    "    public static void main(String[] args) {\n",
    " \n",
    "      String[][] arr = {\n",
    "         { \"a\", \"f\", \"g\", \"l\" },\n",
    "         { \"b\", \"e\", \"h\", \"k\" },\n",
    "         { \"c\", \"d\", \"i\", \"j\" }\n",
    "      };\n",
    " \n",
    "      for (int row = 0; row < 3; row++) {\n",
    "         for (int col = 0; col < 4; col++) {\n",
    "            System.out.print(arr[row][col] + \" \");\n",
    "         }\n",
    "        System.out.println(\" \");\n",
    "      }\n",
    "       \n",
    "    }\n",
    " \n",
    " }\n",
    " Test.main(null);"
   ]
  },
  {
   "cell_type": "markdown",
   "metadata": {},
   "source": [
    "## Hack 3"
   ]
  },
  {
   "cell_type": "code",
   "execution_count": 11,
   "metadata": {
    "vscode": {
     "languageId": "java"
    }
   },
   "outputs": [
    {
     "name": "stdout",
     "output_type": "stream",
     "text": [
      "Atlanta Baltimore Chicago  \n",
      "Australia Boston Cincinnati  \n",
      "Austin Beaumont Columbus  \n"
     ]
    }
   ],
   "source": [
    "public class Test {\n",
    "\n",
    "    public static void main(String[] args) {\n",
    " \n",
    "       String[][] arr = {\n",
    "          { \"Atlanta\", \"Baltimore\", \"Chicago\" },\n",
    "          { \"Australia\", \"Boston\", \"Cincinnati\" },\n",
    "          { \"Austin\", \"Beaumont\", \"Columbus\" }\n",
    "       };\n",
    " \n",
    "       // Print out the array without using numerical values!\n",
    "       \n",
    "       for (int row = 0; row < 3; row++) {\n",
    "         for (int col = 0; col < 3; col++) {\n",
    "            System.out.print(arr[row][col] + \" \");\n",
    "         }\n",
    "        System.out.println(\" \");\n",
    "      }\n",
    "    }\n",
    " \n",
    " }\n",
    " Test.main(null);"
   ]
  },
  {
   "cell_type": "markdown",
   "metadata": {},
   "source": [
    "## Searching for an Array\n",
    "- find a certain element within array\n",
    "- if item matches name, then print there is a match and print the match\n",
    "- (:) represents within the array/row/column"
   ]
  },
  {
   "cell_type": "code",
   "execution_count": 4,
   "metadata": {
    "vscode": {
     "languageId": "java"
    }
   },
   "outputs": [
    {
     "name": "stdout",
     "output_type": "stream",
     "text": [
      "Boston\n"
     ]
    }
   ],
   "source": [
    "public class Test {\n",
    "\n",
    "    public static void main(String[] args) {\n",
    "  \n",
    "        String[][] arr = {\n",
    "            { \"Atlanta\", \"Baltimore\", \"Chicago\" },\n",
    "            { \"Australia\", \"Boston\", \"Cincinnati\" },\n",
    "            { \"Austin\", \"Beaumont\", \"Columbus\" }\n",
    "        };\n",
    "\n",
    "        String match = \"\";\n",
    "        String name = \"Boston\";\n",
    "        for (String[] row : arr) {\n",
    "            for (String item : row) {\n",
    "                if (item.equals(name)) {\n",
    "                    match = name;\n",
    "                }\n",
    "            }\n",
    "        }\n",
    "\n",
    "        if (match.length() == 0) {\n",
    "            System.out.println(\"No Match!\");\n",
    "        } else {\n",
    "            System.out.println(name);\n",
    "        }\n",
    "        \n",
    "    }\n",
    " \n",
    " }\n",
    "Test.main(null);"
   ]
  },
  {
   "cell_type": "markdown",
   "metadata": {},
   "source": [
    "## Hack 4"
   ]
  },
  {
   "cell_type": "code",
   "execution_count": 20,
   "metadata": {
    "vscode": {
     "languageId": "java"
    }
   },
   "outputs": [
    {
     "name": "stdout",
     "output_type": "stream",
     "text": [
      "Cincinnati\n",
      "Boston\n"
     ]
    }
   ],
   "source": [
    "public class Test {\n",
    "\n",
    "    public static void main(String[] args) {\n",
    "  \n",
    "        String[][] arr = {\n",
    "            { \"Atlanta\", \"Baltimore\", \"Chicago\" },\n",
    "            { \"Australia\", \"Boston\", \"Cincinnati\" },\n",
    "            { \"Austin\", \"Beaumont\", \"Columbus\" }\n",
    "        };\n",
    "\n",
    "        String longest = arr[0][0];\n",
    "\n",
    "        // Use nested for loops to find the longest or shortest string!\n",
    "\n",
    "    for (int i = 0; i < arr.length; i++){\n",
    "      for (int j = 0; j < arr[i].length; j++){\n",
    "        if(longest.length() < arr[i][j].length()) { \n",
    "          longest = arr[i][j];\n",
    "        }\n",
    "      }\n",
    "    }\n",
    "        System.out.println(longest);\n",
    "\n",
    "        String shortest = arr[0][0];\n",
    "        for (int i = 0; i < arr.length; i++){\n",
    "        for (int j = 0; j < arr[i].length; j++){\n",
    "            if(shortest.length() > arr[i][j].length()) { \n",
    "                shortest = arr[i][j];\n",
    "            }\n",
    "        }\n",
    "       }\n",
    "              System.out.println(shortest);\n",
    "        \n",
    "    }\n",
    " \n",
    " }\n",
    "Test.main(null);"
   ]
  },
  {
   "cell_type": "markdown",
   "metadata": {},
   "source": [
    "## 2017 FRQ Q4 Part A\n",
    "\n",
    "Write a\t static method findPosition that takes an integer value and a 2D integer array and\n",
    "returns the position of the integer in the given 2D integer array. If the integer is not an element of\n",
    "the 2D integer array, the method returns null. "
   ]
  },
  {
   "cell_type": "code",
   "execution_count": 21,
   "metadata": {
    "vscode": {
     "languageId": "java"
    }
   },
   "outputs": [
    {
     "ename": "CompilationException",
     "evalue": "",
     "output_type": "error",
     "traceback": [
      "\u001b[1m\u001b[30m|   \u001b[1m\u001b[30mpublic static Position findPosition(int num, int[][] intArr){\u001b[0m",
      "\u001b[1m\u001b[30m|   \u001b[1m\u001b[30m    for (int row=0; row < intArr.length; row++){\u001b[0m",
      "\u001b[1m\u001b[30m|   \u001b[1m\u001b[30m\u001b[0m",
      "\u001b[1m\u001b[30m|   \u001b[1m\u001b[30m        for (int col=0; col < intArr[0].length; col++){\u001b[0m",
      "\u001b[1m\u001b[30m|   \u001b[1m\u001b[30m\u001b[0m",
      "\u001b[1m\u001b[30m|   \u001b[1m\u001b[30m            if (intArr[row][col] == num){\u001b[0m",
      "\u001b[1m\u001b[30m|   \u001b[1m\u001b[30m                return new Position(row, col);\u001b[0m",
      "\u001b[1m\u001b[30m|   \u001b[1m\u001b[30m            }\u001b[0m",
      "\u001b[1m\u001b[30m|   \u001b[1m\u001b[30m        }\u001b[0m",
      "\u001b[1m\u001b[30m|   \u001b[1m\u001b[30m    }\u001b[0m",
      "\u001b[1m\u001b[30m|   \u001b[1m\u001b[30m    return null;\u001b[0m",
      "\u001b[1m\u001b[30m|   \u001b[1m\u001b[30m}\u001b[0m",
      "\u001b[1m\u001b[31mUnresolved dependencies:\u001b[0m",
      "\u001b[1m\u001b[31m   - class Position\u001b[0m"
     ]
    }
   ],
   "source": [
    "public static Position findPosition(int num, int[][] intArr){\n",
    "    for (int row=0; row < intArr.length; row++){\n",
    "\n",
    "        for (int col=0; col < intArr[0].length; col++){\n",
    "\n",
    "            if (intArr[row][col] == num){\n",
    "                return new Position(row, col);\n",
    "            }\n",
    "        }\n",
    "    }\n",
    "    return null;\n",
    "}"
   ]
  },
  {
   "cell_type": "markdown",
   "metadata": {},
   "source": [
    "## 2017 FRQ Q4 Part B\n",
    "\n",
    "Write a\t static method getSuccessorArray that returns a 2D successor array of positions created\n",
    "from a given 2D integer array.\n",
    "\n",
    "The successor of an integer value is the integer that is one greater than that value. For example,\n",
    "the successor of 8 is 9. A 2D successor array shows the position of the successor of each element in a\n",
    "given 2D integer array. The 2D successor array has the same dimensions as the given 2D integer array.\n",
    "Each element in the 2D successor array is the position (row, column) of the corresponding 2D integer array\n",
    "element’s successor. The largest element in the 2D integer array does not have a successor in the\n",
    "2D integer array, so its corresponding position in the 2D successor array is null.\n",
    "\n",
    "The following diagram shows a 2D integer array and its corresponding 2D successor array. To illustrate the\n",
    "successor relationship, the values 8 and 9 in the 2D integer array are shaded. In the 2D successor array, the\n",
    "shaded element shows that the position of the successor of 8 is (0,2) in the 2D integer array. The largest\n",
    "value in the 2D integer array is 16, so its corresponding element in the 2D successor array is null. "
   ]
  },
  {
   "cell_type": "code",
   "execution_count": null,
   "metadata": {
    "vscode": {
     "languageId": "java"
    }
   },
   "outputs": [],
   "source": [
    "public static Position[][] getSuccessorArray(int[][] intArr){\n",
    "    Position[][] newArr = new Position[intArr.length][intArr[0].length];\n",
    "    for (int row=0; row < intArr.length; row++){\n",
    "\n",
    "        for (int col=0; col < intArr[0].length; col++){\n",
    "\n",
    "            newArr[row][col] = findPosition(intArr[row][col]+1, intArr);\n",
    "\n",
    "        }\n",
    "\n",
    "    }\n",
    "\n",
    "    return newArr;\n",
    "}"
   ]
  },
  {
   "cell_type": "markdown",
   "metadata": {},
   "source": [
    "## Christmas Tree"
   ]
  },
  {
   "cell_type": "code",
   "execution_count": 30,
   "metadata": {
    "vscode": {
     "languageId": "java"
    }
   },
   "outputs": [
    {
     "name": "stdout",
     "output_type": "stream",
     "text": [
      "        *          \n",
      "      * * *        \n",
      "    * * * * *      \n",
      "      * * *        \n",
      "    * * * * *      \n",
      "  * * * * * * *    \n",
      "    * * * * *      \n",
      "  * * * * * * *    \n",
      "* * * * * * * * *  \n"
     ]
    }
   ],
   "source": [
    "public class ChristmasTree {\n",
    "\n",
    "    public static void main(String[] args) {\n",
    " \n",
    "      String[][] tree = {\n",
    "         { \" \", \" \", \" \", \" \", \"*\", \" \", \" \", \" \", \" \"},\n",
    "         { \" \", \" \", \" \", \"*\", \"*\", \"*\", \" \", \" \", \" \"},\n",
    "         { \" \", \" \", \"*\", \"*\", \"*\", \"*\", \"*\", \" \", \" \"},\n",
    "         { \" \", \" \", \" \", \"*\", \"*\", \"*\", \" \", \" \", \" \"},\n",
    "         { \" \", \" \", \"*\", \"*\", \"*\", \"*\", \"*\", \" \", \" \"},\n",
    "         { \" \", \"*\", \"*\", \"*\", \"*\", \"*\", \"*\", \"*\", \" \"},\n",
    "         { \" \", \" \", \"*\", \"*\", \"*\", \"*\", \"*\", \" \", \" \"},\n",
    "         { \" \", \"*\", \"*\", \"*\", \"*\", \"*\", \"*\", \"*\", \" \"},\n",
    "         { \"*\", \"*\", \"*\", \"*\", \"*\", \"*\", \"*\", \"*\", \"*\"},\n",
    "      };\n",
    " \n",
    "      // Print the last element in the array!\n",
    "      for (String[] row : tree) {\n",
    "         for (String item : row) {\n",
    "             System.out.print(item + \" \");\n",
    "         }\n",
    "         System.out.println(' ');\n",
    "     }\n",
    "    }\n",
    " \n",
    " }\n",
    " ChristmasTree.main(null);"
   ]
  },
  {
   "cell_type": "code",
   "execution_count": null,
   "metadata": {
    "vscode": {
     "languageId": "java"
    }
   },
   "outputs": [],
   "source": []
  }
 ],
 "metadata": {
  "kernelspec": {
   "display_name": "Java",
   "language": "java",
   "name": "java"
  },
  "language_info": {
   "codemirror_mode": "java",
   "file_extension": ".jshell",
   "mimetype": "text/x-java-source",
   "name": "Java",
   "pygments_lexer": "java",
   "version": "17.0.4+8"
  },
  "orig_nbformat": 4,
  "vscode": {
   "interpreter": {
    "hash": "b0fa6594d8f4cbf19f97940f81e996739fb7646882a419484c72d19e05852a7e"
   }
  }
 },
 "nbformat": 4,
 "nbformat_minor": 2
}
