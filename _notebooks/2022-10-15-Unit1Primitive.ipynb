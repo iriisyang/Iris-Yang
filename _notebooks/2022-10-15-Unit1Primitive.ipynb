{
 "cells": [
  {
   "cell_type": "markdown",
   "metadata": {},
   "source": [
    "# \"Unit 1 Primitive Types\"\n",
    "> \"student led lesson notes + homework\"\n",
    "\n",
    "- toc:true\n",
    "- branch: master\n",
    "- badges: true\n",
    "- comments: true\n",
    "- author: Iris Yang\n",
    "- categories: [collegeboard]"
   ]
  },
  {
   "cell_type": "markdown",
   "metadata": {},
   "source": [
    "## Primitives\n",
    "- predefined\n",
    "- lowercase\n",
    "- cannot call methods\n",
    "- need to know: boolean, int, double"
   ]
  },
  {
   "cell_type": "markdown",
   "metadata": {},
   "source": [
    "## Operators \n",
    "- (+) addition\n",
    "- (-) subtraction\n",
    "- (/) division\n",
    "    - casting forces products to be a double even if numerator and denominator are integers\n",
    "- (*) multiplication\n",
    "- (%) modulus (remainder)\n",
    "- ++ add 1\n",
    "- -- subtract 1"
   ]
  },
  {
   "cell_type": "code",
   "execution_count": 21,
   "metadata": {
    "vscode": {
     "languageId": "java"
    }
   },
   "outputs": [
    {
     "name": "stdout",
     "output_type": "stream",
     "text": [
      "0.3333333333333333\n",
      "6\n",
      "4\n"
     ]
    }
   ],
   "source": [
    "System.out.println((double) 1 / 3); // cast answer is double even though 1 ad 3 are integers\n",
    "System.out.println((int) 2.7 + 4); // truncates answer to nearest integer\n",
    "double x = 3.6;\n",
    "System.out.println((int)(x + 0.5)); // adding 0.5 rounds"
   ]
  },
  {
   "cell_type": "markdown",
   "metadata": {},
   "source": [
    "## 2006 FRQ 2a\n",
    "\n",
    "Write the TaxableItem method purchasePrice. The purchase price of a TaxableItem is its list price plus the tax on the item. The tax is computed by multiplying the list price by the tax rate. For example, if the tax rate is 0.10 (representing 10%), the purchase price of an item with a list price of $6.50 would be $7.15."
   ]
  },
  {
   "cell_type": "code",
   "execution_count": null,
   "metadata": {
    "vscode": {
     "languageId": "java"
    }
   },
   "outputs": [],
   "source": [
    "// returns the price of the item including the tax\n",
    "public double purchasePrice() {\n",
    "    return (1 + taxRate) * getListPrice(); \n",
    "}"
   ]
  },
  {
   "cell_type": "markdown",
   "metadata": {},
   "source": [
    "## 2006 FRQ 3a\n",
    "\n",
    "Write the Customer method compareCustomer, which compares this customer to a given customer, other. Customers are ordered alphabetically by name, using the comparTo method of the String class. If the names of the two customers are the same, then the customers are ordered by ID number. Method compareCustomer should return a positive integer if this customer is greater than other, a negative integer if this customer is less than other, and 0 if they are the same. "
   ]
  },
  {
   "cell_type": "code",
   "execution_count": null,
   "metadata": {
    "vscode": {
     "languageId": "java"
    }
   },
   "outputs": [],
   "source": [
    "// returns 0 when this customer is equal to other;\n",
    "// a positive integer when this customer is greater than other;\n",
    "// a negative integer when this customer is less than other\n",
    "public int compareCustomer(Customer other) {\n",
    "    int nameCompare = getName().compareTo(other.getName());\n",
    "    if (nameCompare == 0){\n",
    "        return getID() - other.getID();\n",
    "    }\n",
    "    else {\n",
    "        return nameCompare;\n",
    "    } \n",
    "}"
   ]
  }
 ],
 "metadata": {
  "kernelspec": {
   "display_name": "Java",
   "language": "java",
   "name": "java"
  },
  "language_info": {
   "codemirror_mode": "java",
   "file_extension": ".jshell",
   "mimetype": "text/x-java-source",
   "name": "Java",
   "pygments_lexer": "java",
   "version": "17.0.4+8"
  },
  "orig_nbformat": 4,
  "vscode": {
   "interpreter": {
    "hash": "b0fa6594d8f4cbf19f97940f81e996739fb7646882a419484c72d19e05852a7e"
   }
  }
 },
 "nbformat": 4,
 "nbformat_minor": 2
}
