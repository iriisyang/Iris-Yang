{
 "cells": [
  {
   "cell_type": "markdown",
   "metadata": {},
   "source": [
    "# \"Final Reflection\"\n",
    "> \"a final recap of the 2022-2023 APCSA class\"\n",
    "\n",
    "- toc: true\n",
    "- branch: master\n",
    "- badges: true\n",
    "- comments: true\n",
    "- author: Iris Yang\n",
    "- categories:[blogs]"
   ]
  },
  {
   "cell_type": "markdown",
   "metadata": {},
   "source": [
    "This year of APCSA was both an incredibly challenging yet rewarding experience. Coming in with close to 0 coding experience, it was difficult to catch up with the rest of the class. I spent many hours trying to understand the confusing syntax and logical thinking. Learning to find resources online and in the people around me was a valuable experience that I learned throughout these challenges. \n",
    "Although as I attend college next year I will be studying biology likely on a pre-med track, the skills I learned in APCSA were not lost. Some of the most important skills I learned were not how to create a method or iterate through an array but rather how to work in a team where everyone has their individual strengths and learn from the strengths of those around me. Furthermore, a career away from computer science does not mean that this information will not be useful to me. With the growing AI technology, computer science is being integrated into all fields and is a valuable asset to have regardless of the field. I thoroughly enjoyed the career panels and advice from past students as they opened my perspective on what computer science really is and how I can learn from this class in order to improve my future.\n",
    "All in all, I found this class extremely valuable. I loved getting to work on the projects that were guided by what each student was interested in. Although definitely a struggle, I think that is what makes this class so memorable and so beneficial for my future in the real world outside of academics. Who knows, maybe I will end up with a minor and computer science and a career in the tech field. "
   ]
  }
 ],
 "metadata": {
  "kernelspec": {
   "display_name": "Java",
   "language": "java",
   "name": "java"
  },
  "language_info": {
   "name": "java"
  },
  "orig_nbformat": 4
 },
 "nbformat": 4,
 "nbformat_minor": 2
}
