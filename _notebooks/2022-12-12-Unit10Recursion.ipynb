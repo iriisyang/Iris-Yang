{
 "cells": [
  {
   "cell_type": "markdown",
   "metadata": {},
   "source": [
    "# \"Unit 10 Recursions\"\n",
    "> \"student led lesson notes + homework\"\n",
    "\n",
    "- toc:true\n",
    "- branch: master\n",
    "- badges: true\n",
    "- comments: true\n",
    "- author: Iris Yang\n",
    "- categories: [collegeboard]"
   ]
  },
  {
   "cell_type": "markdown",
   "metadata": {},
   "source": [
    "## Notes\n",
    "\n",
    "- two parts to method\n",
    "    - repeat recursive call until return statement\n",
    "- base case returns number - purpose is to not have a recursive statement\n",
    "- binary sort\n",
    "    - most efficient method cut in half again and again\n",
    "- merge sort: sort arraylist, divide array into halves and merge together\n",
    "    - divide and conquer system \n",
    "- cannot have void because it will not return anything\n",
    "- call stack - keeps track of how many times the recursive is called\n",
    "- iterations have set instructions use for and while loops\n",
    "    - recursions use function calls\n",
    "- linear recursion - single call to itself\n",
    "- selection sort - minimum from unsorted and putting it at the end of the sorted"
   ]
  }
 ],
 "metadata": {
  "kernelspec": {
   "display_name": "Java",
   "language": "java",
   "name": "java"
  },
  "language_info": {
   "name": "java"
  },
  "orig_nbformat": 4
 },
 "nbformat": 4,
 "nbformat_minor": 2
}
