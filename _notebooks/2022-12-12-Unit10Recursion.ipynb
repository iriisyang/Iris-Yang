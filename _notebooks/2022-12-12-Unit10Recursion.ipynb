{
 "cells": [
  {
   "cell_type": "markdown",
   "metadata": {},
   "source": [
    "# \"Unit 10 Recursions\"\n",
    "> \"student led lesson notes + homework\"\n",
    "\n",
    "- toc:true\n",
    "- branch: master\n",
    "- badges: true\n",
    "- comments: true\n",
    "- author: Iris Yang\n",
    "- categories: [collegeboard]"
   ]
  },
  {
   "cell_type": "markdown",
   "metadata": {},
   "source": [
    "## Notes\n",
    "\n",
    "- two parts to method\n",
    "    - repeat recursive call until return statement\n",
    "- base case returns number - purpose is to not have a recursive statement\n",
    "- binary sort\n",
    "    - most efficient method cut in half again and again\n",
    "- merge sort: sort arraylist, divide array into halves and merge together\n",
    "- cannot have void because it will not return anything"
   ]
  }
 ],
 "metadata": {
  "kernelspec": {
   "display_name": "Java",
   "language": "java",
   "name": "java"
  },
  "language_info": {
   "name": "java"
  },
  "orig_nbformat": 4
 },
 "nbformat": 4,
 "nbformat_minor": 2
}
