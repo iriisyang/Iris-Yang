{
 "cells": [
  {
   "cell_type": "markdown",
   "metadata": {},
   "source": [
    "# \"Unit 9 Inheritance\"\n",
    "> \"student led lesson notes + homework\"\n",
    "\n",
    "- toc:true\n",
    "- branch: master\n",
    "- badges: true\n",
    "- comments: true\n",
    "- author: Iris Yang\n",
    "- categories: [collegeboard]"
   ]
  },
  {
   "cell_type": "markdown",
   "metadata": {},
   "source": [
    "## Inheritance\n",
    "- different classes can have methods and attributes unique to them\n",
    "- extends can inherit the same methods and attributes and also some unique to themselves\n",
    "\n",
    "## Superclass\n",
    "- parent class\n",
    "- contains the basic attributes\n",
    "\n",
    "## Subclass\n",
    "- attributes of subclass same as superclass if nothing changed\n",
    "    - add additional assignment if new\n",
    "- use super to access the superclass constructor with subclass\n"
   ]
  },
  {
   "cell_type": "markdown",
   "metadata": {},
   "source": [
    "## Overriding method\n",
    "- same parameter in subclass overrides the parent class"
   ]
  },
  {
   "cell_type": "markdown",
   "metadata": {},
   "source": [
    "## Polymorphism\n",
    "- override in many different subclasses\n",
    "- two different implementations through overriding methods\n",
    "    - runtime polymorphism or dynamic binding or dynamic method dispatch\n",
    "- single method used different ways \n",
    "    - method overloading or compile time polymorphism or static polymorphism\n"
   ]
  },
  {
   "cell_type": "markdown",
   "metadata": {},
   "source": [
    "## Object Superclass\n",
    "- toString method\n",
    "    - prints attributes\n",
    "    - converts string object into string\n",
    "- equals method \n",
    "    - compares two strings"
   ]
  }
 ],
 "metadata": {
  "kernelspec": {
   "display_name": "Java",
   "language": "java",
   "name": "java"
  },
  "language_info": {
   "name": "java"
  },
  "orig_nbformat": 4
 },
 "nbformat": 4,
 "nbformat_minor": 2
}
