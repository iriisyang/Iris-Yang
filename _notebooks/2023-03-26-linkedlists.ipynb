{
 "cells": [
  {
   "cell_type": "markdown",
   "metadata": {},
   "source": [
    "# \"Linked Lists\"\n",
    "> \"stacks and queues for linked lists\"\n",
    "\n",
    "- toc: true\n",
    "- branch: master\n",
    "- badges: true\n",
    "- comments: true\n",
    "- author: Iris Yang\n",
    "- categories:[class]"
   ]
  },
  {
   "cell_type": "markdown",
   "metadata": {},
   "source": [
    "## Linked Lists\n",
    "- similar to array list\n",
    "- add an element adds a container\n",
    "- each container linked to the other"
   ]
  },
  {
   "cell_type": "code",
   "execution_count": 3,
   "metadata": {
    "vscode": {
     "languageId": "java"
    }
   },
   "outputs": [
    {
     "name": "stdout",
     "output_type": "stream",
     "text": [
      "[Volvo, BMW, Ford, Mazda]\n"
     ]
    }
   ],
   "source": [
    "import java.util.LinkedList;\n",
    "\n",
    "public class Cars {\n",
    "  public static void main(String[] args) {\n",
    "    LinkedList<String> cars = new LinkedList<String>();\n",
    "    cars.add(\"Volvo\");\n",
    "    cars.add(\"BMW\");\n",
    "    cars.add(\"Ford\");\n",
    "    cars.add(\"Mazda\");\n",
    "    System.out.println(cars);\n",
    "  }\n",
    "}\n",
    "Cars.main(null);"
   ]
  },
  {
   "cell_type": "markdown",
   "metadata": {},
   "source": [
    "## Stack\n",
    "- push: inserts object to the top of the stack\n",
    "- pop: removes object from top of stack"
   ]
  },
  {
   "cell_type": "code",
   "execution_count": null,
   "metadata": {
    "vscode": {
     "languageId": "java"
    }
   },
   "outputs": [],
   "source": [
    "public class StackLinkedList<T> {\n",
    "    private Node<T> top;\n",
    "    private int size;\n",
    "\n",
    "    public StackLinkedList() {\n",
    "        this.top = null;\n",
    "        this.size = 0;\n",
    "    }\n",
    "\n",
    "    public boolean isEmpty() {\n",
    "        return top == null;\n",
    "    }\n",
    "\n",
    "    public int size() {\n",
    "        return size;\n",
    "    }\n",
    "\n",
    "    public void push(T data) {\n",
    "        Node<T> newNode = new Node<>(data);\n",
    "        if (isEmpty()) {\n",
    "            top = newNode;\n",
    "        } else {\n",
    "            newNode.next = top;\n",
    "            top = newNode;\n",
    "        }\n",
    "        size++;\n",
    "    }\n",
    "\n",
    "    public T pop() {\n",
    "        if (isEmpty()) {\n",
    "            throw new NoSuchElementException(\"Stack is empty\");\n",
    "        }\n",
    "        T data = top.data;\n",
    "        top = top.next;\n",
    "        size--;\n",
    "        return data;\n",
    "    }\n",
    "\n",
    "    public T peek() {\n",
    "        if (isEmpty()) {\n",
    "            throw new NoSuchElementException(\"Stack is empty\");\n",
    "        }\n",
    "        return top.data;\n",
    "    }\n",
    "\n",
    "    private static class Node<T> {\n",
    "        private T data;\n",
    "        private Node<T> next;\n",
    "\n",
    "        public Node(T data) {\n",
    "            this.data = data;\n",
    "            this.next = null;\n",
    "        }\n",
    "    }\n",
    "}\n"
   ]
  },
  {
   "cell_type": "markdown",
   "metadata": {},
   "source": [
    "## Queue\n",
    "- first in first out\n",
    "- elements inserted at any time\n",
    "- element that has been in the longest is the first removed"
   ]
  }
 ],
 "metadata": {
  "kernelspec": {
   "display_name": "Java",
   "language": "java",
   "name": "java"
  },
  "language_info": {
   "codemirror_mode": "java",
   "file_extension": ".jshell",
   "mimetype": "text/x-java-source",
   "name": "Java",
   "pygments_lexer": "java",
   "version": "17.0.4+8"
  },
  "orig_nbformat": 4,
  "vscode": {
   "interpreter": {
    "hash": "b0fa6594d8f4cbf19f97940f81e996739fb7646882a419484c72d19e05852a7e"
   }
  }
 },
 "nbformat": 4,
 "nbformat_minor": 2
}
