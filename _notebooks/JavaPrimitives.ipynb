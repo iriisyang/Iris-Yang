{
 "cells": [
  {
   "cell_type": "markdown",
   "metadata": {},
   "source": [
    "# \"Java Primitives\"\n",
    "> \"converter from celsius to fahrenheit temperatures\"\n",
    "\n",
    "- toc:false\n",
    "- branch: master\n",
    "- badges: true\n",
    "- comments: true\n",
    "- author: Iris Yang\n",
    "- categories: [fastpages, jupyter]\n"
   ]
  },
  {
   "cell_type": "code",
   "execution_count": 7,
   "metadata": {
    "vscode": {
     "languageId": "java"
    }
   },
   "outputs": [
    {
     "name": "stdout",
     "output_type": "stream",
     "text": [
      "What is your Celsius degrees? 10.0\n",
      "Fahrenheit conversion: 50.0\n",
      "You would like an activity recommendation for that temperature? (answer true or false)\n",
      "Stay inside and read a book with hot chocolate"
     ]
    }
   ],
   "source": [
    "import java.util.Scanner; //allows for user input\n",
    "\n",
    "public class CelsiusFahrenheit {\n",
    "    public static void main(String[] args) {\n",
    "        String userInputStr;\n",
    "        double celsiusdouble, fahrenheitdouble;\n",
    "        boolean recommendationboolean;\n",
    "        Scanner inputStream = new Scanner(System.in); //creates area for input\n",
    "\n",
    "        System.out.print(\"What is your Celsius degrees? \");\n",
    "        userInputStr = inputStream.nextLine(); //assigns userinputstr as input\n",
    "        celsiusdouble = Double.parseDouble(userInputStr); //changes to stored variable celsiusdouble\n",
    "\n",
    "        System.out.print(celsiusdouble);\n",
    "\n",
    "        fahrenheitdouble = (celsiusdouble*1.8)+32; //set fahrenheit variable to conversion\n",
    "\n",
    "        System.out.print(\"\\nFahrenheit conversion: \" ); //enter line and print fahrenheit\n",
    "        System.out.print(fahrenheitdouble);\n",
    "\n",
    "        System.out.print (\"\\nYou would like an activity recommendation for that temperature? (answer true or false)\");\n",
    "        userInputStr = inputStream.nextLine();\n",
    "        recommendationboolean = Boolean.parseBoolean(userInputStr);\n",
    "\n",
    "        if (recommendationboolean=true && celsiusdouble<=10) { //creates recommendation if wanted and for specific temperature range\n",
    "            System.out.print(\"\\nStay inside and read a book with hot chocolate\");\n",
    "        } else if (recommendationboolean=true && celsiusdouble>10) {\n",
    "            System.out.print(\"\\nGo on a hike outside with friends\");\n",
    "        } else {\n",
    "            System.out.print(\" \");\n",
    "        }\n",
    "        \n",
    "    }   \n",
    "}\n",
    "\n",
    "CelsiusFahrenheit.main(null);"
   ]
  }
 ],
 "metadata": {
  "kernelspec": {
   "display_name": "Java",
   "language": "java",
   "name": "java"
  },
  "language_info": {
   "codemirror_mode": "java",
   "file_extension": ".jshell",
   "mimetype": "text/x-java-source",
   "name": "Java",
   "pygments_lexer": "java",
   "version": "17.0.4+8"
  },
  "orig_nbformat": 4
 },
 "nbformat": 4,
 "nbformat_minor": 2
}
