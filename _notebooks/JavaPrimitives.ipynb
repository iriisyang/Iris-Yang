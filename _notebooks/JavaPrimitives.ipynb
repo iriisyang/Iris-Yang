{
 "cells": [
  {
   "cell_type": "code",
   "execution_count": 3,
   "metadata": {
    "vscode": {
     "languageId": "java"
    }
   },
   "outputs": [
    {
     "ename": "IncompleteSourceException",
     "evalue": "public class Arithmetic {\n    public static void main(String[] args) {    \n        Scanner input;\n\n        input = new Scanner(System.in);\n        System.out.print(\"Enter an integer: \");\n        try {\n            int sampleInputInt = input.nextInt();\n            System.out.println(sampleInputInt);\n        } catch (Exception e) {  // if not an integer\n            System.out.println(\"Not an integer (form like 159), \" + e);\n        }\n        input.close();\n\n        input = new Scanner(System.in);\n        System.out.print(\"Enter an integer: \");\n        try {\n            int sampleInputInt = input.nextInt();\n            System.out.println(sampleInputInt);\n        } catch (Exception e) {  // if not an integer\n            System.out.println(\"Not an integer (form like 159), \" + e);\n        }\n        input.close();\n\n        ScanPrimitives.main(null);   \n}",
     "output_type": "error",
     "traceback": [
      "\u001b[1m\u001b[31mIncomplete input:\u001b[0m",
      "\u001b[1m\u001b[30m|   \u001b[1m\u001b[30mpublic class Arithmetic {\u001b[0m",
      "\u001b[1m\u001b[30m|   \u001b[1m\u001b[30m    public static void main(String[] args) {    \u001b[0m",
      "\u001b[1m\u001b[30m|   \u001b[1m\u001b[30m        Scanner input;\u001b[0m",
      "\u001b[1m\u001b[30m|   \u001b[1m\u001b[30m\u001b[0m",
      "\u001b[1m\u001b[30m|   \u001b[1m\u001b[30m        input = new Scanner(System.in);\u001b[0m",
      "\u001b[1m\u001b[30m|   \u001b[1m\u001b[30m        System.out.print(\"Enter an integer: \");\u001b[0m",
      "\u001b[1m\u001b[30m|   \u001b[1m\u001b[30m        try {\u001b[0m",
      "\u001b[1m\u001b[30m|   \u001b[1m\u001b[30m            int sampleInputInt = input.nextInt();\u001b[0m",
      "\u001b[1m\u001b[30m|   \u001b[1m\u001b[30m            System.out.println(sampleInputInt);\u001b[0m",
      "\u001b[1m\u001b[30m|   \u001b[1m\u001b[30m        } catch (Exception e) {  // if not an integer\u001b[0m",
      "\u001b[1m\u001b[30m|   \u001b[1m\u001b[30m            System.out.println(\"Not an integer (form like 159), \" + e);\u001b[0m",
      "\u001b[1m\u001b[30m|   \u001b[1m\u001b[30m        }\u001b[0m",
      "\u001b[1m\u001b[30m|   \u001b[1m\u001b[30m        input.close();\u001b[0m",
      "\u001b[1m\u001b[30m|   \u001b[1m\u001b[30m\u001b[0m",
      "\u001b[1m\u001b[30m|   \u001b[1m\u001b[30m        input = new Scanner(System.in);\u001b[0m",
      "\u001b[1m\u001b[30m|   \u001b[1m\u001b[30m        System.out.print(\"Enter an integer: \");\u001b[0m",
      "\u001b[1m\u001b[30m|   \u001b[1m\u001b[30m        try {\u001b[0m",
      "\u001b[1m\u001b[30m|   \u001b[1m\u001b[30m            int sampleInputInt = input.nextInt();\u001b[0m",
      "\u001b[1m\u001b[30m|   \u001b[1m\u001b[30m            System.out.println(sampleInputInt);\u001b[0m",
      "\u001b[1m\u001b[30m|   \u001b[1m\u001b[30m        } catch (Exception e) {  // if not an integer\u001b[0m",
      "\u001b[1m\u001b[30m|   \u001b[1m\u001b[30m            System.out.println(\"Not an integer (form like 159), \" + e);\u001b[0m",
      "\u001b[1m\u001b[30m|   \u001b[1m\u001b[30m        }\u001b[0m",
      "\u001b[1m\u001b[30m|   \u001b[1m\u001b[30m        input.close();\u001b[0m",
      "\u001b[1m\u001b[30m|   \u001b[1m\u001b[30m\u001b[0m",
      "\u001b[1m\u001b[30m|   \u001b[1m\u001b[30m        ScanPrimitives.main(null);   \u001b[0m",
      "\u001b[1m\u001b[30m|   \u001b[1m\u001b[30m}\u001b[0m"
     ]
    }
   ],
   "source": [
    "import java.util.Scanner;\n",
    "\n",
    "public class Arithmetic {\n",
    "    public static void main(String[] args) {    \n",
    "        Scanner input;\n",
    "\n",
    "        input = new Scanner(System.in);\n",
    "        System.out.print(\"Enter an integer: \");\n",
    "        try {\n",
    "            int sampleInputInt = input.nextInt();\n",
    "            System.out.println(sampleInputInt);\n",
    "        } catch (Exception e) {  // if not an integer\n",
    "            System.out.println(\"Not an integer (form like 159), \" + e);\n",
    "        }\n",
    "        input.close();\n",
    "\n",
    "        input = new Scanner(System.in);\n",
    "        System.out.print(\"Enter an integer: \");\n",
    "        try {\n",
    "            int sampleInputInt = input.nextInt();\n",
    "            System.out.println(sampleInputInt);\n",
    "        } catch (Exception e) {  // if not an integer\n",
    "            System.out.println(\"Not an integer (form like 159), \" + e);\n",
    "        }\n",
    "        input.close();\n",
    "\n",
    "    ScanPrimitives.main(null);   \n",
    "}\n"
   ]
  }
 ],
 "metadata": {
  "kernelspec": {
   "display_name": "Java",
   "language": "java",
   "name": "java"
  },
  "language_info": {
   "codemirror_mode": "java",
   "file_extension": ".jshell",
   "mimetype": "text/x-java-source",
   "name": "Java",
   "pygments_lexer": "java",
   "version": "17.0.4+8"
  },
  "orig_nbformat": 4
 },
 "nbformat": 4,
 "nbformat_minor": 2
}
