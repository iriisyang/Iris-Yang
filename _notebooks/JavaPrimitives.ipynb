{
 "cells": [
  {
   "cell_type": "code",
   "execution_count": 9,
   "metadata": {
    "vscode": {
     "languageId": "java"
    }
   },
   "outputs": [
    {
     "name": "stdout",
     "output_type": "stream",
     "text": [
      "What is your Celsius degrees? 30.1\n",
      "Fahrenheit conversion: 86.18"
     ]
    }
   ],
   "source": [
    "import java.util.Scanner; //allows for user input\n",
    "\n",
    "public class CelsiusFahrenheit {\n",
    "    public static void main(String[] args) {\n",
    "        String userInputStr;\n",
    "        double celsiusdouble, fahrenheitdouble;\n",
    "        Scanner inputStream = new Scanner(System.in); //creates area for input\n",
    "\n",
    "        System.out.print(\"What is your Celsius degrees? \");\n",
    "        userInputStr = inputStream.nextLine(); //assigns userinputstr as input\n",
    "        celsiusdouble = Double.parseDouble(userInputStr); //changes to stored variable celsiusdouble\n",
    "\n",
    "        System.out.print(celsiusdouble);\n",
    "\n",
    "        fahrenheitdouble = (celsiusdouble*1.8)+32; //set fahrenheit variable to conversion\n",
    "\n",
    "        System.out.print(\"\\nFahrenheit conversion: \" ); //enter line and print fahrenheit\n",
    "        System.out.print(fahrenheitdouble);\n",
    "    }   \n",
    "}\n",
    "\n",
    "CelsiusFahrenheit.main(null);"
   ]
  },
  {
   "cell_type": "markdown",
   "metadata": {},
   "source": [
    "# \"Java Primitives\"\n",
    "> \"converter from celsius to fahrenheit temperatures\"\n",
    "\n",
    "- toc:true\n",
    "- branch: master\n",
    "- badges: true\n",
    "- comments: true\n",
    "- author: Iris Yang\n",
    "- categories: [fastpages, jupyter]\n"
   ]
  }
 ],
 "metadata": {
  "kernelspec": {
   "display_name": "Java",
   "language": "java",
   "name": "java"
  },
  "language_info": {
   "codemirror_mode": "java",
   "file_extension": ".jshell",
   "mimetype": "text/x-java-source",
   "name": "Java",
   "pygments_lexer": "java",
   "version": "17.0.4+8"
  },
  "orig_nbformat": 4
 },
 "nbformat": 4,
 "nbformat_minor": 2
}
