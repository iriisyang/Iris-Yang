{
 "cells": [
  {
   "cell_type": "markdown",
   "metadata": {},
   "source": [
    "# \"Unit 6-10 HW and Vocab\"\n",
    "> \"grades and takeaways from student lessons unit 6-10\"\n",
    "\n",
    "- toc:true\n",
    "- branch: master\n",
    "- badges: true\n",
    "- comments: true\n",
    "- author: Iris Yang\n",
    "- categories: [collegeboard]"
   ]
  },
  {
   "cell_type": "markdown",
   "metadata": {},
   "source": [
    "| Unit   | Score  |\n",
    "| ------ | -----  |\n",
    "| 6      | 0.9/1  |\n",
    "| 7      | 0.95/1 |\n",
    "| 8      | 1/1    |\n",
    "| 9      | 0.9/1  |\n",
    "| 10     | 1/1    |\n",
    "| total  | 3.75/5 |"
   ]
  },
  {
   "cell_type": "markdown",
   "metadata": {},
   "source": [
    "## Unit 6\n",
    "\n",
    "[Unit 6 Blog](https://iriisyang.github.io/Iris-Yang/collegeboard/2022/10/25/Arrays.html)\n"
   ]
  },
  {
   "cell_type": "markdown",
   "metadata": {},
   "source": [
    "## Unit 7\n",
    "\n",
    "[Unit 7 Blog](https://iriisyang.github.io/Iris-Yang/collegeboard/2022/11/30/Unit7ArrayList.html)\n"
   ]
  },
  {
   "cell_type": "markdown",
   "metadata": {},
   "source": [
    "## Unit 8\n",
    "\n",
    "[Unit 8 Blog](https://iriisyang.github.io/Iris-Yang/collegeboard/2022/12/06/Unit82DArrays.html)\n"
   ]
  },
  {
   "cell_type": "markdown",
   "metadata": {},
   "source": [
    "## Unit 9\n",
    "\n",
    "[Unit 9 Blog](https://iriisyang.github.io/Iris-Yang/collegeboard/2022/10/19/Iterations.html)\n"
   ]
  },
  {
   "cell_type": "markdown",
   "metadata": {},
   "source": [
    "## Unit 10\n",
    "\n",
    "[Unit 10 Blog](https://iriisyang.github.io/Iris-Yang/collegeboard/2022/12/12/Unit10Recursion.html)\n"
   ]
  }
 ],
 "metadata": {
  "kernelspec": {
   "display_name": "Java",
   "language": "java",
   "name": "java"
  },
  "language_info": {
   "name": "java"
  },
  "orig_nbformat": 4
 },
 "nbformat": 4,
 "nbformat_minor": 2
}
