{
 "cells": [
  {
   "cell_type": "markdown",
   "metadata": {},
   "source": [
    "# \"Unit 6-10 HW and Vocab\"\n",
    "> \"grades and takeaways from student lessons unit 6-10\"\n",
    "\n",
    "- toc:true\n",
    "- branch: master\n",
    "- badges: true\n",
    "- comments: true\n",
    "- author: Iris Yang\n",
    "- categories: [collegeboard]"
   ]
  },
  {
   "cell_type": "markdown",
   "metadata": {},
   "source": [
    "| Unit   | Score  |\n",
    "| ------ | -----  |\n",
    "| 6      | 0.9/1  |\n",
    "| 7      | 0.95/1 |\n",
    "| 8      | 0.9/1  |\n",
    "| 9      | 1/1    |\n",
    "| 10     | 1/1    |\n",
    "| total  | 4.75/5 |"
   ]
  },
  {
   "cell_type": "markdown",
   "metadata": {},
   "source": [
    "## Unit 6\n",
    "\n",
    "[Unit 6 Blog](https://iriisyang.github.io/Iris-Yang/collegeboard/2022/10/25/Arrays.html)\n",
    "- contains a collection of data\n",
    "- can be primitive or referenced\n",
    "- element - one value in an array\n",
    "- index - the position of one value in an array\n",
    "- use loop to access array\n",
    "    - enhanced for loop - use when number of elements in array unknown\n",
    "    - basic for loop - use with known number of elements\n",
    "\n"
   ]
  },
  {
   "cell_type": "markdown",
   "metadata": {},
   "source": [
    "## Unit 7\n",
    "\n",
    "[Unit 7 Blog](https://iriisyang.github.io/Iris-Yang/collegeboard/2022/11/30/Unit7ArrayList.html)\n",
    "- array lists: number of elements an constantly change\n",
    "- use loops to traverse arraylists\n",
    "    - access different elements\n",
    "- flagging to locate data\n",
    "- use loops also to sort data within array"
   ]
  },
  {
   "cell_type": "markdown",
   "metadata": {},
   "source": [
    "## Unit 8\n",
    "\n",
    "[Unit 8 Blog](https://iriisyang.github.io/Iris-Yang/collegeboard/2022/12/06/Unit82DArrays.html)\n",
    "- an array of arrays\n",
    "- start with setting data type\n",
    "- initialize array\n",
    "    - number of rows\n",
    "    - if not known use r = list.length\n",
    "    - number of columns\n",
    "    - if not known use c = list[0].length\n",
    "- use : to search for an element within array\n"
   ]
  },
  {
   "cell_type": "markdown",
   "metadata": {},
   "source": [
    "## Unit 9\n",
    "\n",
    "[Unit 9 Blog](https://iriisyang.github.io/Iris-Yang/collegeboard/2022/12/13/Unit9Inheritance.html)\n",
    "\n",
    "[Unit 9 Hacks](https://hetvit27.github.io/hetvitrivedi/collegeboard/2022/12/13/Unit9.html)\n",
    "- different classes can have methods and attributes unique to them\n",
    "- extends can inherit the same methods and attributes and also some unique to themselves\n",
    "- attributes of subclass same as superclass if nothing changed\n",
    "    - add additional assignment if new\n",
    "- use super to access the superclass constructor with subclass\n",
    "- same parameter in subclass overrides the parent class\n"
   ]
  },
  {
   "cell_type": "markdown",
   "metadata": {},
   "source": [
    "## Unit 10\n",
    "\n",
    "[Unit 10 Blog](https://iriisyang.github.io/Iris-Yang/collegeboard/2022/12/12/Unit10Recursion.html)\n",
    "- two parts to method\n",
    "    - repeat recursive call until return statement\n",
    "- base case returns number - purpose is to not have a recursive statement\n",
    "- binary sort\n",
    "    - most efficient method cut in half again and again\n",
    "- merge sort: sort arraylist, divide array into halves and merge together\n",
    "- cannot have void because it will not return anything\n",
    "- call stack - keeps track of how many times the recursive is called\n",
    "- iterations have set instructions use for and while loops\n",
    "    - recursions use function calls\n",
    "- linear recursion - single call to itself\n",
    "- selection sort - minimum from unsorted and putting it at the end of the sorted"
   ]
  }
 ],
 "metadata": {
  "kernelspec": {
   "display_name": "Java",
   "language": "java",
   "name": "java"
  },
  "language_info": {
   "name": "java"
  },
  "orig_nbformat": 4
 },
 "nbformat": 4,
 "nbformat_minor": 2
}
