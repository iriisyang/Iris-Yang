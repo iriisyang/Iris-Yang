{
 "cells": [
  {
   "cell_type": "markdown",
   "metadata": {},
   "source": [
    "# \"Test\"\n",
    "> \"Part 1 of test\"\n",
    "\n",
    "- toc:true\n",
    "- branch: master\n",
    "- badges: true\n",
    "- comments: true\n",
    "- author: Iris Yang\n",
    "- categories: [class]"
   ]
  },
  {
   "cell_type": "markdown",
   "metadata": {},
   "source": [
    "### class Book (Part 1)  Close Book\n",
    "1. Define 1 argument constructor for title, \n",
    "2. Define toString method for id and title.\n",
    "3. Generate unique id for each object\n",
    "4. Create a public getter that has Book Count\n",
    "5. Define tester method that initializes at least 2 books, outputs id and title, and provides a count of books in library."
   ]
  },
  {
   "cell_type": "code",
   "execution_count": 19,
   "metadata": {},
   "outputs": [
    {
     "name": "stdout",
     "output_type": "stream",
     "text": [
      "title: Big Bird id: 273922929\n",
      "title: Frankenstein id: 342637987\n",
      "the number of books is 2\n"
     ]
    }
   ],
   "source": [
    "public class Book {\n",
    "    String title;\n",
    "    private static int bookCount;\n",
    "\n",
    "    public Book (String title){ // constructor that gets the title\n",
    "        this.title = title;\n",
    "        bookCount++;\n",
    "    }\n",
    "\n",
    "    public String toString() {\n",
    "        return this.title;\n",
    "    }\n",
    "\n",
    "    public String toHashCode() {\n",
    "        return Integer.toString (this.hashCode());\n",
    "    }\n",
    "\n",
    "    public static int getCount(){\n",
    "        return Book.bookCount;\n",
    "    }\n",
    "\n",
    "    public static void main(String[] args) {\n",
    "        Book book1 = new Book(\"Big Bird\");\n",
    "        Book book2 = new Book(\"Frankenstein\");\n",
    "        System.out.println(\"title: \" + book1 + \" id: \" + book1.toHashCode());\n",
    "        System.out.println(\"title: \" + book2 + \" id: \" + book2.toHashCode());\n",
    "        System.out.println(\"the number of books is \" + Book.getCount());\n",
    "    }\n",
    "}\n",
    "\n",
    "Book.main(null);"
   ]
  },
  {
   "cell_type": "code",
   "execution_count": null,
   "metadata": {},
   "outputs": [],
   "source": []
  }
 ],
 "metadata": {
  "kernelspec": {
   "display_name": "Java",
   "language": "java",
   "name": "java"
  },
  "language_info": {
   "codemirror_mode": "java",
   "file_extension": ".jshell",
   "mimetype": "text/x-java-source",
   "name": "java",
   "pygments_lexer": "java",
   "version": "17.0.4+8"
  },
  "orig_nbformat": 4
 },
 "nbformat": 4,
 "nbformat_minor": 2
}
