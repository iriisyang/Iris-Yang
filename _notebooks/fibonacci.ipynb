{
 "cells": [
  {
   "cell_type": "markdown",
   "metadata": {},
   "source": [
    "# \"Fibonacci Classes\"\n",
    "> \"using for loops, while loops, and recursions to print fibonacci\"\n",
    "\n",
    "- toc: true\n",
    "- branch: master\n",
    "- badges: true\n",
    "- comments: true\n",
    "- author: Iris Yang\n",
    "- categories: [java]"
   ]
  },
  {
   "cell_type": "markdown",
   "metadata": {},
   "source": [
    "## For Loop\n",
    "while i is less than the n (term number), continuously add last two numbers together. the original first number is replaced by the second and the sum is used as the second term."
   ]
  },
  {
   "cell_type": "code",
   "execution_count": 17,
   "metadata": {
    "vscode": {
     "languageId": "java"
    }
   },
   "outputs": [
    {
     "name": "stdout",
     "output_type": "stream",
     "text": [
      "find nth term of the fibonacci sequence: 5\n",
      "0 1 1 2 3 "
     ]
    }
   ],
   "source": [
    "public class forfib {\n",
    "    public static void main(String[] args) {\n",
    "        Scanner input = new Scanner(System.in);\n",
    "        System.out.print(\"find nth term of the fibonacci sequence: \");\n",
    "        int nth = input.nextInt();\n",
    "        System.out.print(nth + \"\\n\");\n",
    "        \n",
    "        int first = 0;\n",
    "        int second = 1;\n",
    "\n",
    "        for (int i=1; i<=nth; i++){\n",
    "            System.out.print(first + \" \");\n",
    "            int fib = first + second;\n",
    "            first = second;\n",
    "            second = fib;\n",
    "        }\n",
    "\n",
    "    }\n",
    "}\n",
    "\n",
    "forfib.main(null);"
   ]
  },
  {
   "cell_type": "markdown",
   "metadata": {},
   "source": [
    "## While Loop\n",
    "very similar to for loop. same parameters except continuous adding not specified in parameter."
   ]
  },
  {
   "cell_type": "code",
   "execution_count": 26,
   "metadata": {
    "vscode": {
     "languageId": "java"
    }
   },
   "outputs": [
    {
     "name": "stdout",
     "output_type": "stream",
     "text": [
      "find nth term of the fibonacci sequence: 8\n",
      "0 1 1 2 3 5 8 13 "
     ]
    }
   ],
   "source": [
    "public class whilefib {\n",
    "    public static void main(String[] args) {\n",
    "        Scanner input = new Scanner(System.in);\n",
    "        System.out.print(\"find nth term of the fibonacci sequence: \");\n",
    "        int nth = input.nextInt();\n",
    "        System.out.print(nth + \"\\n\");\n",
    "        \n",
    "        int first = 0;\n",
    "        int second = 1;\n",
    "        int i=1;\n",
    "\n",
    "        while (i<=nth){\n",
    "            System.out.print(first + \" \");\n",
    "            int fib = first + second;\n",
    "            first = second;\n",
    "            second = fib;\n",
    "            i++;\n",
    "        }\n",
    "\n",
    "    }\n",
    "}\n",
    "\n",
    "whilefib.main(null);"
   ]
  },
  {
   "cell_type": "markdown",
   "metadata": {},
   "source": [
    "## Recursion\n",
    "the method calls itself. this method works the fastest since there is not loop repeating multiple times."
   ]
  },
  {
   "cell_type": "code",
   "execution_count": 24,
   "metadata": {
    "vscode": {
     "languageId": "java"
    }
   },
   "outputs": [
    {
     "name": "stdout",
     "output_type": "stream",
     "text": [
      "find nth term of the fibonacci sequence:5\n",
      "0 1 1 2 3 "
     ]
    }
   ],
   "source": [
    "class recursivefib {\n",
    "    static int fibonacci(int n)\n",
    "    {\n",
    "\n",
    "        if (n <= 1)\n",
    "            return n;\n",
    "  \n",
    "\n",
    "        return fibonacci(n - 1)\n",
    "            + fibonacci(n - 2);\n",
    "    }\n",
    "  \n",
    "\n",
    "    public static void main(String args[])\n",
    "    {\n",
    "        Scanner input = new Scanner(System.in);\n",
    "        System.out.print(\"find nth term of the fibonacci sequence: \");\n",
    " \n",
    "        int nth = input.nextInt();\n",
    "        System.out.print(nth + \"\\n\");\n",
    "        for (int i = 0; i < nth; i++) {\n",
    "            System.out.print(fibonacci(i) + \" \");\n",
    "        }\n",
    "    }\n",
    "}\n",
    "\n",
    "recursivefib.main(null)"
   ]
  }
 ],
 "metadata": {
  "kernelspec": {
   "display_name": "Java",
   "language": "java",
   "name": "java"
  },
  "language_info": {
   "codemirror_mode": "java",
   "file_extension": ".jshell",
   "mimetype": "text/x-java-source",
   "name": "Java",
   "pygments_lexer": "java",
   "version": "17.0.4+8"
  },
  "orig_nbformat": 4
 },
 "nbformat": 4,
 "nbformat_minor": 2
}
