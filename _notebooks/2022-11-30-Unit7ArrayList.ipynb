{
 "cells": [
  {
   "cell_type": "markdown",
   "metadata": {},
   "source": [
    "# \"Unit 7 Arrays List\"\n",
    "> \"student led lesson notes + homework\"\n",
    "\n",
    "- toc:true\n",
    "- branch: master\n",
    "- badges: true\n",
    "- comments: true\n",
    "- author: Iris Yang\n",
    "- categories: [collegeboard]"
   ]
  },
  {
   "cell_type": "markdown",
   "metadata": {},
   "source": [
    "## Array List\n",
    "- basketball like array - always 6 people\n",
    "- dodgeball like arraylist - number of people playing changes\n"
   ]
  },
  {
   "cell_type": "code",
   "execution_count": 5,
   "metadata": {
    "vscode": {
     "languageId": "java"
    }
   },
   "outputs": [
    {
     "name": "stdout",
     "output_type": "stream",
     "text": [
      "items[ripped jeans, rap music, black nail polish] Hetvi's favorite things. There are 3 things in the list\n",
      "items[ripped jeans, rap music, black nail polish, bleached hair] Hetvi's favorite things. There are 4 things in the list\n"
     ]
    }
   ],
   "source": [
    "import java.util.ArrayList; \n",
    "\n",
    "public class hack1 {\n",
    "    public static void main (String[] args) {\n",
    "        ArrayList<String> hetvifavs = new ArrayList<String>(Arrays.asList(\"ripped jeans\", \"rap music\", \"black nail polish\"));\n",
    "        System.out.println( \"items \" + hetvifavs + \" Hetvi's favorite things. There are \" + hetvifavs.size() + \" things in the list\" ); \n",
    "        \n",
    "        //objects you add must be of the same data type\n",
    "        hetvifavs.add(\"bleached hair\");\n",
    "        System.out.println( \"items \" + hetvifavs + \" Hetvi's favorite things. There are \" + hetvifavs.size() + \" things in the list\" ); \n",
    "    }\n",
    "}\n",
    "\n",
    "hack1.main(null);"
   ]
  },
  {
   "cell_type": "markdown",
   "metadata": {},
   "source": [
    "## Traversing ArrayLists\n",
    "\n",
    "- use for loops\n",
    "- use get() instead of bracket notation for getting an element of an arraylist\n",
    "- use size() to find number of elements in arraylist instead of using .length\n"
   ]
  },
  {
   "cell_type": "code",
   "execution_count": 7,
   "metadata": {
    "vscode": {
     "languageId": "java"
    }
   },
   "outputs": [
    {
     "name": "stdout",
     "output_type": "stream",
     "text": [
      "[green box, blue water]\n"
     ]
    }
   ],
   "source": [
    "import java.util.ArrayList;\n",
    "\n",
    "ArrayList<String> color = new ArrayList<String>(); \n",
    "color.add(\"red apple\");\n",
    "color.add(\"green box\");\n",
    "color.add(\"blue water\");\n",
    "color.add(\"red panda\");\n",
    "\n",
    "\n",
    "/*/ \n",
    "using \n",
    "\n",
    "if(color.get(i).contains(\"red\"))\n",
    "\n",
    "iterate through the arraylist and remove all elements that contain the word red in them\n",
    "/*/\n",
    "\n",
    "for (int i = 0; i<color.size(); i++) {\n",
    "    if (color.get(i).contains(\"red\")) {\n",
    "        color.remove(i);\n",
    "    }\n",
    "}\n",
    "\n",
    "System.out.println(color);\n",
    "\n"
   ]
  },
  {
   "cell_type": "code",
   "execution_count": 6,
   "metadata": {
    "vscode": {
     "languageId": "java"
    }
   },
   "outputs": [
    {
     "name": "stdout",
     "output_type": "stream",
     "text": [
      "9\n"
     ]
    }
   ],
   "source": [
    "ArrayList<Integer> num = new ArrayList<Integer>(); \n",
    "\n",
    "num.add(5);\n",
    "num.add(1);\n",
    "num.add(3);\n",
    "\n",
    "int sum = 0;\n",
    "for (int i : num){\n",
    "    sum += i;\n",
    "}\n",
    "System.out.println(sum);"
   ]
  },
  {
   "cell_type": "markdown",
   "metadata": {},
   "source": [
    "## Flagging\n",
    "- locate data in linear structure\n",
    "- usually use for loops - check one at a time\n",
    "- use the == operator or .=\n",
    "\n",
    "## Sorting\n",
    "- identify max or min value\n",
    "- building a sorted structure\n",
    "    - while loop as inner loop\n",
    "\n",
    "## Ethical Issues\n",
    "- minimize user data collection - remove data no longer needed\n",
    "- anonymize data with hash code\n"
   ]
  },
  {
   "cell_type": "markdown",
   "metadata": {},
   "source": [
    "## Quizzez Homework\n",
    "\n",
    "![This is an image](https://github.com/iriisyang/Iris-Yang/blob/master/images/Screen%20Shot%202022-12-04%20at%2010.51.28%20PM.png?raw=true)"
   ]
  }
 ],
 "metadata": {
  "kernelspec": {
   "display_name": "Java",
   "language": "java",
   "name": "java"
  },
  "language_info": {
   "codemirror_mode": "java",
   "file_extension": ".jshell",
   "mimetype": "text/x-java-source",
   "name": "Java",
   "pygments_lexer": "java",
   "version": "17.0.4+8"
  },
  "orig_nbformat": 4,
  "vscode": {
   "interpreter": {
    "hash": "b0fa6594d8f4cbf19f97940f81e996739fb7646882a419484c72d19e05852a7e"
   }
  }
 },
 "nbformat": 4,
 "nbformat_minor": 2
}
