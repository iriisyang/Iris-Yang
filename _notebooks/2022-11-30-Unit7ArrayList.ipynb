{
 "cells": [
  {
   "cell_type": "markdown",
   "metadata": {},
   "source": [
    "# \"Unit 7 Arrays List\"\n",
    "> \"student led lesson notes + homework\"\n",
    "\n",
    "- toc:true\n",
    "- branch: master\n",
    "- badges: true\n",
    "- comments: true\n",
    "- author: Iris Yang\n",
    "- categories: [collegeboard]"
   ]
  },
  {
   "cell_type": "markdown",
   "metadata": {},
   "source": [
    "## Array List\n",
    "- basketball like array - always 6 people\n",
    "- dodgeball like arraylist - number of people playing changes\n"
   ]
  },
  {
   "cell_type": "code",
   "execution_count": 1,
   "metadata": {
    "vscode": {
     "languageId": "java"
    }
   },
   "outputs": [
    {
     "name": "stdout",
     "output_type": "stream",
     "text": [
      "There are 3 in the list of Hetvi's favorite things\n",
      "There are now 4 in the list of Hetvi's favorite things\n"
     ]
    }
   ],
   "source": [
    "import java.util.ArrayList; \n",
    "\n",
    "public class hack1 {\n",
    "    public static void main (String[] args) {\n",
    "        ArrayList<String> hetvifavs = new ArrayList<String>(Arrays.asList(\"ripped jeans\", \"rap music\", \"black nail polish\"));\n",
    "        System.out.println(\"There are \" + hetvifavs.size() + \" in the list of Hetvi's favorite things\"); \n",
    "        \n",
    "        //objects you add must be of the same data type\n",
    "        hetvifavs.add(\"bleach hair\");\n",
    "        System.out.println(\"There are now \" + hetvifavs.size() + \" in the list of Hetvi's favorite things\"); \n",
    "    }\n",
    "}\n",
    "\n",
    "hack1.main(null);"
   ]
  },
  {
   "cell_type": "markdown",
   "metadata": {},
   "source": [
    "## Traversing ArrayLists\n",
    "\n",
    "- use for loops\n",
    "- use get() instead of bracket notation for getting an element of an arraylist\n",
    "- use size() to find number of elements in arraylist instead of using .length\n"
   ]
  },
  {
   "cell_type": "code",
   "execution_count": null,
   "metadata": {
    "vscode": {
     "languageId": "java"
    }
   },
   "outputs": [],
   "source": [
    "import java.util.ArrayList;\n",
    "\n",
    "ArrayList<String> color = new ArrayList<String>(); \n",
    "color.add(\"red apple\");\n",
    "color.add(\"green box\");\n",
    "color.add(\"blue water\");\n",
    "color.add(\"red panda\");\n",
    "\n",
    "\n",
    "/*/ \n",
    "using \n",
    "\n",
    "if(color.get(i).contains(\"red\"))\n",
    "\n",
    "iterate through the arraylist and remove all elements that contain the word red in them\n",
    "/*/\n",
    "\n",
    "if(color.get(i).contains(\"red\")) {\n",
    "    color.remove(\"red\");\n",
    "}\n",
    "\n",
    "return color;\n",
    "\n"
   ]
  },
  {
   "cell_type": "code",
   "execution_count": null,
   "metadata": {
    "vscode": {
     "languageId": "java"
    }
   },
   "outputs": [],
   "source": [
    "ArrayList<Integer> num = new ArrayList<Integer>(); \n",
    "\n",
    "num.add(5);\n",
    "num.add(1);\n",
    "num.add(3);\n",
    "\n",
    "for (int )"
   ]
  },
  {
   "cell_type": "markdown",
   "metadata": {},
   "source": [
    "## Flagging\n",
    "\n",
    "- locate data in linear structure\n",
    "- usually use for loops - check one at a time\n",
    "- use the == operator or .=\n",
    "\n",
    "## Sorting\n",
    "- identify max or min value\n",
    "- building a sorted structure\n",
    "    - while loop as inner loop\n",
    "\n",
    "## Ethical Issues\n",
    "- minimize user data collection - remove data no longer needed\n",
    "- anonymize data with hash code\n"
   ]
  }
 ],
 "metadata": {
  "kernelspec": {
   "display_name": "Java",
   "language": "java",
   "name": "java"
  },
  "language_info": {
   "codemirror_mode": "java",
   "file_extension": ".jshell",
   "mimetype": "text/x-java-source",
   "name": "Java",
   "pygments_lexer": "java",
   "version": "17.0.4+8"
  },
  "orig_nbformat": 4,
  "vscode": {
   "interpreter": {
    "hash": "b0fa6594d8f4cbf19f97940f81e996739fb7646882a419484c72d19e05852a7e"
   }
  }
 },
 "nbformat": 4,
 "nbformat_minor": 2
}
