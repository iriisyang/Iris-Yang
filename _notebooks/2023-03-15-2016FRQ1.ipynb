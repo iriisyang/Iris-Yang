{
 "cells": [
  {
   "cell_type": "markdown",
   "metadata": {},
   "source": [
    "# \"2016 FRQ 1\"\n",
    "> \"answer + explanation for method and control structure frq\"\n",
    "\n",
    "- toc: true\n",
    "- branch: master\n",
    "- badges: true\n",
    "- comments: true\n",
    "- author: Iris Yang\n",
    "- categories:[collegeboard]"
   ]
  },
  {
   "cell_type": "markdown",
   "metadata": {},
   "source": [
    "This question involves identifying and processing the digits of a non-negative integer. The declaration of the\n",
    "Digits class is shown below. You will write the constructor and one method for the Digits class. \n",
    "public class Digits \n",
    "\n",
    "{ \n",
    "\n",
    "/** The list of digits from the number used to construct this object. \n",
    "\n",
    "* The digits appear in the list in the same order in which they appear in the original number.\n",
    " */ \n",
    "\n",
    "private ArrayList<Integer> digitList; \n",
    "\n",
    "/** Constructs a Digits object that represents num.\n",
    " * Precondition: num >= 0\n",
    "*/ \n",
    "\n",
    "public Digits(int num) \n",
    "\n",
    "{ /* to be implemented in part (a) */ }\n",
    "\n",
    " /** Returns true if the digits in this Digits object are in strictly increasing order;\n",
    " * false otherwise.\n",
    " */ \n",
    "\n",
    "public boolean isStrictlyIncreasing() \n",
    "\n",
    "{ /* to be implemented in part (b) */ } \n",
    "\n",
    "}"
   ]
  },
  {
   "cell_type": "markdown",
   "metadata": {},
   "source": [
    "Write the constructor for the Digits class. The constructor initializes and fills digitList with the\n",
    "digits from the non-negative integer num. The elements in digitList must be Integer objects\n",
    "representing single digits, and appear in the same order as the digits in num. Each of the following\n",
    "examples shows the declaration of a Digits object and the contents of digitList as initialized by\n",
    "the constructor. "
   ]
  },
  {
   "cell_type": "code",
   "execution_count": null,
   "metadata": {},
   "outputs": [],
   "source": [
    "public Digits(int num) { // constructor - initializes an object\n",
    "    digitList = new ArrayList<Integer>();\n",
    "    if (num == 0) { // control structure, conditional statement\n",
    "        digitList.add(new Integer(0));\n",
    "    }\n",
    "    while (num > 0) {\n",
    "        digitList.add(0, new Integer(num % 10));\n",
    "        num /= 10;\n",
    "    }\n",
    "}"
   ]
  },
  {
   "cell_type": "markdown",
   "metadata": {},
   "source": [
    "Write the Digits method isStrictlyIncreasing. The method returns true if the elements of\n",
    "digitList appear in strictly increasing order; otherwise, it returns false. A list is considered strictly\n",
    "increasing if each element after the first is greater than (but not equal to) the preceding element.\n",
    "The following table shows the results of several calls to isStrictlyIncreasing. "
   ]
  },
  {
   "cell_type": "code",
   "execution_count": null,
   "metadata": {},
   "outputs": [],
   "source": [
    "public boolean isStrictlyIncreasing() { //use of boolean primitive, creates method\n",
    "    for (int i = 0; i < digitList.size()-1; i++) { // control structure, looping statement\n",
    "        if (digitList.get(i).intValue() >= digitList.get(i+1).intValue()) { // conditional statement\n",
    "        return false;\n",
    "        }\n",
    "    }\n",
    "return true;\n",
    "}"
   ]
  }
 ],
 "metadata": {
  "kernelspec": {
   "display_name": "Java",
   "language": "java",
   "name": "java"
  },
  "language_info": {
   "name": "java"
  },
  "orig_nbformat": 4
 },
 "nbformat": 4,
 "nbformat_minor": 2
}
