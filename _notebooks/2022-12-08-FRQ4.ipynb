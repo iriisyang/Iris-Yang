{
 "cells": [
  {
   "cell_type": "markdown",
   "metadata": {},
   "source": [
    "# \"2019 FRQ 4\"\n",
    "> \"complete college board frq 4 from 2019 ap test\"\n",
    "\n",
    "- toc:true\n",
    "- branch: master\n",
    "- badges: true\n",
    "- comments: true\n",
    "- author: Iris Yang\n",
    "- categories: [class]"
   ]
  },
  {
   "cell_type": "markdown",
   "metadata": {},
   "source": [
    "## Part A\n",
    "\n",
    "Write the constructor for the LightBoard class, which initializes lights so that each light is set to\n",
    "on with a 40% probability. The notation lights[r][c] represents the array element at row r and\n",
    "column c.\n",
    "Complete the LightBoard constructor below.\n",
    " /** Constructs a LightBoard object having numRows rows and numCols columns.\n",
    "Precondition: numRows > 0, numCols > 0\n",
    "Postcondition: each light has a 40% probability of being set to on.\n",
    "*/\n",
    "public LightBoard(int numRows, int numCols) "
   ]
  },
  {
   "cell_type": "code",
   "execution_count": null,
   "metadata": {},
   "outputs": [],
   "source": [
    "public LightBoard(int numRows, int numCols) {\n",
    "    lights = new boolean[numRows][numCols];\n",
    "    for (int r = 0; r < numRows; r++) {\n",
    "        for (int c = 0; c < numCols; c++) {\n",
    "            double onoff = Math.random();\n",
    "            lights[r][c] = onoff < 0.4;\n",
    "        }\n",
    "    }\n",
    "}"
   ]
  },
  {
   "cell_type": "markdown",
   "metadata": {},
   "source": [
    "- creates a new array called lights with booleans\n",
    "- sets all values based on the 40% probability"
   ]
  },
  {
   "cell_type": "markdown",
   "metadata": {},
   "source": [
    "## Part B\n",
    "\n",
    "Write the method evaluateLight, which computes and returns the status of a light at a given row and\n",
    "column based on the following rules.\n",
    "    1. If the light is on, return false if the number of lights in its column that are on is even, including\n",
    "    the current light.\n",
    "    2. If the light is off, return true if the number of lights in its column that are on is divisible by three.\n",
    "    3. Otherwise, return the light’s current status. "
   ]
  },
  {
   "cell_type": "code",
   "execution_count": null,
   "metadata": {},
   "outputs": [],
   "source": [
    "public boolean evaluateLight(int row, int col){\n",
    "    int lightsOn = 0;\n",
    "    for (int r = 0; r < lights.length; r++){\n",
    "        if (lights[r][col]){\n",
    "            lightsOn++;\n",
    "        }\n",
    "    }\n",
    "    if (lights[row][col] && lightsOn % 2 == 0){\n",
    "        return false;\n",
    "    }\n",
    "    if (!lights[row][col] && lightsOn % 3 == 0){\n",
    "        return true;\n",
    "    }\n",
    "    return lights[row][col];\n",
    "}"
   ]
  },
  {
   "cell_type": "markdown",
   "metadata": {},
   "source": [
    "- goes to specified column of the array\n",
    "- returns true/false depending on if statements or if the light is on/off"
   ]
  }
 ],
 "metadata": {
  "kernelspec": {
   "display_name": "Java",
   "language": "java",
   "name": "java"
  },
  "language_info": {
   "codemirror_mode": "java",
   "file_extension": ".jshell",
   "mimetype": "text/x-java-source",
   "name": "java",
   "pygments_lexer": "java",
   "version": "17.0.4+8"
  },
  "orig_nbformat": 4
 },
 "nbformat": 4,
 "nbformat_minor": 2
}
