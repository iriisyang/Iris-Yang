{
 "cells": [
  {
   "cell_type": "markdown",
   "metadata": {},
   "source": [
    "# \"Unit 5 Writing Objects\"\n",
    "> \"student led lesson notes + homework\"\n",
    "\n",
    "- toc:true\n",
    "- branch: master\n",
    "- badges: true\n",
    "- comments: true\n",
    "- author: Iris Yang\n",
    "- categories: [collegeboard]"
   ]
  },
  {
   "cell_type": "markdown",
   "metadata": {},
   "source": [
    "Classes\n",
    "- classes are \"blueprints\" that we use to instantiate objects\n",
    "- classes are an essential aspect of OOP\n",
    "\n",
    "Anatomy\n",
    "- Object\n",
    "    - state, attributes, behavior\n",
    "    - represented by an instance in the program\n",
    "- Class\n",
    "    - defines an abstract data type\n",
    "    - object references: string variable\n",
    "    - instance variables: attributes, behaviors, data for objects\n",
    "\n",
    "Functions\n",
    "- methods: the action or behavior of an object\n",
    "- constructor: special method for object instantiation, sets the initial values for variables, default constructors have no arguments\n",
    "- main: tests the class\n",
    "- accesser: accesses the values of variables, returns a copy of the variable\n",
    "- mutator: changes values of variables\n",
    "\n",
    "Writing Methods\n",
    "- method_definition(Modifiers, Return Type)\n",
    "- method_signature(Name, Parameters)\n",
    "- method_body(Code)\n",
    "- \"Object.method()\""
   ]
  },
  {
   "cell_type": "markdown",
   "metadata": {},
   "source": [
    "## Homework: 2021 FRQ 1a, 3a"
   ]
  },
  {
   "cell_type": "code",
   "execution_count": null,
   "metadata": {},
   "outputs": [],
   "source": [
    "public int scoreGuess (String guess)\n",
    "{\n",
    "    int count = 0;\n",
    "    for (int i = 0; i <= secret.length() - guess.length(); i++)\n",
    "    {\n",
    "        if (secret.substring(i, i + guess.length()).equals (guess))\n",
    "        {\n",
    "            count++;\n",
    "        }\n",
    "    }\n",
    "    return count * guess.length() * guess.length();\n",
    "}"
   ]
  },
  {
   "cell_type": "code",
   "execution_count": null,
   "metadata": {},
   "outputs": [],
   "source": [
    "public void addMembers(String[] names, int gradYear ){\n",
    "    \n",
    "    for( String n : names ){\n",
    "        memberList.add(new MemberInfo( n, gradYear, true) );\n",
    "    }\n",
    "    }"
   ]
  }
 ],
 "metadata": {
  "kernelspec": {
   "display_name": "Java",
   "language": "java",
   "name": "java"
  },
  "language_info": {
   "name": "java",
   "version": "3.10.6"
  },
  "orig_nbformat": 4,
  "vscode": {
   "interpreter": {
    "hash": "b0fa6594d8f4cbf19f97940f81e996739fb7646882a419484c72d19e05852a7e"
   }
  }
 },
 "nbformat": 4,
 "nbformat_minor": 2
}
