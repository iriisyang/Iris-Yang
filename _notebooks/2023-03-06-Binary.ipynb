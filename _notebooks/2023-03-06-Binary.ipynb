{
 "cells": [
  {
   "cell_type": "code",
   "execution_count": 4,
   "metadata": {
    "vscode": {
     "languageId": "java"
    }
   },
   "outputs": [
    {
     "name": "stdout",
     "output_type": "stream",
     "text": [
      "Add two binary numbers\n",
      "First number :\n",
      "1\n",
      "Second number :\n",
      "1\n",
      "1 + 1 = 10\n"
     ]
    }
   ],
   "source": [
    "import java.util.Scanner;\n",
    "\n",
    "public class Binary \n",
    "{ \n",
    "    public static void main(String[] args) \n",
    "    { \n",
    "        System.out.println(\"Add two binary numbers\"); \n",
    "        Scanner scnr = new Scanner(System.in); \n",
    "        System.out.println(\"First number :\"); \n",
    "        String first = scnr.next(); \n",
    "        System.out.println(first);\n",
    "        System.out.println(\"Second number :\"); \n",
    "        String second = scnr.next(); \n",
    "        System.out.println(second);\n",
    "        String addition = add(first, second); \n",
    "        System.out.println(first + \" + \" + second + \" = \" + addition); \n",
    "        scnr.close(); \n",
    "    }\n",
    "}\n",
    "\n",
    "public static String add(String first, String second) { \n",
    "    int b1 = Integer.parseInt(first, 2); // turns string into integer with base 2 (binary numbers)\n",
    "    int b2 = Integer.parseInt(second, 2); \n",
    "    int sum = b1 + b2; \n",
    "    return Integer.toBinaryString(sum); //returns as binary string\n",
    "}\n",
    "\n",
    "Binary.main(null);"
   ]
  }
 ],
 "metadata": {
  "kernelspec": {
   "display_name": "Java",
   "language": "java",
   "name": "java"
  },
  "language_info": {
   "codemirror_mode": "java",
   "file_extension": ".jshell",
   "mimetype": "text/x-java-source",
   "name": "Java",
   "pygments_lexer": "java",
   "version": "17.0.4+8"
  },
  "orig_nbformat": 4
 },
 "nbformat": 4,
 "nbformat_minor": 2
}
