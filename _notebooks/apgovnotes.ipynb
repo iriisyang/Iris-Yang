{
 "cells": [
  {
   "cell_type": "markdown",
   "metadata": {},
   "source": [
    "# \"AP Gov Notes\"\n",
    "> \"Notes for my other class\"\n",
    "\n",
    "- toc:true\n",
    "- branch: master\n",
    "- badges: true\n",
    "- comments: true\n",
    "- author: Iris Yang\n",
    "- categories: [fastpages, jupyter]\n"
   ]
  },
  {
   "cell_type": "markdown",
   "metadata": {},
   "source": [
    "## Forms of Government\n",
    "\n",
    "- Autocracy - one person with all power\n",
    "    - Monarchy - king or queen\n",
    "    - Power through family line - child gets power\n",
    "    - Modern times king/queen shares power with other parts of government\n",
    "    - Must also follow country’s constitution\n",
    "- Dictatorship - leader with total control\n",
    "    - May have constitution but constitution is controlled by dictator\n",
    "    - Other branches of government controlled by dictator\n",
    "    - Not representative of citizens\n",
    "- Democracy - citizens hold power\n",
    "    - Representative democracy - citizens elect representatives to act in their interest\n",
    "    - Elected leaders control issues\n",
    "    - Passing laws\n",
    "    - Work out solutions\n",
    "    - Citizens can vote in new officials if they do not like the current representatives\n",
    "- Direct democracy - citizens directly vote on governing of country\n",
    "    - Modern countries too large for direct dem\n",
    "- Oligarchy - few have the power\n",
    "    - Sometimes only certain group has political rights\n",
    "    - Junta - small group (military officers) forcefully take over country\n",
    "- Theocracy - God has authority\n",
    "    - Religious law\n",
    "    - Can also be other type of government within\n",
    "    - Ex: Iran follow Islamic law but citizens also elect leaders\n",
    "\n",
    "## Public Policy\n",
    "\n",
    "- Goals and programs created and implemented by govt\n",
    "- Purpose: create order, care for citizens\n",
    "- Various inputs - take long time\n",
    "\n",
    "## Liberals and Conservatives\n",
    "\n",
    "- Liberals \n",
    "    - Gov action to achieve equal opportunity for all\n",
    "    - Duty of gov to reduce/address community issues\n",
    "    - Duty of gov to protect civil liberties (freedoms)\n",
    "    - Role of gov to help provide basic needs for citizens\n",
    "    - Role of gov is to solve society’s problems\n",
    "    - Liberals are referred to as being on the left of the political spectrum\n",
    "- Conservatives\n",
    "    - Believe in personal responsibility\n",
    "    - Favor limited/smaller government\n",
    "    - Favor free market economy/few regulations\n",
    "    - Support individual liberty and traditional values\n",
    "    - Support a strong national defense\n",
    "    - Role of gov should be to provide people the freedom needed to pursue their own goals\n",
    "    - Conservative policies emphasize empowering people and non-governmental groups to solve problems\n",
    "    - Conservatives are referred to as being on the right of the political spectrum\n",
    "\n",
    "\n",
    "\n"
   ]
  }
 ],
 "metadata": {
  "kernelspec": {
   "display_name": "Python 3.10.6 64-bit",
   "language": "python",
   "name": "python3"
  },
  "language_info": {
   "name": "python",
   "version": "3.10.6"
  },
  "orig_nbformat": 4,
  "vscode": {
   "interpreter": {
    "hash": "b0fa6594d8f4cbf19f97940f81e996739fb7646882a419484c72d19e05852a7e"
   }
  }
 },
 "nbformat": 4,
 "nbformat_minor": 2
}
