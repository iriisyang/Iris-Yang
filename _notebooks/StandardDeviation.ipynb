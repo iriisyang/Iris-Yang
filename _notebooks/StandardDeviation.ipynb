{
 "cells": [
  {
   "cell_type": "markdown",
   "metadata": {},
   "source": [
    "# \"Standard Deviation Calculator\"\n",
    "> \"calculate standard deviation of a set of numbers\"\n",
    "\n",
    "- toc:true\n",
    "- branch: master\n",
    "- badges: true\n",
    "- comments: true\n",
    "- author: Iris Yang\n",
    "- categories: [class]"
   ]
  },
  {
   "cell_type": "code",
   "execution_count": 14,
   "metadata": {},
   "outputs": [
    {
     "name": "stdout",
     "output_type": "stream",
     "text": [
      "how many values would you like to find the standard deviation of?\n",
      "enter value: 24.0\n",
      "enter value: 26.0\n",
      "enter value: 28.0\n",
      "the standard deviation is 1.632993161855452"
     ]
    }
   ],
   "source": [
    "import java.util.Scanner;\n",
    "\n",
    "public class SDCalculator {\n",
    "    public static void main(String[] args) {\n",
    "        String userInputStr;\n",
    "        double sdNumber;\n",
    "        int numofNum;\n",
    "        Scanner inputStream = new Scanner(System.in);\n",
    "\n",
    "        System.out.print(\"how many values would you like to find the standard deviation of?\");\n",
    "        userInputStr = inputStream.nextLine();\n",
    "        numofNum = Integer.parseInt(userInputStr);\n",
    "\n",
    "        double[] nums = new double [numofNum]; //creates array with doubles, nomofNum number of values in the array\n",
    "        for (int i=0; i<numofNum; i++) \n",
    "        {\n",
    "            System.out.print(\"\\nenter value: \");\n",
    "            userInputStr = inputStream.nextLine();\n",
    "            nums[i] = Double.parseDouble(userInputStr);\n",
    "            System.out.print(nums[i]);\n",
    "        }\n",
    "\n",
    "        sdNumber = sdcalc(nums);\n",
    "        System.out.print(\"\\nthe standard deviation is \" +sdNumber);\n",
    "\n",
    "    }\n",
    "    static double sdcalc (double[] nums) {\n",
    "        double sum = 0.0;\n",
    "        for (int i=0; i<nums.length; i++) {\n",
    "            sum += nums[i];\n",
    "        }\n",
    "\n",
    "        double average = sum/nums.length;\n",
    "\n",
    "        double sdsum = 0.0;\n",
    "        double standev = 0.0;\n",
    "\n",
    "        for (int j=0; j<nums.length; j++) {\n",
    "            sdsum += Math.pow(nums[j]-average, 2);\n",
    "            standev = Math.sqrt(sdsum/nums.length);\n",
    "        }\n",
    "\n",
    "        return standev;\n",
    "    }\n",
    "}\n",
    "SDCalculator.main(null);"
   ]
  }
 ],
 "metadata": {
  "kernelspec": {
   "display_name": "Java",
   "language": "java",
   "name": "java"
  },
  "language_info": {
   "codemirror_mode": "java",
   "file_extension": ".jshell",
   "mimetype": "text/x-java-source",
   "name": "java",
   "pygments_lexer": "java",
   "version": "17.0.4+8"
  },
  "orig_nbformat": 4
 },
 "nbformat": 4,
 "nbformat_minor": 2
}
