{
 "cells": [
  {
   "cell_type": "code",
   "execution_count": null,
   "metadata": {
    "vscode": {
     "languageId": "java"
    }
   },
   "outputs": [],
   "source": [
    "# \"ArrayLists\"\n",
    "> \"using array lists to hold data\"\n",
    "\n",
    "- toc:true\n",
    "- branch: master\n",
    "- badges: true\n",
    "- comments: true\n",
    "- author: Iris Yang\n",
    "- categories: [java]"
   ]
  },
  {
   "cell_type": "markdown",
   "metadata": {},
   "source": [
    "# ArrayLists\n",
    "\n",
    "ArrayLists allows for elements to be added and removed from an array after it is made. In a normal array, a new one has to be made every time"
   ]
  },
  {
   "cell_type": "code",
   "execution_count": 14,
   "metadata": {
    "vscode": {
     "languageId": "java"
    }
   },
   "outputs": [],
   "source": [
    "import java.util.ArrayList; // import the ArrayList class\n",
    "\n",
    "ArrayList<String> mathTools = new ArrayList<String>(); // Create an ArrayList object"
   ]
  },
  {
   "cell_type": "markdown",
   "metadata": {},
   "source": [
    "add(int index, element)\n",
    "- adds an element "
   ]
  },
  {
   "cell_type": "code",
   "execution_count": 15,
   "metadata": {
    "vscode": {
     "languageId": "java"
    }
   },
   "outputs": [
    {
     "data": {
      "text/plain": [
       "true"
      ]
     },
     "execution_count": 15,
     "metadata": {},
     "output_type": "execute_result"
    }
   ],
   "source": [
    "mathTools.add(\"mean\");\n",
    "mathTools.add(\"median\");\n",
    "mathTools.add(\"mode\");"
   ]
  },
  {
   "cell_type": "code",
   "execution_count": 16,
   "metadata": {
    "vscode": {
     "languageId": "java"
    }
   },
   "outputs": [
    {
     "name": "stdout",
     "output_type": "stream",
     "text": [
      "math tools: [mean, median, mode, derivatives, integrals]\n",
      "\n",
      "calc: [derivatives, integrals]\n"
     ]
    }
   ],
   "source": [
    "ArrayList<String> calculus = new ArrayList<String>(); \n",
    "\n",
    "calculus.add(\"derivatives\");\n",
    "calculus.add(\"integrals\");\n",
    "\n",
    "\n",
    "mathTools.addAll(calculus);\n",
    "System.out.println(\"math tools: \" + statistics + \"\\n\");\n",
    "System.out.println(\"calc: \" + calculus);"
   ]
  },
  {
   "cell_type": "code",
   "execution_count": 17,
   "metadata": {
    "vscode": {
     "languageId": "java"
    }
   },
   "outputs": [
    {
     "name": "stdout",
     "output_type": "stream",
     "text": [
      "The number of listings in DN Marketplace is currently 5\n"
     ]
    }
   ],
   "source": [
    "System.out.println(\"The number of listings in DN Marketplace is currently \" + mathTools.size());"
   ]
  },
  {
   "cell_type": "code",
   "execution_count": 18,
   "metadata": {
    "vscode": {
     "languageId": "java"
    }
   },
   "outputs": [
    {
     "name": "stdout",
     "output_type": "stream",
     "text": [
      "calculus: []\n"
     ]
    }
   ],
   "source": [
    "calculus.clear();\n",
    "System.out.println(\"calculus: \" + calculus);"
   ]
  },
  {
   "cell_type": "code",
   "execution_count": 19,
   "metadata": {
    "vscode": {
     "languageId": "java"
    }
   },
   "outputs": [
    {
     "name": "stdout",
     "output_type": "stream",
     "text": [
      "math tools: [median, mode, derivatives, integrals]\n"
     ]
    }
   ],
   "source": [
    "mathTools.remove(0);\n",
    "System.out.println(\"math tools: \" + mathTools);"
   ]
  },
  {
   "cell_type": "code",
   "execution_count": 20,
   "metadata": {
    "vscode": {
     "languageId": "java"
    }
   },
   "outputs": [
    {
     "name": "stdout",
     "output_type": "stream",
     "text": [
      "math tools: [median, derivatives, integrals, mean]\n"
     ]
    }
   ],
   "source": [
    "mathTools.add(\"mean\");\n",
    "\n",
    "// removes PE Lock\n",
    "mathTools.remove(\"mode\");\n",
    "System.out.println(\"math tools: \" + mathTools);"
   ]
  },
  {
   "cell_type": "code",
   "execution_count": 21,
   "metadata": {
    "vscode": {
     "languageId": "java"
    }
   },
   "outputs": [
    {
     "name": "stdout",
     "output_type": "stream",
     "text": [
      "The first item listed is median\n"
     ]
    }
   ],
   "source": [
    "System.out.println(\"The first item listed is \" + mathTools.get(0));"
   ]
  },
  {
   "cell_type": "code",
   "execution_count": 22,
   "metadata": {
    "vscode": {
     "languageId": "java"
    }
   },
   "outputs": [
    {
     "name": "stdout",
     "output_type": "stream",
     "text": [
      "math tools: [standard deviation, derivatives, integrals, mean]\n"
     ]
    }
   ],
   "source": [
    "// replace the first term (index of 0)\n",
    "mathTools.set(0, \"standard deviation\");\n",
    "System.out.println(\"math tools: \" + mathTools);"
   ]
  },
  {
   "cell_type": "code",
   "execution_count": 27,
   "metadata": {
    "vscode": {
     "languageId": "java"
    }
   },
   "outputs": [
    {
     "name": "stdout",
     "output_type": "stream",
     "text": [
      "The index for mean is 3\n"
     ]
    }
   ],
   "source": [
    "System.out.println(\"The index for mean is \" + mathTools.indexOf(\"mean\"));"
   ]
  },
  {
   "cell_type": "code",
   "execution_count": 26,
   "metadata": {
    "vscode": {
     "languageId": "java"
    }
   },
   "outputs": [
    {
     "name": "stdout",
     "output_type": "stream",
     "text": [
      "The index for mode is -1\n"
     ]
    }
   ],
   "source": [
    "System.out.println(\"The index for mode is \" + mathTools.indexOf(\"mode\"));"
   ]
  },
  {
   "cell_type": "code",
   "execution_count": 29,
   "metadata": {
    "vscode": {
     "languageId": "java"
    }
   },
   "outputs": [
    {
     "name": "stdout",
     "output_type": "stream",
     "text": [
      "the math tools include noncalculus functions\n"
     ]
    }
   ],
   "source": [
    "if (mathTools.equals(calculus) == true) {\n",
    "    System.out.println(\"all the math tools are calculus\");\n",
    "}\n",
    "else {\n",
    "    System.out.println(\"the math tools include noncalculus functions\");\n",
    "}"
   ]
  },
  {
   "cell_type": "code",
   "execution_count": 30,
   "metadata": {
    "vscode": {
     "languageId": "java"
    }
   },
   "outputs": [
    {
     "name": "stdout",
     "output_type": "stream",
     "text": [
      "The hashcode for this list is -328112883\n"
     ]
    }
   ],
   "source": [
    "System.out.println(\"The hashcode for this list is \" + mathTools.hashCode());"
   ]
  },
  {
   "cell_type": "code",
   "execution_count": 31,
   "metadata": {
    "vscode": {
     "languageId": "java"
    }
   },
   "outputs": [
    {
     "name": "stdout",
     "output_type": "stream",
     "text": [
      "calculus tools empty is true\n"
     ]
    }
   ],
   "source": [
    "System.out.println(\"calculus tools empty is \" + calculus.isEmpty());"
   ]
  },
  {
   "cell_type": "code",
   "execution_count": 33,
   "metadata": {
    "vscode": {
     "languageId": "java"
    }
   },
   "outputs": [
    {
     "name": "stdout",
     "output_type": "stream",
     "text": [
      "math tools contains graphing is false\n"
     ]
    }
   ],
   "source": [
    "System.out.println(\"math tools contains graphing is \" + mathTools.contains(\"graphing\"));"
   ]
  },
  {
   "cell_type": "code",
   "execution_count": 34,
   "metadata": {
    "vscode": {
     "languageId": "java"
    }
   },
   "outputs": [
    {
     "name": "stdout",
     "output_type": "stream",
     "text": [
      "math tools contains all the calc tools\n"
     ]
    }
   ],
   "source": [
    "calculus.add(\"derivatives\");\n",
    "calculus.add(\"integrals\");\n",
    "\n",
    "if (mathTools.containsAll(calculus) == true) {\n",
    "    System.out.println(\"math tools contains all the calc tools\");\n",
    "}\n",
    "else {\n",
    "    System.out.println(\"math tools does not contain all the calc tools\");\n",
    "}"
   ]
  },
  {
   "cell_type": "code",
   "execution_count": 35,
   "metadata": {
    "vscode": {
     "languageId": "java"
    }
   },
   "outputs": [
    {
     "name": "stdout",
     "output_type": "stream",
     "text": [
      "Sorted math tools [derivatives, integrals, mean, standard deviation]\n"
     ]
    }
   ],
   "source": [
    "Collections.sort(mathTools);\n",
    "System.out.println(\"Sorted math tools \" + mathTools);"
   ]
  }
 ],
 "metadata": {
  "kernelspec": {
   "display_name": "Java",
   "language": "java",
   "name": "java"
  },
  "language_info": {
   "codemirror_mode": "java",
   "file_extension": ".jshell",
   "mimetype": "text/x-java-source",
   "name": "Java",
   "pygments_lexer": "java",
   "version": "17.0.4+8"
  },
  "orig_nbformat": 4,
  "vscode": {
   "interpreter": {
    "hash": "b0fa6594d8f4cbf19f97940f81e996739fb7646882a419484c72d19e05852a7e"
   }
  }
 },
 "nbformat": 4,
 "nbformat_minor": 2
}
