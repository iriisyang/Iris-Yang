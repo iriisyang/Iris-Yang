{
 "cells": [
  {
   "cell_type": "markdown",
   "metadata": {},
   "source": [
    "# \"Unit 1-5 HW and Vocab\"\n",
    "> \"grades and takeaways from student lessons unit 1-5\"\n",
    "\n",
    "- toc:true\n",
    "- branch: master\n",
    "- badges: true\n",
    "- comments: true\n",
    "- author: Iris Yang\n",
    "- categories: [collegeboard]"
   ]
  },
  {
   "cell_type": "markdown",
   "metadata": {},
   "source": [
    "| Unit   | Score  |\n",
    "| ------ | -----  |\n",
    "| 1      | 0.9/1  |\n",
    "| 2      | 0.95/1 |\n",
    "| 3      | own    |\n",
    "| 4      | 0.9/1  |\n",
    "| 5      | 1/1    |\n",
    "| total  | 3.75/4 |"
   ]
  },
  {
   "cell_type": "markdown",
   "metadata": {},
   "source": [
    "## Unit 1\n",
    "\n",
    "[Unit 1 Blog](https://iriisyang.github.io/Iris-Yang/collegeboard/2022/10/15/Unit1Primitive.html)\n",
    "- casting can be used to round or truncate answers\n",
    "    - also find answer as double even if previous are integers"
   ]
  },
  {
   "cell_type": "markdown",
   "metadata": {},
   "source": [
    "## Unit 2 \n",
    "\n",
    "[Unit 2 Blog](https://iriisyang.github.io/Iris-Yang/collegeboard/2022/10/16/Objects.html)\n",
    "- wrapper classes allow int and double to be set and changed\n",
    "- concatenation - add strings together\n",
    "    - use + or += or the method the concat()\n",
    "- main method runs execution using created methods\n",
    "    - can be used as a tester to ensure code works\n",
    "- public modifier allows method to be used by anyone\n",
    "- private can only be seen by the class which declares it\n",
    "- protected can be for class or subclass and package members\n",
    "- no modifier cannot be used with other packages using the same subclass\n",
    "- subclass extends class"
   ]
  },
  {
   "cell_type": "markdown",
   "metadata": {},
   "source": [
    "## Unit 3\n",
    "\n",
    "[Unit 3 Blog](https://iriisyang.github.io/Iris-Yang/collegeboard/2022/10/17/Unit3Ifs.html)\n",
    "- complex boolean expressions \n",
    "    - use && so that both expressions have to be true\n",
    "- similar logic of truth tables, demorgans, logic gates\n",
    "    - different outputs given if inputs are similar or not"
   ]
  },
  {
   "cell_type": "markdown",
   "metadata": {},
   "source": [
    "## Unit 4\n",
    "\n",
    "[Unit 4 Blog](https://iriisyang.github.io/Iris-Yang/collegeboard/2022/10/19/Iterations.html)\n",
    "- while, for, recursion loop\n",
    "    - while: while a condition is met, code will keep\n",
    "    - for: for as long as a condition is true, continue printing\n",
    "    - recursion: repeat over and over until end\n",
    "- nested - loop inside loop"
   ]
  },
  {
   "cell_type": "markdown",
   "metadata": {},
   "source": [
    "## Unit 5\n",
    "\n",
    "[Unit 5 Blog](https://iriisyang.github.io/Iris-Yang/collegeboard/2022/10/22/WritingObjects.html)\n",
    "- accessors access of get data \n",
    "- mutator method does not allow access to variable but allows for modification\n",
    "    - void return type allows edit of even private variable"
   ]
  }
 ],
 "metadata": {
  "kernelspec": {
   "display_name": "Java",
   "language": "java",
   "name": "java"
  },
  "language_info": {
   "name": "java"
  },
  "orig_nbformat": 4
 },
 "nbformat": 4,
 "nbformat_minor": 2
}
