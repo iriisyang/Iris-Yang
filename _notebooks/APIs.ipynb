{
 "cells": [
  {
   "cell_type": "markdown",
   "metadata": {},
   "source": [
    "# \"APIs\"\n",
    "> \"implementing an API\"\n",
    "\n",
    "- toc:true\n",
    "- branch: master\n",
    "- badges: true\n",
    "- comments: true\n",
    "- author: Iris Yang\n",
    "- categories: [java]\n"
   ]
  },
  {
   "cell_type": "code",
   "execution_count": 8,
   "metadata": {},
   "outputs": [
    {
     "name": "stdout",
     "output_type": "stream",
     "text": [
      "{\"team\":{\"category\":{\"flag\":\"exhibition\",\"id\":79,\"name\":\"Exhibition\",\"slug\":\"exhibition\",\"sport\":{\"id\":5,\"name\":\"Tennis\",\"slug\":\"tennis\"}},\"country\":{\"alpha2\":\"ES\",\"name\":\"Spain\"},\"fullName\":\"Nadal, Rafael\",\"gender\":\"M\",\"id\":14486,\"name\":\"Nadal R.\",\"nameCode\":\"NAD\",\"national\":false,\"playerTeamInfo\":{\"birthDateTimestamp\":518140800,\"birthplace\":\"Manacor, Mallorca, Spain\",\"height\":1.85,\"id\":2,\"plays\":\"left-handed\",\"prizeCurrent\":5582151,\"prizeCurrentRaw\":{\"currency\":\"EUR\",\"value\":5582151},\"prizeTotal\":109717872,\"prizeTotalRaw\":{\"currency\":\"EUR\",\"value\":109717872},\"residence\":\"Manacor, Mallorca, Spain\",\"turnedPro\":\"2001\",\"weight\":85},\"ranking\":2,\"shortName\":\"Nadal R.\",\"slug\":\"nadal-rafael\",\"sport\":{\"id\":5,\"name\":\"Tennis\",\"slug\":\"tennis\"},\"teamColors\":{\"primary\":\"#52b030\",\"secondary\":\"#52b030\",\"text\":\"#ffffff\"},\"tournament\":{\"category\":{\"flag\":\"atp\",\"id\":3,\"name\":\"ATP\",\"slug\":\"atp\",\"sport\":{\"id\":5,\"name\":\"Tennis\",\"slug\":\"tennis\"}},\"id\":93468,\"name\":\"French Open, Paris, France\",\"priority\":0,\"slug\":\"french-open-paris-france\",\"uniqueTournament\":{\"category\":{\"flag\":\"atp\",\"id\":3,\"name\":\"ATP\",\"slug\":\"atp\",\"sport\":{\"id\":5,\"name\":\"Tennis\",\"slug\":\"tennis\"}},\"displayInverseHomeAwayTeams\":false,\"id\":2480,\"name\":\"Roland Garros\",\"slug\":\"roland-garros\",\"userCount\":47572}},\"type\":1,\"userCount\":193809}}\n"
     ]
    }
   ],
   "source": [
    "import java.net.URI;\n",
    "import java.net.http.HttpClient;\n",
    "import java.net.http.HttpRequest;\n",
    "import java.net.http.HttpResponse;\n",
    "\n",
    "//RapidAPI header  https://rapidapi.com/plotly/api/plotly-1/\n",
    "HttpRequest request = HttpRequest.newBuilder()\n",
    "    .uri(URI.create(\"https://tennisapi1.p.rapidapi.com/api/tennis/player/14486\"))\n",
    "    .header(\"x-rapidapi-key\", \"ebb6f1a376mshadb02bb5506cb0fp127f56jsncb975393d040\")\n",
    "    .header(\"x-rapidapi-host\", \"tennisapi1.p.rapidapi.com\")\n",
    "    .method(\"GET\", HttpRequest.BodyPublishers.noBody())\n",
    "    .build();\n",
    "\n",
    "//RapidAPI request and response\n",
    "HttpResponse<String> response = HttpClient.newHttpClient().send(request, HttpResponse.BodyHandlers.ofString());\n",
    "\n",
    "//RapidAPI Body\n",
    "System.out.println(response.body());"
   ]
  },
  {
   "cell_type": "markdown",
   "metadata": {},
   "source": [
    "## Benefit of using an API?\n",
    "\n",
    "APIs allow for different applications to connect to each other. Often times, code is not built from scratch. Coders will use shared APIs and build off of them to create a more specialized program. They are easy to integrate and widen the reach of code. They are like electric sockets. Each electronic device does not need to have its own electricity generator but rather it can be plugged into the wall for electricity. Similarly, the APIs act as the wall socket that different code can be applied to the framework. This increases efficiency and innovation."
   ]
  },
  {
   "cell_type": "markdown",
   "metadata": {},
   "source": [
    "## Benefit(s) of backend implementation?\n",
    "\n",
    "Backend implementation allows for programs to be connected to cloud storage. It also allows for frontend applications so it is more more versatile. For example, if building an app, first building it with a backend API allows it to be used for not only apple products but also Sampson and Google. This could be useful for our PBL project as multiple people can access the same backend data."
   ]
  }
 ],
 "metadata": {
  "kernelspec": {
   "display_name": "Java",
   "language": "java",
   "name": "java"
  },
  "language_info": {
   "codemirror_mode": "java",
   "file_extension": ".jshell",
   "mimetype": "text/x-java-source",
   "name": "java",
   "pygments_lexer": "java",
   "version": "17.0.4+8"
  },
  "orig_nbformat": 4,
  "vscode": {
   "interpreter": {
    "hash": "b0fa6594d8f4cbf19f97940f81e996739fb7646882a419484c72d19e05852a7e"
   }
  }
 },
 "nbformat": 4,
 "nbformat_minor": 2
}
