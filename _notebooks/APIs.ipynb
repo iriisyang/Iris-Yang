{
 "cells": [
  {
   "cell_type": "markdown",
   "metadata": {},
   "source": [
    "# \"APIs\"\n",
    "> \"implementing an API\"\n",
    "\n",
    "- toc:true\n",
    "- branch: master\n",
    "- badges: true\n",
    "- comments: true\n",
    "- author: Iris Yang\n",
    "- categories: [java]\n"
   ]
  },
  {
   "cell_type": "code",
   "execution_count": 14,
   "metadata": {},
   "outputs": [
    {
     "name": "stdout",
     "output_type": "stream",
     "text": [
      "{\"albums\":[{\"album_type\":\"album\",\"artists\":[{\"external_urls\":{\"spotify\":\"https:\\/\\/open.spotify.com\\/artist\\/51DevdOxIJin6DB1FXJpD1\"},\"id\":\"51DevdOxIJin6DB1FXJpD1\",\"name\":\"UZI\",\"type\":\"artist\",\"uri\":\"spotify:artist:51DevdOxIJin6DB1FXJpD1\"}],\"copyrights\":[{\"text\":\"2021 M.O.B Entertainment Associated Label Of Govinet\",\"type\":\"C\"},{\"text\":\"2021 M.O.B Entertainment Associated Label Of Govinet\",\"type\":\"P\"}],\"external_ids\":{\"upc\":\"3616553578384\"},\"external_urls\":{\"spotify\":\"https:\\/\\/open.spotify.com\\/album\\/3IBcauSj5M2A6lTeffJzdv\"},\"genres\":[],\"id\":\"3IBcauSj5M2A6lTeffJzdv\",\"images\":[{\"height\":640,\"url\":\"https:\\/\\/i.scdn.co\\/image\\/ab67616d0000b27367c738a703dc979f5c3c52ef\",\"width\":640},{\"height\":300,\"url\":\"https:\\/\\/i.scdn.co\\/image\\/ab67616d00001e0267c738a703dc979f5c3c52ef\",\"width\":300},{\"height\":64,\"url\":\"https:\\/\\/i.scdn.co\\/image\\/ab67616d0000485167c738a703dc979f5c3c52ef\",\"width\":64}],\"label\":\"M.O.B. Entertainment\",\"name\":\"Kan\",\"popularity\":67,\"release_date\":\"2021-03-19\",\"release_date_precision\":\"day\",\"total_tracks\":10,\"tracks\":{\"items\":[{\"artists\":[{\"external_urls\":{\"spotify\":\"https:\\/\\/open.spotify.com\\/artist\\/51DevdOxIJin6DB1FXJpD1\"},\"id\":\"51DevdOxIJin6DB1FXJpD1\",\"name\":\"UZI\",\"type\":\"artist\",\"uri\":\"spotify:artist:51DevdOxIJin6DB1FXJpD1\"}],\"disc_number\":1,\"duration_ms\":211016,\"explicit\":true,\"external_urls\":{\"spotify\":\"https:\\/\\/open.spotify.com\\/track\\/5jvhTc0g18kwYQNUJM5C4e\"},\"id\":\"5jvhTc0g18kwYQNUJM5C4e\",\"is_local\":false,\"is_playable\":true,\"name\":\"Makina\",\"preview_url\":\"https:\\/\\/p.scdn.co\\/mp3-preview\\/2b3269e0d13e4acce9ed04ccf62a8411ebc1dd0b?cid=f6a40776580943a7bc5173125a1e8832\",\"track_number\":1,\"type\":\"track\",\"uri\":\"spotify:track:5jvhTc0g18kwYQNUJM5C4e\"},{\"artists\":[{\"external_urls\":{\"spotify\":\"https:\\/\\/open.spotify.com\\/artist\\/51DevdOxIJin6DB1FXJpD1\"},\"id\":\"51DevdOxIJin6DB1FXJpD1\",\"name\":\"UZI\",\"type\":\"artist\",\"uri\":\"spotify:artist:51DevdOxIJin6DB1FXJpD1\"}],\"disc_number\":1,\"duration_ms\":185458,\"explicit\":true,\"external_urls\":{\"spotify\":\"https:\\/\\/open.spotify.com\\/track\\/72t3CRd8YEFrlc3x0OVaob\"},\"id\":\"72t3CRd8YEFrlc3x0OVaob\",\"is_local\":false,\"is_playable\":true,\"name\":\"Umrumda De\\u011fil\",\"preview_url\":\"https:\\/\\/p.scdn.co\\/mp3-preview\\/643e8681081b41654b2ce7825038f98971b6c3ad?cid=f6a40776580943a7bc5173125a1e8832\",\"track_number\":2,\"type\":\"track\",\"uri\":\"spotify:track:72t3CRd8YEFrlc3x0OVaob\"},{\"artists\":[{\"external_urls\":{\"spotify\":\"https:\\/\\/open.spotify.com\\/artist\\/51DevdOxIJin6DB1FXJpD1\"},\"id\":\"51DevdOxIJin6DB1FXJpD1\",\"name\":\"UZI\",\"type\":\"artist\",\"uri\":\"spotify:artist:51DevdOxIJin6DB1FXJpD1\"},{\"external_urls\":{\"spotify\":\"https:\\/\\/open.spotify.com\\/artist\\/3BVPc9s4JXzM6O1InlLxED\"},\"id\":\"3BVPc9s4JXzM6O1InlLxED\",\"name\":\"Mavi\",\"type\":\"artist\",\"uri\":\"spotify:artist:3BVPc9s4JXzM6O1InlLxED\"}],\"disc_number\":1,\"duration_ms\":200000,\"explicit\":false,\"external_urls\":{\"spotify\":\"https:\\/\\/open.spotify.com\\/track\\/5TkQatzJqKafPgHQerZ0dL\"},\"id\":\"5TkQatzJqKafPgHQerZ0dL\",\"is_local\":false,\"is_playable\":true,\"name\":\"Gecenin I\\u00e7ine Gir\",\"preview_url\":\"https:\\/\\/p.scdn.co\\/mp3-preview\\/be51a0f59bb811b3bfbc10a6dcb33161ad92682a?cid=f6a40776580943a7bc5173125a1e8832\",\"track_number\":3,\"type\":\"track\",\"uri\":\"spotify:track:5TkQatzJqKafPgHQerZ0dL\"},{\"artists\":[{\"external_urls\":{\"spotify\":\"https:\\/\\/open.spotify.com\\/artist\\/51DevdOxIJin6DB1FXJpD1\"},\"id\":\"51DevdOxIJin6DB1FXJpD1\",\"name\":\"UZI\",\"type\":\"artist\",\"uri\":\"spotify:artist:51DevdOxIJin6DB1FXJpD1\"}],\"disc_number\":1,\"duration_ms\":243205,\"explicit\":true,\"external_urls\":{\"spotify\":\"https:\\/\\/open.spotify.com\\/track\\/6IW5ocUH5DRWagxkLTlbUS\"},\"id\":\"6IW5ocUH5DRWagxkLTlbUS\",\"is_local\":false,\"is_playable\":true,\"name\":\"Nedenini Sorma\",\"preview_url\":\"https:\\/\\/p.scdn.co\\/mp3-preview\\/411eb5e1677ccca22fc823776a6161e22496755d?cid=f6a40776580943a7bc5173125a1e8832\",\"track_number\":4,\"type\":\"track\",\"uri\":\"spotify:track:6IW5ocUH5DRWagxkLTlbUS\"},{\"artists\":[{\"external_urls\":{\"spotify\":\"https:\\/\\/open.spotify.com\\/artist\\/51DevdOxIJin6DB1FXJpD1\"},\"id\":\"51DevdOxIJin6DB1FXJpD1\",\"name\":\"UZI\",\"type\":\"artist\",\"uri\":\"spotify:artist:51DevdOxIJin6DB1FXJpD1\"},{\"external_urls\":{\"spotify\":\"https:\\/\\/open.spotify.com\\/artist\\/7GaMopkesD4KK9dNbgyO5D\"},\"id\":\"7GaMopkesD4KK9dNbgyO5D\",\"name\":\"Eko Fresh\",\"type\":\"artist\",\"uri\":\"spotify:artist:7GaMopkesD4KK9dNbgyO5D\"}],\"disc_number\":1,\"duration_ms\":152301,\"explicit\":true,\"external_urls\":{\"spotify\":\"https:\\/\\/open.spotify.com\\/track\\/1ijjjMFlM3Pe8t3ykXBzxk\"},\"id\":\"1ijjjMFlM3Pe8t3ykXBzxk\",\"is_local\":false,\"is_playable\":true,\"name\":\"Mahalle\",\"preview_url\":\"https:\\/\\/p.scdn.co\\/mp3-preview\\/2469d5e4d57efcec61c1fc2a5db1de048df766ed?cid=f6a40776580943a7bc5173125a1e8832\",\"track_number\":5,\"type\":\"track\",\"uri\":\"spotify:track:1ijjjMFlM3Pe8t3ykXBzxk\"},{\"artists\":[{\"external_urls\":{\"spotify\":\"https:\\/\\/open.spotify.com\\/artist\\/51DevdOxIJin6DB1FXJpD1\"},\"id\":\"51DevdOxIJin6DB1FXJpD1\",\"name\":\"UZI\",\"type\":\"artist\",\"uri\":\"spotify:artist:51DevdOxIJin6DB1FXJpD1\"}],\"disc_number\":1,\"duration_ms\":171880,\"explicit\":true,\"external_urls\":{\"spotify\":\"https:\\/\\/open.spotify.com\\/track\\/4a1WLOoydq7u011UG9jjC9\"},\"id\":\"4a1WLOoydq7u011UG9jjC9\",\"is_local\":false,\"is_playable\":true,\"name\":\"Krvn\",\"preview_url\":\"https:\\/\\/p.scdn.co\\/mp3-preview\\/6c6345ca9ac45a6ee7d42ea3e6b92ca8a5b015fd?cid=f6a40776580943a7bc5173125a1e8832\",\"track_number\":6,\"type\":\"track\",\"uri\":\"spotify:track:4a1WLOoydq7u011UG9jjC9\"},{\"artists\":[{\"external_urls\":{\"spotify\":\"https:\\/\\/open.spotify.com\\/artist\\/51DevdOxIJin6DB1FXJpD1\"},\"id\":\"51DevdOxIJin6DB1FXJpD1\",\"name\":\"UZI\",\"type\":\"artist\",\"uri\":\"spotify:artist:51DevdOxIJin6DB1FXJpD1\"}],\"disc_number\":1,\"duration_ms\":155010,\"explicit\":true,\"external_urls\":{\"spotify\":\"https:\\/\\/open.spotify.com\\/track\\/4hy4nY2PiYWx8qVXjpky3P\"},\"id\":\"4hy4nY2PiYWx8qVXjpky3P\",\"is_local\":false,\"is_playable\":true,\"name\":\"Vur\",\"preview_url\":\"https:\\/\\/p.scdn.co\\/mp3-preview\\/cb109e50e3e80196a74165234f0c213f668dcea9?cid=f6a40776580943a7bc5173125a1e8832\",\"track_number\":7,\"type\":\"track\",\"uri\":\"spotify:track:4hy4nY2PiYWx8qVXjpky3P\"},{\"artists\":[{\"external_urls\":{\"spotify\":\"https:\\/\\/open.spotify.com\\/artist\\/51DevdOxIJin6DB1FXJpD1\"},\"id\":\"51DevdOxIJin6DB1FXJpD1\",\"name\":\"UZI\",\"type\":\"artist\",\"uri\":\"spotify:artist:51DevdOxIJin6DB1FXJpD1\"},{\"external_urls\":{\"spotify\":\"https:\\/\\/open.spotify.com\\/artist\\/6dOAGo4z0syiCjbnlh4VSO\"},\"id\":\"6dOAGo4z0syiCjbnlh4VSO\",\"name\":\"Critical\",\"type\":\"artist\",\"uri\":\"spotify:artist:6dOAGo4z0syiCjbnlh4VSO\"}],\"disc_number\":1,\"duration_ms\":223608,\"explicit\":true,\"external_urls\":{\"spotify\":\"https:\\/\\/open.spotify.com\\/track\\/4PpYi6USHlY7OhOcDASnD3\"},\"id\":\"4PpYi6USHlY7OhOcDASnD3\",\"is_local\":false,\"is_playable\":true,\"name\":\"Davetiye\",\"preview_url\":\"https:\\/\\/p.scdn.co\\/mp3-preview\\/486dc2bf7447bfa3a53a5133566ebd8cb960790a?cid=f6a40776580943a7bc5173125a1e8832\",\"track_number\":8,\"type\":\"track\",\"uri\":\"spotify:track:4PpYi6USHlY7OhOcDASnD3\"},{\"artists\":[{\"external_urls\":{\"spotify\":\"https:\\/\\/open.spotify.com\\/artist\\/51DevdOxIJin6DB1FXJpD1\"},\"id\":\"51DevdOxIJin6DB1FXJpD1\",\"name\":\"UZI\",\"type\":\"artist\",\"uri\":\"spotify:artist:51DevdOxIJin6DB1FXJpD1\"},{\"external_urls\":{\"spotify\":\"https:\\/\\/open.spotify.com\\/artist\\/3R27mVPp04i87RNmvysZfY\"},\"id\":\"3R27mVPp04i87RNmvysZfY\",\"name\":\"Stap\",\"type\":\"artist\",\"uri\":\"spotify:artist:3R27mVPp04i87RNmvysZfY\"}],\"disc_number\":1,\"duration_ms\":196682,\"explicit\":true,\"external_urls\":{\"spotify\":\"https:\\/\\/open.spotify.com\\/track\\/5gx3dMxQGJ1JDw5qHarRqp\"},\"id\":\"5gx3dMxQGJ1JDw5qHarRqp\",\"is_local\":false,\"is_playable\":true,\"name\":\"Elhamdulillah\",\"preview_url\":\"https:\\/\\/p.scdn.co\\/mp3-preview\\/fd3af2e3f1dd5b85c19cf93aafb43ec6fe016e4b?cid=f6a40776580943a7bc5173125a1e8832\",\"track_number\":9,\"type\":\"track\",\"uri\":\"spotify:track:5gx3dMxQGJ1JDw5qHarRqp\"},{\"artists\":[{\"external_urls\":{\"spotify\":\"https:\\/\\/open.spotify.com\\/artist\\/51DevdOxIJin6DB1FXJpD1\"},\"id\":\"51DevdOxIJin6DB1FXJpD1\",\"name\":\"UZI\",\"type\":\"artist\",\"uri\":\"spotify:artist:51DevdOxIJin6DB1FXJpD1\"}],\"disc_number\":1,\"duration_ms\":192694,\"explicit\":false,\"external_urls\":{\"spotify\":\"https:\\/\\/open.spotify.com\\/track\\/4PUniKS3Cywu23xjdtoji5\"},\"id\":\"4PUniKS3Cywu23xjdtoji5\",\"is_local\":false,\"is_playable\":true,\"name\":\"Outro\",\"preview_url\":\"https:\\/\\/p.scdn.co\\/mp3-preview\\/f99d9c1793e55653e6d0234f9e94300a4a110074?cid=f6a40776580943a7bc5173125a1e8832\",\"track_number\":10,\"type\":\"track\",\"uri\":\"spotify:track:4PUniKS3Cywu23xjdtoji5\"}],\"limit\":50,\"next\":null,\"offset\":0,\"previous\":null,\"total\":10},\"type\":\"album\",\"uri\":\"spotify:album:3IBcauSj5M2A6lTeffJzdv\"}]}\n"
     ]
    }
   ],
   "source": [
    "import java.net.URI;\n",
    "import java.net.http.HttpClient;\n",
    "import java.net.http.HttpRequest;\n",
    "import java.net.http.HttpResponse;\n",
    "\n",
    "//RapidAPI header  https://rapidapi.com/plotly/api/plotly-1/\n",
    "HttpRequest request = HttpRequest.newBuilder()\n",
    "    .uri(URI.create(\"https://spotify23.p.rapidapi.com/albums/?ids=3IBcauSj5M2A6lTeffJzdv\"))\n",
    "    .header(\"x-rapidapi-key\", \"ebb6f1a376mshadb02bb5506cb0fp127f56jsncb975393d040\")\n",
    "    .header(\"x-rapidapi-host\", \"spotify23.p.rapidapi.com\")\n",
    "    .method(\"GET\", HttpRequest.BodyPublishers.noBody())\n",
    "    .build();\n",
    "\n",
    "//RapidAPI request and response\n",
    "HttpResponse<String> response = HttpClient.newHttpClient().send(request, HttpResponse.BodyHandlers.ofString());\n",
    "\n",
    "//RapidAPI Body\n",
    "System.out.println(response.body());"
   ]
  },
  {
   "cell_type": "markdown",
   "metadata": {},
   "source": [
    "## Benefit of using an API?\n",
    "\n",
    "APIs allow for different applications to connect to each other. Often times, code is not built from scratch. Coders will use shared APIs and build off of them to create a more specialized program. They are easy to integrate and widen the reach of code. They are like electric sockets. Each electronic device does not need to have its own electricity generator but rather it can be plugged into the wall for electricity. Similarly, the APIs act as the wall socket that different code can be applied to the framework. This increases efficiency and innovation."
   ]
  },
  {
   "cell_type": "markdown",
   "metadata": {},
   "source": [
    "## Benefit(s) of backend implementation?\n",
    "\n",
    "Backend implementation allows for programs to be connected to cloud storage. It also allows for frontend applications so it is more more versatile. For example, if building an app, first building it with a backend API allows it to be used for not only apple products but also Sampson and Google. This could be useful for our PBL project as multiple people can access the same backend data."
   ]
  }
 ],
 "metadata": {
  "kernelspec": {
   "display_name": "Java",
   "language": "java",
   "name": "java"
  },
  "language_info": {
   "codemirror_mode": "java",
   "file_extension": ".jshell",
   "mimetype": "text/x-java-source",
   "name": "java",
   "pygments_lexer": "java",
   "version": "17.0.4+8"
  },
  "orig_nbformat": 4,
  "vscode": {
   "interpreter": {
    "hash": "b0fa6594d8f4cbf19f97940f81e996739fb7646882a419484c72d19e05852a7e"
   }
  }
 },
 "nbformat": 4,
 "nbformat_minor": 2
}
