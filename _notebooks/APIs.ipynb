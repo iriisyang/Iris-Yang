{
 "cells": [
  {
   "cell_type": "markdown",
   "metadata": {},
   "source": [
    "# \"APIs\"\n",
    "> \"implementing an API\"\n",
    "\n",
    "- toc:true\n",
    "- branch: master\n",
    "- badges: true\n",
    "- comments: true\n",
    "- author: Iris Yang\n",
    "- categories: [java]\n"
   ]
  },
  {
   "cell_type": "code",
   "execution_count": 2,
   "metadata": {
    "vscode": {
     "languageId": "java"
    }
   },
   "outputs": [
    {
     "name": "stdout",
     "output_type": "stream",
     "text": [
      "{\"results\":[{\"entity\":{\"category\":null,\"country\":{\"alpha2\":\"ES\",\"name\":\"Spain\"},\"disabled\":null,\"displayInverseHomeAwayTeams\":null,\"firstName\":null,\"gender\":\"M\",\"id\":14486,\"lastName\":null,\"name\":\"Nadal R.\",\"nameCode\":\"NAD\",\"national\":false,\"position\":null,\"ranking\":2,\"shortName\":\"Nadal R.\",\"slug\":\"nadal-rafael\",\"sport\":{\"id\":5,\"name\":\"Tennis\",\"slug\":\"tennis\"},\"team\":null,\"teamColors\":{\"primary\":\"#52b030\",\"secondary\":\"#52b030\",\"text\":\"#ffffff\"},\"type\":1,\"userCount\":193809},\"score\":29476672,\"type\":\"team\"},{\"entity\":{\"category\":null,\"country\":{\"alpha2\":\"ES\",\"name\":\"Spain\"},\"disabled\":null,\"displayInverseHomeAwayTeams\":null,\"firstName\":null,\"gender\":\"M\",\"id\":373246,\"lastName\":null,\"name\":\"Nadal Vives J.\",\"nameCode\":\"NVJ\",\"national\":false,\"position\":null,\"ranking\":null,\"shortName\":\"Nadal Vives J.\",\"slug\":\"nadal-vives-joan\",\"sport\":{\"id\":5,\"name\":\"Tennis\",\"slug\":\"tennis\"},\"team\":null,\"teamColors\":{\"primary\":\"#52b030\",\"secondary\":\"#52b030\",\"text\":\"#ffffff\"},\"type\":1,\"userCount\":53},\"score\":7764,\"type\":\"team\"},{\"entity\":{\"category\":null,\"country\":{\"alpha2\":\"ES\",\"name\":\"Spain\"},\"disabled\":null,\"displayInverseHomeAwayTeams\":null,\"firstName\":null,\"gender\":\"M\",\"id\":373689,\"lastName\":null,\"name\":\"Nadal T.\",\"nameCode\":\"NTO\",\"national\":false,\"position\":null,\"ranking\":null,\"shortName\":\"Nadal T.\",\"slug\":\"nadal-toni\",\"sport\":{\"id\":5,\"name\":\"Tennis\",\"slug\":\"tennis\"},\"team\":null,\"teamColors\":{\"primary\":\"#52b030\",\"secondary\":\"#52b030\",\"text\":\"#ffffff\"},\"type\":1,\"userCount\":47},\"score\":7276,\"type\":\"team\"},{\"entity\":{\"category\":null,\"country\":{\"alpha2\":\"ES\",\"name\":\"Spain\"},\"disabled\":null,\"displayInverseHomeAwayTeams\":null,\"firstName\":null,\"gender\":\"M\",\"id\":391072,\"lastName\":null,\"name\":\"Nadal J.\",\"nameCode\":\"NJO\",\"national\":false,\"position\":null,\"ranking\":null,\"shortName\":\"Nadal J.\",\"slug\":\"nadal-joan\",\"sport\":{\"id\":5,\"name\":\"Tennis\",\"slug\":\"tennis\"},\"team\":null,\"teamColors\":{\"primary\":\"#52b030\",\"secondary\":\"#52b030\",\"text\":\"#ffffff\"},\"type\":1,\"userCount\":30},\"score\":4644,\"type\":\"team\"},{\"entity\":{\"category\":null,\"country\":{\"alpha2\":\"ES\",\"name\":\"Spain\"},\"disabled\":null,\"displayInverseHomeAwayTeams\":null,\"firstName\":null,\"gender\":null,\"id\":405104,\"lastName\":null,\"name\":\"Comas Nadal J.\",\"nameCode\":\"CNJ\",\"national\":false,\"position\":null,\"ranking\":null,\"shortName\":\"Comas Nadal J.\",\"slug\":\"comas-nadal-jaume\",\"sport\":{\"id\":5,\"name\":\"Tennis\",\"slug\":\"tennis\"},\"team\":null,\"teamColors\":{\"primary\":\"#52b030\",\"secondary\":\"#52b030\",\"text\":\"#ffffff\"},\"type\":1,\"userCount\":5},\"score\":724,\"type\":\"team\"}]}\n"
     ]
    }
   ],
   "source": [
    "import java.net.URI;\n",
    "import java.net.http.HttpClient;\n",
    "import java.net.http.HttpRequest;\n",
    "import java.net.http.HttpResponse;\n",
    "\n",
    "//RapidAPI header  https://rapidapi.com/plotly/api/plotly-1/\n",
    "HttpRequest request = HttpRequest.newBuilder()\n",
    "    .uri(URI.create(\"https://tennisapi1.p.rapidapi.com/api/tennis\"))\n",
    "    .header(\"x-rapidapi-key\", \"ebb6f1a376mshadb02bb5506cb0fp127f56jsncb975393d040\")\n",
    "    .header(\"x-rapidapi-host\", \"tennisapi1.p.rapidapi.com\")\n",
    "    .method(\"GET\", HttpRequest.BodyPublishers.noBody())\n",
    "    .build();\n",
    "\n",
    "//RapidAPI request and response\n",
    "HttpResponse<String> response = HttpClient.newHttpClient().send(request, HttpResponse.BodyHandlers.ofString());\n",
    "\n",
    "//RapidAPI Body\n",
    "System.out.println(response.body());"
   ]
  },
  {
   "cell_type": "markdown",
   "metadata": {},
   "source": [
    "## Benefit of using an API?\n",
    "\n",
    "APIs allow for different applications to connect to each other. Often times, code is not built from scratch. Coders will use shared APIs and build off of them to create a more specialized program. They are easy to integrate and widen the reach of code. They are like electric sockets. Each electronic device does not need to have its own electricity generator but rather it can be plugged into the wall for electricity. Similarly, the APIs act as the wall socket that different code can be applied to the framework. This increases efficiency and innovation."
   ]
  },
  {
   "cell_type": "markdown",
   "metadata": {},
   "source": [
    "## Benefit(s) of backend implementation?\n",
    "\n",
    "Backend implementation allows for programs to be connected to cloud storage. It also allows for frontend applications so it is more more versatile. For example, if building an app, first building it with a backend API allows it to be used for not only apple products but also Sampson and Google. This could be useful for our PBL project as multiple people can access the same backend data."
   ]
  }
 ],
 "metadata": {
  "kernelspec": {
   "display_name": "Java",
   "language": "java",
   "name": "java"
  },
  "language_info": {
   "codemirror_mode": "java",
   "file_extension": ".jshell",
   "mimetype": "text/x-java-source",
   "name": "Java",
   "pygments_lexer": "java",
   "version": "17.0.4+8"
  },
  "orig_nbformat": 4,
  "vscode": {
   "interpreter": {
    "hash": "b0fa6594d8f4cbf19f97940f81e996739fb7646882a419484c72d19e05852a7e"
   }
  }
 },
 "nbformat": 4,
 "nbformat_minor": 2
}
