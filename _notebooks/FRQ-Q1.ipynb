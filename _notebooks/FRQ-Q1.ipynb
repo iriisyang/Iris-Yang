{
 "cells": [
  {
   "cell_type": "markdown",
   "metadata": {},
   "source": [
    "# \"FRQ Type 1 Question\"\n",
    "> \"2019 FRQ Question 1\"\n",
    "\n",
    "- toc: true\n",
    "- branch: master\n",
    "- badges: true\n",
    "- comments: true\n",
    "- author: Iris Yang\n",
    "- categories: [java]"
   ]
  },
  {
   "cell_type": "markdown",
   "metadata": {},
   "source": [
    "## Part A\n",
    "\n",
    "Write the static method numberOfLeapYears, which returns the number of leap years between year1 and year2, inclusive.\n",
    "\n",
    "In order to calculate this value, a helper method is provided for you.\n",
    "- isLeapYear(year) returns true if year is a leap year and false otherwise.\n",
    "\n",
    "Complete method numberOfLeapYears below. You must use isLeapYear appropriately to\n",
    "receive full credit.\n",
    "/** Returns the number of leap years between year1 and year2, inclusive.\n",
    " * Precondition: 0 <= year1 <= year2\n",
    " */\n",
    " public static int numberOfLeapYears(int year1, int year2) "
   ]
  },
  {
   "cell_type": "code",
   "execution_count": 4,
   "metadata": {
    "vscode": {
     "languageId": "java"
    }
   },
   "outputs": [],
   "source": [
    "public static int numberOfLeapYears(int year1, int year2) { //method for counting number of leap years between year1 and year2\n",
    "    int numyears=0; //sets the counting of the number of leap years to the initial value of 0\n",
    "    for (x = year1; x <= year2; x++) { // x increases by 1 starting at year 1 until it reaches year 2\n",
    "        if (isLeapYear(x)) { // using method isLeapYear determines if each increasing year is a leap year\n",
    "            numyears++; // if the year is a leap year, 1 is added to the variable numyears\n",
    "        }\n",
    "    }\n",
    "    return numyears; // return the number of leap years between the two years\n",
    "}"
   ]
  },
  {
   "cell_type": "markdown",
   "metadata": {},
   "source": [
    "Scoring Guideline:\n",
    "- initiates numeric variable: int numyears=0\n",
    "- loops through each necessary year in the range: for (x = year1; x <= year2; x++)\n",
    "    - use a loop to test each year within range\n",
    "- Calls isLeapYear on some valid year in the range: if (isLeapYear(x))\n",
    "    - x is any year between year 1 and year 2 therefore a valid year in range\n",
    "- Updates count based on result of calling isLeapYear: numyears++\n",
    "    - in for and if loop so only counts if is LeapYear and within year range\n",
    "- Returns count of leap years: return numyears"
   ]
  },
  {
   "cell_type": "markdown",
   "metadata": {},
   "source": [
    "## Part B\n",
    "\n",
    "Write the static method dayOfWeek, which returns the integer value representing the day of the week for the given date (month, day, year), where 0 denotes Sunday, 1 denotes Monday, ..., and 6 denotes Saturday. For example, 2019 began on a Tuesday, and January 5 is the fifth day of 2019. As a result, January 5, 2019, fell on a Saturday, and the method call dayOfWeek(1, 5, 2019) returns 6.\n",
    "\n",
    "As another example, January 10 is the tenth day of 2019. As a result, January 10, 2019, fell on a Thursday, and the method call dayOfWeek(1, 10, 2019) returns 4.\n",
    "\n",
    "In order to calculate this value, two helper methods are provided for you.\n",
    "- firstDayOfYear(year) returns the integer value representing the day of the week for the first day of year, where 0 denotes Sunday, 1 denotes Monday, ..., and 6 denotes Saturday. For example, since 2019 began on a Tuesday, firstDayOfYear(2019) returns 2.\n",
    "- dayOfYear(month, day, year) returns n, where month, day, and year specify the nth day of the year. For the first day of the year, January 1 (month = 1, day = 1), the value 1 is returned. This method accounts for whether year is a leap year. For example, dayOfYear(3, 1, 2017) returns 60, since 2017 is not a leap year, while dayOfYear(3, 1, 2016) returns 61, since 2016 is a leap year. \n",
    "\n",
    "public class APCalendar\n",
    "- private static boolean isLeapYear(int year)\n",
    "- public static int numberOfLeapYears(int year1, int year2)\n",
    "- private static int firstDayOfYear(int year)\n",
    "- private static int dayOfYear(int month, int day, int year)\n",
    "- public static int dayOfWeek(int month, int day, int year) "
   ]
  },
  {
   "cell_type": "code",
   "execution_count": null,
   "metadata": {
    "vscode": {
     "languageId": "java"
    }
   },
   "outputs": [],
   "source": [
    "public static int dayOfWeek(int month, int day, int year) { //method for determining the day of the week of any given day in a year\n",
    "    int firstday = firstDayofYear(year); // sets the integer first day as the number corresponding with the day of the week of that year\n",
    "    int numdays = dayofYear(month, day, year); // sets integer for the nth day of that year (considers leap years)\n",
    "    int weekday = (firstday + numdays -1)%7; // finds the day of the week by adding the nth day to the first day and finding the remainder when dividing by the number of days in each week\n",
    "    return weekday; //return the value to be found\n",
    "}"
   ]
  },
  {
   "cell_type": "markdown",
   "metadata": {},
   "source": [
    "Scoring Guideline:\n",
    "- Calls firstDayOfYear: int firstday = firstDayofYear(year)\n",
    "- Calls dayOfYear: int numdays = dayofYear(month, day, year)\n",
    "- Calculates the value representing the day of the week: int weekday = (firstday + numdays -1)%7\n",
    "- Returns the calculated value: return weekday"
   ]
  }
 ],
 "metadata": {
  "kernelspec": {
   "display_name": "Java",
   "language": "java",
   "name": "java"
  },
  "language_info": {
   "codemirror_mode": "java",
   "file_extension": ".jshell",
   "mimetype": "text/x-java-source",
   "name": "Java",
   "pygments_lexer": "java",
   "version": "17.0.4+8"
  },
  "orig_nbformat": 4
 },
 "nbformat": 4,
 "nbformat_minor": 2
}
