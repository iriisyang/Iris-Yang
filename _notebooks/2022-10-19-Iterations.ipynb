{
 "cells": [
  {
   "cell_type": "markdown",
   "metadata": {},
   "source": [
    "# \"Unit 4 Iterations\"\n",
    "> \"student led lesson notes + homework\"\n",
    "\n",
    "- toc:true\n",
    "- branch: master\n",
    "- badges: true\n",
    "- comments: true\n",
    "- author: Iris Yang\n",
    "- categories: [collegeboard]"
   ]
  },
  {
   "cell_type": "markdown",
   "metadata": {},
   "source": [
    "## Iterations\n",
    "- make code shorter - simplify repeating code into simpler section"
   ]
  },
  {
   "cell_type": "markdown",
   "metadata": {},
   "source": [
    "## While Loop\n",
    "- while a condition is met, code will keep \n",
    "- do while loop - execute not matter what"
   ]
  },
  {
   "cell_type": "markdown",
   "metadata": {},
   "source": [
    "## For Loop\n",
    "- for as long as a condition is true, continue printing"
   ]
  },
  {
   "cell_type": "markdown",
   "metadata": {},
   "source": [
    "## Recursion Loop\n",
    "- own function that repeats over and over again"
   ]
  },
  {
   "cell_type": "markdown",
   "metadata": {},
   "source": [
    "## Nested Iteration\n",
    "- not a official loop\n",
    "- put loop inside loop - can use any of the pervious loops"
   ]
  },
  {
   "cell_type": "code",
   "execution_count": 7,
   "metadata": {
    "vscode": {
     "languageId": "java"
    }
   },
   "outputs": [
    {
     "name": "stdout",
     "output_type": "stream",
     "text": [
      "Enter a number in the range of 1 through 100: Invalid input. Enter a number in the range of 1 through 100: "
     ]
    }
   ],
   "source": [
    "import java.util.Scanner;\n",
    "\n",
    "public class Checker \n",
    "{\n",
    "    public static void main(String[] args) \n",
    "    {\n",
    "        int number;  \n",
    "\t\n",
    "        // Create a Scanner object for keyboard input.  \n",
    "        Scanner keyboard = new Scanner(System.in);  \n",
    "             \n",
    "        // Get a number from the user.  \n",
    "        System.out.print(\"Enter a number in the range of 1 through 100: \");  \n",
    "        number = keyboard.nextInt();  \n",
    "\n",
    "        while (number < 1 || number > 100)\n",
    "        {  \n",
    "           System.out.print(\"Invalid input. Enter a number in the range \" +  \n",
    "                            \"of 1 through 100: \");  \n",
    "           number = keyboard.nextInt();  \n",
    "        } \n",
    "    }\n",
    "}\n",
    "Checker.main(null)"
   ]
  },
  {
   "cell_type": "code",
   "execution_count": 6,
   "metadata": {
    "vscode": {
     "languageId": "java"
    }
   },
   "outputs": [
    {
     "name": "stdout",
     "output_type": "stream",
     "text": [
      "count is 0\n",
      "count is 1\n",
      "count is 2\n",
      "count is 3\n",
      "count is 4\n"
     ]
    }
   ],
   "source": [
    "public class LoopConversion \n",
    "{\n",
    "    public static void main(String[] args) \n",
    "    {\n",
    "        int count = 0;\n",
    "        //convert to for loop\n",
    "        for (count=0; count<5; count++)\n",
    "        {\n",
    "            System.out.println(\"count is \" + count);\n",
    "        }\n",
    "\n",
    "    }\n",
    "}\n",
    "LoopConversion.main(null)"
   ]
  },
  {
   "cell_type": "code",
   "execution_count": 13,
   "metadata": {
    "vscode": {
     "languageId": "java"
    }
   },
   "outputs": [
    {
     "name": "stdout",
     "output_type": "stream",
     "text": [
      "0\n",
      "1\n",
      "2\n",
      "3\n",
      "4\n"
     ]
    }
   ],
   "source": [
    "public class ForLoop\n",
    "{\n",
    "    public static void main(String[] args) \n",
    "    {\n",
    "        int i = 0;\n",
    "        //convert to for loop\n",
    "        for (i=0; i<5; i++)\n",
    "        {\n",
    "            System.out.println(i);\n",
    "        }\n",
    "\n",
    "    }\n",
    "}\n",
    "ForLoop.main(null)"
   ]
  },
  {
   "cell_type": "code",
   "execution_count": 12,
   "metadata": {
    "vscode": {
     "languageId": "java"
    }
   },
   "outputs": [
    {
     "name": "stdout",
     "output_type": "stream",
     "text": [
      "0\n",
      "1\n",
      "2\n",
      "3\n",
      "4\n"
     ]
    }
   ],
   "source": [
    "public class WhileLoop\n",
    "{\n",
    "    public static void main(String[] args) \n",
    "    {\n",
    "        int i = 0;\n",
    "        //convert to for loop\n",
    "        while (i<5)\n",
    "        {\n",
    "            System.out.println(i);\n",
    "            i++;\n",
    "        }\n",
    "\n",
    "    }\n",
    "}\n",
    "WhileLoop.main(null)"
   ]
  },
  {
   "cell_type": "markdown",
   "metadata": {},
   "source": [
    "## Homework 1\n",
    "\n",
    "Write a program where a random number is generated. Then the user tries to guess the number. If they guess too high display something to let them know, and same for if they guess a number that is too low. The loop must iterate until the number is guessed correctly."
   ]
  },
  {
   "cell_type": "code",
   "execution_count": 2,
   "metadata": {
    "vscode": {
     "languageId": "java"
    }
   },
   "outputs": [
    {
     "name": "stdout",
     "output_type": "stream",
     "text": [
      "A number is chosen between 1 to 100.Guess the number within 5 trials.\n",
      "Guess a number:\n",
      "The number is less than 50\n",
      "Guess a number:\n",
      "The number is greater than 25\n",
      "Guess a number:\n",
      "The number is greater than 37\n",
      "Guess a number:\n",
      "The number is greater than 45\n",
      "Guess a number:\n",
      "You guessed the number.\n"
     ]
    }
   ],
   "source": [
    "import java.util.Scanner;\n",
    " \n",
    "public class Numberguesser {\n",
    "\n",
    "    public static void\n",
    "    guessnumber()\n",
    "    {\n",
    "        \n",
    "        Scanner scanner = new Scanner(System.in);\n",
    " \n",
    "        int number = 1 + (int)(100* Math.random());\n",
    " \n",
    "        int i, guess;\n",
    " \n",
    "        System.out.println(\n",
    "            \"A number is chosen between 1 to 100.\"\n",
    "            + \"Guess the number\"\n",
    "            + \" within 5 trials.\");\n",
    " \n",
    "\n",
    "        for (i = 0; i < 5; i++) {\n",
    " \n",
    "            System.out.println(\n",
    "                \"Guess a number:\");\n",
    " \n",
    "\n",
    "            guess = scanner.nextInt();\n",
    "\n",
    "            if (number == guess) {\n",
    "                System.out.println(\"You guessed the number.\");\n",
    "                break;\n",
    "            }\n",
    "            else if (number > guess&& i != 5 - 1) {\n",
    "                System.out.println(\"The number is greater than \" + guess);\n",
    "            }\n",
    "            else if (number < guess && i != 5 - 1) {\n",
    "                System.out.println(\"The number is less than \" + guess);\n",
    "            }\n",
    "        }\n",
    " \n",
    "        if (i == 5) {\n",
    "            System.out.println(\n",
    "                \"You have used all 5 trials.\");\n",
    " \n",
    "            System.out.println(\n",
    "                \"The number was \" + number);\n",
    "        }\n",
    "    }\n",
    " \n",
    "    // Driver Code\n",
    "    public static void\n",
    "    main(String arg[])\n",
    "    {\n",
    " \n",
    "        // Function Call\n",
    "        guessnumber();\n",
    "    }\n",
    "}\n",
    "\n",
    "Numberguesser.main(null);"
   ]
  },
  {
   "cell_type": "markdown",
   "metadata": {},
   "source": [
    "## Quiz\n",
    "\n",
    "![This is an image](https://github.com/iriisyang/Iris-Yang/blob/master/images/iterationsquiz.png?raw=true)"
   ]
  }
 ],
 "metadata": {
  "kernelspec": {
   "display_name": "Java",
   "language": "java",
   "name": "java"
  },
  "language_info": {
   "codemirror_mode": "java",
   "file_extension": ".jshell",
   "mimetype": "text/x-java-source",
   "name": "Java",
   "pygments_lexer": "java",
   "version": "17.0.4+8"
  },
  "orig_nbformat": 4
 },
 "nbformat": 4,
 "nbformat_minor": 2
}
